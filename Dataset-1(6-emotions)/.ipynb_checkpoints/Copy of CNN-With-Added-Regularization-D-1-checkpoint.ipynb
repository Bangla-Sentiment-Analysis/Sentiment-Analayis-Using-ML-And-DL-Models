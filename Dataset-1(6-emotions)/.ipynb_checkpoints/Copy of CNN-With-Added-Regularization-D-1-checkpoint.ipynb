{
 "cells": [
  {
   "cell_type": "code",
   "execution_count": 2,
   "metadata": {
    "colab": {
     "base_uri": "https://localhost:8080/"
    },
    "executionInfo": {
     "elapsed": 32117,
     "status": "ok",
     "timestamp": 1740266363133,
     "user": {
      "displayName": "Faisal Hasan Emon",
      "userId": "09464622889471399138"
     },
     "user_tz": -360
    },
    "id": "LGnIEaeuTLDI",
    "outputId": "f78886a2-d9fb-4c8a-ad62-b6871a8cc128"
   },
   "outputs": [
    {
     "name": "stdout",
     "output_type": "stream",
     "text": [
      "Mounted at /content/drive\n"
     ]
    }
   ],
   "source": [
    "#Mount Google Drive\n",
    "from google.colab import drive\n",
    "drive.mount('/content/drive')"
   ]
  },
  {
   "cell_type": "code",
   "execution_count": 3,
   "metadata": {
    "colab": {
     "base_uri": "https://localhost:8080/"
    },
    "executionInfo": {
     "elapsed": 39474,
     "status": "ok",
     "timestamp": 1740266402609,
     "user": {
      "displayName": "Faisal Hasan Emon",
      "userId": "09464622889471399138"
     },
     "user_tz": -360
    },
    "id": "T8Z851Oxnu7l",
    "outputId": "fd7344b4-22c1-46cb-be1f-ca8a4072d8e2"
   },
   "outputs": [
    {
     "name": "stdout",
     "output_type": "stream",
     "text": [
      "Collecting bnltk\n",
      "  Downloading bnltk-0.7.8-py3-none-any.whl.metadata (5.1 kB)\n",
      "Collecting black==24.10.0 (from bnltk)\n",
      "  Downloading black-24.10.0-cp311-cp311-manylinux_2_17_x86_64.manylinux2014_x86_64.manylinux_2_28_x86_64.whl.metadata (79 kB)\n",
      "\u001b[2K     \u001b[90m━━━━━━━━━━━━━━━━━━━━━━━━━━━━━━━━━━━━━━━━\u001b[0m \u001b[32m79.2/79.2 kB\u001b[0m \u001b[31m5.1 MB/s\u001b[0m eta \u001b[36m0:00:00\u001b[0m\n",
      "\u001b[?25hCollecting keras==3.6.0 (from bnltk)\n",
      "  Downloading keras-3.6.0-py3-none-any.whl.metadata (5.8 kB)\n",
      "Collecting numpy==2.0.2 (from bnltk)\n",
      "  Downloading numpy-2.0.2-cp311-cp311-manylinux_2_17_x86_64.manylinux2014_x86_64.whl.metadata (60 kB)\n",
      "\u001b[2K     \u001b[90m━━━━━━━━━━━━━━━━━━━━━━━━━━━━━━━━━━━━━━━━\u001b[0m \u001b[32m60.9/60.9 kB\u001b[0m \u001b[31m3.2 MB/s\u001b[0m eta \u001b[36m0:00:00\u001b[0m\n",
      "\u001b[?25hRequirement already satisfied: requests==2.32.3 in /usr/local/lib/python3.11/dist-packages (from bnltk) (2.32.3)\n",
      "Collecting scikit-learn==1.5.2 (from bnltk)\n",
      "  Downloading scikit_learn-1.5.2-cp311-cp311-manylinux_2_17_x86_64.manylinux2014_x86_64.whl.metadata (13 kB)\n",
      "Requirement already satisfied: tensorflow==2.18.0 in /usr/local/lib/python3.11/dist-packages (from bnltk) (2.18.0)\n",
      "Requirement already satisfied: click>=8.0.0 in /usr/local/lib/python3.11/dist-packages (from black==24.10.0->bnltk) (8.1.8)\n",
      "Collecting mypy-extensions>=0.4.3 (from black==24.10.0->bnltk)\n",
      "  Downloading mypy_extensions-1.0.0-py3-none-any.whl.metadata (1.1 kB)\n",
      "Requirement already satisfied: packaging>=22.0 in /usr/local/lib/python3.11/dist-packages (from black==24.10.0->bnltk) (24.2)\n",
      "Collecting pathspec>=0.9.0 (from black==24.10.0->bnltk)\n",
      "  Downloading pathspec-0.12.1-py3-none-any.whl.metadata (21 kB)\n",
      "Requirement already satisfied: platformdirs>=2 in /usr/local/lib/python3.11/dist-packages (from black==24.10.0->bnltk) (4.3.6)\n",
      "Requirement already satisfied: absl-py in /usr/local/lib/python3.11/dist-packages (from keras==3.6.0->bnltk) (1.4.0)\n",
      "Requirement already satisfied: rich in /usr/local/lib/python3.11/dist-packages (from keras==3.6.0->bnltk) (13.9.4)\n",
      "Requirement already satisfied: namex in /usr/local/lib/python3.11/dist-packages (from keras==3.6.0->bnltk) (0.0.8)\n",
      "Requirement already satisfied: h5py in /usr/local/lib/python3.11/dist-packages (from keras==3.6.0->bnltk) (3.12.1)\n",
      "Requirement already satisfied: optree in /usr/local/lib/python3.11/dist-packages (from keras==3.6.0->bnltk) (0.14.0)\n",
      "Requirement already satisfied: ml-dtypes in /usr/local/lib/python3.11/dist-packages (from keras==3.6.0->bnltk) (0.4.1)\n",
      "Requirement already satisfied: charset-normalizer<4,>=2 in /usr/local/lib/python3.11/dist-packages (from requests==2.32.3->bnltk) (3.4.1)\n",
      "Requirement already satisfied: idna<4,>=2.5 in /usr/local/lib/python3.11/dist-packages (from requests==2.32.3->bnltk) (3.10)\n",
      "Requirement already satisfied: urllib3<3,>=1.21.1 in /usr/local/lib/python3.11/dist-packages (from requests==2.32.3->bnltk) (2.3.0)\n",
      "Requirement already satisfied: certifi>=2017.4.17 in /usr/local/lib/python3.11/dist-packages (from requests==2.32.3->bnltk) (2025.1.31)\n",
      "Requirement already satisfied: scipy>=1.6.0 in /usr/local/lib/python3.11/dist-packages (from scikit-learn==1.5.2->bnltk) (1.13.1)\n",
      "Requirement already satisfied: joblib>=1.2.0 in /usr/local/lib/python3.11/dist-packages (from scikit-learn==1.5.2->bnltk) (1.4.2)\n",
      "Requirement already satisfied: threadpoolctl>=3.1.0 in /usr/local/lib/python3.11/dist-packages (from scikit-learn==1.5.2->bnltk) (3.5.0)\n",
      "Requirement already satisfied: astunparse>=1.6.0 in /usr/local/lib/python3.11/dist-packages (from tensorflow==2.18.0->bnltk) (1.6.3)\n",
      "Requirement already satisfied: flatbuffers>=24.3.25 in /usr/local/lib/python3.11/dist-packages (from tensorflow==2.18.0->bnltk) (25.2.10)\n",
      "Requirement already satisfied: gast!=0.5.0,!=0.5.1,!=0.5.2,>=0.2.1 in /usr/local/lib/python3.11/dist-packages (from tensorflow==2.18.0->bnltk) (0.6.0)\n",
      "Requirement already satisfied: google-pasta>=0.1.1 in /usr/local/lib/python3.11/dist-packages (from tensorflow==2.18.0->bnltk) (0.2.0)\n",
      "Requirement already satisfied: libclang>=13.0.0 in /usr/local/lib/python3.11/dist-packages (from tensorflow==2.18.0->bnltk) (18.1.1)\n",
      "Requirement already satisfied: opt-einsum>=2.3.2 in /usr/local/lib/python3.11/dist-packages (from tensorflow==2.18.0->bnltk) (3.4.0)\n",
      "Requirement already satisfied: protobuf!=4.21.0,!=4.21.1,!=4.21.2,!=4.21.3,!=4.21.4,!=4.21.5,<6.0.0dev,>=3.20.3 in /usr/local/lib/python3.11/dist-packages (from tensorflow==2.18.0->bnltk) (4.25.6)\n",
      "Requirement already satisfied: setuptools in /usr/local/lib/python3.11/dist-packages (from tensorflow==2.18.0->bnltk) (75.1.0)\n",
      "Requirement already satisfied: six>=1.12.0 in /usr/local/lib/python3.11/dist-packages (from tensorflow==2.18.0->bnltk) (1.17.0)\n",
      "Requirement already satisfied: termcolor>=1.1.0 in /usr/local/lib/python3.11/dist-packages (from tensorflow==2.18.0->bnltk) (2.5.0)\n",
      "Requirement already satisfied: typing-extensions>=3.6.6 in /usr/local/lib/python3.11/dist-packages (from tensorflow==2.18.0->bnltk) (4.12.2)\n",
      "Requirement already satisfied: wrapt>=1.11.0 in /usr/local/lib/python3.11/dist-packages (from tensorflow==2.18.0->bnltk) (1.17.2)\n",
      "Requirement already satisfied: grpcio<2.0,>=1.24.3 in /usr/local/lib/python3.11/dist-packages (from tensorflow==2.18.0->bnltk) (1.70.0)\n",
      "Requirement already satisfied: tensorboard<2.19,>=2.18 in /usr/local/lib/python3.11/dist-packages (from tensorflow==2.18.0->bnltk) (2.18.0)\n",
      "Requirement already satisfied: tensorflow-io-gcs-filesystem>=0.23.1 in /usr/local/lib/python3.11/dist-packages (from tensorflow==2.18.0->bnltk) (0.37.1)\n",
      "Requirement already satisfied: wheel<1.0,>=0.23.0 in /usr/local/lib/python3.11/dist-packages (from astunparse>=1.6.0->tensorflow==2.18.0->bnltk) (0.45.1)\n",
      "Requirement already satisfied: markdown>=2.6.8 in /usr/local/lib/python3.11/dist-packages (from tensorboard<2.19,>=2.18->tensorflow==2.18.0->bnltk) (3.7)\n",
      "Requirement already satisfied: tensorboard-data-server<0.8.0,>=0.7.0 in /usr/local/lib/python3.11/dist-packages (from tensorboard<2.19,>=2.18->tensorflow==2.18.0->bnltk) (0.7.2)\n",
      "Requirement already satisfied: werkzeug>=1.0.1 in /usr/local/lib/python3.11/dist-packages (from tensorboard<2.19,>=2.18->tensorflow==2.18.0->bnltk) (3.1.3)\n",
      "Requirement already satisfied: markdown-it-py>=2.2.0 in /usr/local/lib/python3.11/dist-packages (from rich->keras==3.6.0->bnltk) (3.0.0)\n",
      "Requirement already satisfied: pygments<3.0.0,>=2.13.0 in /usr/local/lib/python3.11/dist-packages (from rich->keras==3.6.0->bnltk) (2.18.0)\n",
      "Requirement already satisfied: mdurl~=0.1 in /usr/local/lib/python3.11/dist-packages (from markdown-it-py>=2.2.0->rich->keras==3.6.0->bnltk) (0.1.2)\n",
      "Requirement already satisfied: MarkupSafe>=2.1.1 in /usr/local/lib/python3.11/dist-packages (from werkzeug>=1.0.1->tensorboard<2.19,>=2.18->tensorflow==2.18.0->bnltk) (3.0.2)\n",
      "Downloading bnltk-0.7.8-py3-none-any.whl (15 kB)\n",
      "Downloading black-24.10.0-cp311-cp311-manylinux_2_17_x86_64.manylinux2014_x86_64.manylinux_2_28_x86_64.whl (1.7 MB)\n",
      "\u001b[2K   \u001b[90m━━━━━━━━━━━━━━━━━━━━━━━━━━━━━━━━━━━━━━━━\u001b[0m \u001b[32m1.7/1.7 MB\u001b[0m \u001b[31m19.9 MB/s\u001b[0m eta \u001b[36m0:00:00\u001b[0m\n",
      "\u001b[?25hDownloading keras-3.6.0-py3-none-any.whl (1.2 MB)\n",
      "\u001b[2K   \u001b[90m━━━━━━━━━━━━━━━━━━━━━━━━━━━━━━━━━━━━━━━━\u001b[0m \u001b[32m1.2/1.2 MB\u001b[0m \u001b[31m31.3 MB/s\u001b[0m eta \u001b[36m0:00:00\u001b[0m\n",
      "\u001b[?25hDownloading numpy-2.0.2-cp311-cp311-manylinux_2_17_x86_64.manylinux2014_x86_64.whl (19.5 MB)\n",
      "\u001b[2K   \u001b[90m━━━━━━━━━━━━━━━━━━━━━━━━━━━━━━━━━━━━━━━━\u001b[0m \u001b[32m19.5/19.5 MB\u001b[0m \u001b[31m17.1 MB/s\u001b[0m eta \u001b[36m0:00:00\u001b[0m\n",
      "\u001b[?25hDownloading scikit_learn-1.5.2-cp311-cp311-manylinux_2_17_x86_64.manylinux2014_x86_64.whl (13.3 MB)\n",
      "\u001b[2K   \u001b[90m━━━━━━━━━━━━━━━━━━━━━━━━━━━━━━━━━━━━━━━━\u001b[0m \u001b[32m13.3/13.3 MB\u001b[0m \u001b[31m30.0 MB/s\u001b[0m eta \u001b[36m0:00:00\u001b[0m\n",
      "\u001b[?25hDownloading mypy_extensions-1.0.0-py3-none-any.whl (4.7 kB)\n",
      "Downloading pathspec-0.12.1-py3-none-any.whl (31 kB)\n",
      "Installing collected packages: pathspec, numpy, mypy-extensions, black, scikit-learn, keras, bnltk\n",
      "  Attempting uninstall: numpy\n",
      "    Found existing installation: numpy 1.26.4\n",
      "    Uninstalling numpy-1.26.4:\n",
      "      Successfully uninstalled numpy-1.26.4\n",
      "  Attempting uninstall: scikit-learn\n",
      "    Found existing installation: scikit-learn 1.6.1\n",
      "    Uninstalling scikit-learn-1.6.1:\n",
      "      Successfully uninstalled scikit-learn-1.6.1\n",
      "  Attempting uninstall: keras\n",
      "    Found existing installation: keras 3.8.0\n",
      "    Uninstalling keras-3.8.0:\n",
      "      Successfully uninstalled keras-3.8.0\n",
      "\u001b[31mERROR: pip's dependency resolver does not currently take into account all the packages that are installed. This behaviour is the source of the following dependency conflicts.\n",
      "pytensor 2.27.1 requires numpy<2,>=1.17.0, but you have numpy 2.0.2 which is incompatible.\n",
      "gensim 4.3.3 requires numpy<2.0,>=1.18.5, but you have numpy 2.0.2 which is incompatible.\n",
      "thinc 8.2.5 requires numpy<2.0.0,>=1.19.0; python_version >= \"3.9\", but you have numpy 2.0.2 which is incompatible.\n",
      "langchain 0.3.19 requires numpy<2,>=1.26.4; python_version < \"3.12\", but you have numpy 2.0.2 which is incompatible.\u001b[0m\u001b[31m\n",
      "\u001b[0mSuccessfully installed black-24.10.0 bnltk-0.7.8 keras-3.6.0 mypy-extensions-1.0.0 numpy-2.0.2 pathspec-0.12.1 scikit-learn-1.5.2\n",
      "Collecting bnlp_toolkit\n",
      "  Downloading bnlp_toolkit-4.0.3-py3-none-any.whl.metadata (3.3 kB)\n",
      "Requirement already satisfied: sentencepiece==0.2.0 in /usr/local/lib/python3.11/dist-packages (from bnlp_toolkit) (0.2.0)\n",
      "Collecting gensim==4.3.2 (from bnlp_toolkit)\n",
      "  Downloading gensim-4.3.2-cp311-cp311-manylinux_2_17_x86_64.manylinux2014_x86_64.whl.metadata (8.3 kB)\n",
      "Requirement already satisfied: nltk in /usr/local/lib/python3.11/dist-packages (from bnlp_toolkit) (3.9.1)\n",
      "Requirement already satisfied: numpy in /usr/local/lib/python3.11/dist-packages (from bnlp_toolkit) (2.0.2)\n",
      "Collecting scipy==1.10.1 (from bnlp_toolkit)\n",
      "  Downloading scipy-1.10.1-cp311-cp311-manylinux_2_17_x86_64.manylinux2014_x86_64.whl.metadata (58 kB)\n",
      "\u001b[2K     \u001b[90m━━━━━━━━━━━━━━━━━━━━━━━━━━━━━━━━━━━━━━━━\u001b[0m \u001b[32m58.9/58.9 kB\u001b[0m \u001b[31m4.2 MB/s\u001b[0m eta \u001b[36m0:00:00\u001b[0m\n",
      "\u001b[?25hCollecting sklearn-crfsuite==0.3.6 (from bnlp_toolkit)\n",
      "  Downloading sklearn_crfsuite-0.3.6-py2.py3-none-any.whl.metadata (3.8 kB)\n",
      "Collecting tqdm==4.66.3 (from bnlp_toolkit)\n",
      "  Downloading tqdm-4.66.3-py3-none-any.whl.metadata (57 kB)\n",
      "\u001b[2K     \u001b[90m━━━━━━━━━━━━━━━━━━━━━━━━━━━━━━━━━━━━━━━━\u001b[0m \u001b[32m57.6/57.6 kB\u001b[0m \u001b[31m4.0 MB/s\u001b[0m eta \u001b[36m0:00:00\u001b[0m\n",
      "\u001b[?25hCollecting ftfy==6.2.0 (from bnlp_toolkit)\n",
      "  Downloading ftfy-6.2.0-py3-none-any.whl.metadata (7.3 kB)\n",
      "Collecting emoji==1.7.0 (from bnlp_toolkit)\n",
      "  Downloading emoji-1.7.0.tar.gz (175 kB)\n",
      "\u001b[2K     \u001b[90m━━━━━━━━━━━━━━━━━━━━━━━━━━━━━━━━━━━━━━━━\u001b[0m \u001b[32m175.4/175.4 kB\u001b[0m \u001b[31m11.5 MB/s\u001b[0m eta \u001b[36m0:00:00\u001b[0m\n",
      "\u001b[?25h  Preparing metadata (setup.py) ... \u001b[?25l\u001b[?25hdone\n",
      "Requirement already satisfied: requests in /usr/local/lib/python3.11/dist-packages (from bnlp_toolkit) (2.32.3)\n",
      "Requirement already satisfied: wcwidth<0.3.0,>=0.2.12 in /usr/local/lib/python3.11/dist-packages (from ftfy==6.2.0->bnlp_toolkit) (0.2.13)\n",
      "Requirement already satisfied: smart-open>=1.8.1 in /usr/local/lib/python3.11/dist-packages (from gensim==4.3.2->bnlp_toolkit) (7.1.0)\n",
      "Collecting numpy (from bnlp_toolkit)\n",
      "  Downloading numpy-1.26.4-cp311-cp311-manylinux_2_17_x86_64.manylinux2014_x86_64.whl.metadata (61 kB)\n",
      "\u001b[2K     \u001b[90m━━━━━━━━━━━━━━━━━━━━━━━━━━━━━━━━━━━━━━━━\u001b[0m \u001b[32m61.0/61.0 kB\u001b[0m \u001b[31m4.3 MB/s\u001b[0m eta \u001b[36m0:00:00\u001b[0m\n",
      "\u001b[?25hCollecting python-crfsuite>=0.8.3 (from sklearn-crfsuite==0.3.6->bnlp_toolkit)\n",
      "  Downloading python_crfsuite-0.9.11-cp311-cp311-manylinux_2_17_x86_64.manylinux2014_x86_64.whl.metadata (4.3 kB)\n",
      "Requirement already satisfied: six in /usr/local/lib/python3.11/dist-packages (from sklearn-crfsuite==0.3.6->bnlp_toolkit) (1.17.0)\n",
      "Requirement already satisfied: tabulate in /usr/local/lib/python3.11/dist-packages (from sklearn-crfsuite==0.3.6->bnlp_toolkit) (0.9.0)\n",
      "Requirement already satisfied: click in /usr/local/lib/python3.11/dist-packages (from nltk->bnlp_toolkit) (8.1.8)\n",
      "Requirement already satisfied: joblib in /usr/local/lib/python3.11/dist-packages (from nltk->bnlp_toolkit) (1.4.2)\n",
      "Requirement already satisfied: regex>=2021.8.3 in /usr/local/lib/python3.11/dist-packages (from nltk->bnlp_toolkit) (2024.11.6)\n",
      "Requirement already satisfied: charset-normalizer<4,>=2 in /usr/local/lib/python3.11/dist-packages (from requests->bnlp_toolkit) (3.4.1)\n",
      "Requirement already satisfied: idna<4,>=2.5 in /usr/local/lib/python3.11/dist-packages (from requests->bnlp_toolkit) (3.10)\n",
      "Requirement already satisfied: urllib3<3,>=1.21.1 in /usr/local/lib/python3.11/dist-packages (from requests->bnlp_toolkit) (2.3.0)\n",
      "Requirement already satisfied: certifi>=2017.4.17 in /usr/local/lib/python3.11/dist-packages (from requests->bnlp_toolkit) (2025.1.31)\n",
      "Requirement already satisfied: wrapt in /usr/local/lib/python3.11/dist-packages (from smart-open>=1.8.1->gensim==4.3.2->bnlp_toolkit) (1.17.2)\n",
      "Downloading bnlp_toolkit-4.0.3-py3-none-any.whl (22 kB)\n",
      "Downloading ftfy-6.2.0-py3-none-any.whl (54 kB)\n",
      "\u001b[2K   \u001b[90m━━━━━━━━━━━━━━━━━━━━━━━━━━━━━━━━━━━━━━━━\u001b[0m \u001b[32m54.4/54.4 kB\u001b[0m \u001b[31m4.1 MB/s\u001b[0m eta \u001b[36m0:00:00\u001b[0m\n",
      "\u001b[?25hDownloading gensim-4.3.2-cp311-cp311-manylinux_2_17_x86_64.manylinux2014_x86_64.whl (26.7 MB)\n",
      "\u001b[2K   \u001b[90m━━━━━━━━━━━━━━━━━━━━━━━━━━━━━━━━━━━━━━━━\u001b[0m \u001b[32m26.7/26.7 MB\u001b[0m \u001b[31m10.1 MB/s\u001b[0m eta \u001b[36m0:00:00\u001b[0m\n",
      "\u001b[?25hDownloading scipy-1.10.1-cp311-cp311-manylinux_2_17_x86_64.manylinux2014_x86_64.whl (34.1 MB)\n",
      "\u001b[2K   \u001b[90m━━━━━━━━━━━━━━━━━━━━━━━━━━━━━━━━━━━━━━━━\u001b[0m \u001b[32m34.1/34.1 MB\u001b[0m \u001b[31m20.3 MB/s\u001b[0m eta \u001b[36m0:00:00\u001b[0m\n",
      "\u001b[?25hDownloading sklearn_crfsuite-0.3.6-py2.py3-none-any.whl (12 kB)\n",
      "Downloading tqdm-4.66.3-py3-none-any.whl (78 kB)\n",
      "\u001b[2K   \u001b[90m━━━━━━━━━━━━━━━━━━━━━━━━━━━━━━━━━━━━━━━━\u001b[0m \u001b[32m78.4/78.4 kB\u001b[0m \u001b[31m6.3 MB/s\u001b[0m eta \u001b[36m0:00:00\u001b[0m\n",
      "\u001b[?25hDownloading numpy-1.26.4-cp311-cp311-manylinux_2_17_x86_64.manylinux2014_x86_64.whl (18.3 MB)\n",
      "\u001b[2K   \u001b[90m━━━━━━━━━━━━━━━━━━━━━━━━━━━━━━━━━━━━━━━━\u001b[0m \u001b[32m18.3/18.3 MB\u001b[0m \u001b[31m47.8 MB/s\u001b[0m eta \u001b[36m0:00:00\u001b[0m\n",
      "\u001b[?25hDownloading python_crfsuite-0.9.11-cp311-cp311-manylinux_2_17_x86_64.manylinux2014_x86_64.whl (1.3 MB)\n",
      "\u001b[2K   \u001b[90m━━━━━━━━━━━━━━━━━━━━━━━━━━━━━━━━━━━━━━━━\u001b[0m \u001b[32m1.3/1.3 MB\u001b[0m \u001b[31m25.1 MB/s\u001b[0m eta \u001b[36m0:00:00\u001b[0m\n",
      "\u001b[?25hBuilding wheels for collected packages: emoji\n",
      "  Building wheel for emoji (setup.py) ... \u001b[?25l\u001b[?25hdone\n",
      "  Created wheel for emoji: filename=emoji-1.7.0-py3-none-any.whl size=171033 sha256=f94e992d908511c00d72be7854f52c2ad91f19d008841edb96e9441674afa907\n",
      "  Stored in directory: /root/.cache/pip/wheels/bd/22/e5/b69726d5e1a19795ecd3b3e7464b16c0f1d019aa94ff1c8578\n",
      "Successfully built emoji\n",
      "Installing collected packages: emoji, tqdm, python-crfsuite, numpy, ftfy, sklearn-crfsuite, scipy, gensim, bnlp_toolkit\n",
      "  Attempting uninstall: tqdm\n",
      "    Found existing installation: tqdm 4.67.1\n",
      "    Uninstalling tqdm-4.67.1:\n",
      "      Successfully uninstalled tqdm-4.67.1\n",
      "  Attempting uninstall: numpy\n",
      "    Found existing installation: numpy 2.0.2\n",
      "    Uninstalling numpy-2.0.2:\n",
      "      Successfully uninstalled numpy-2.0.2\n",
      "  Attempting uninstall: scipy\n",
      "    Found existing installation: scipy 1.13.1\n",
      "    Uninstalling scipy-1.13.1:\n",
      "      Successfully uninstalled scipy-1.13.1\n",
      "  Attempting uninstall: gensim\n",
      "    Found existing installation: gensim 4.3.3\n",
      "    Uninstalling gensim-4.3.3:\n",
      "      Successfully uninstalled gensim-4.3.3\n",
      "\u001b[31mERROR: pip's dependency resolver does not currently take into account all the packages that are installed. This behaviour is the source of the following dependency conflicts.\n",
      "bnltk 0.7.8 requires numpy==2.0.2, but you have numpy 1.26.4 which is incompatible.\n",
      "scikit-image 0.25.2 requires scipy>=1.11.4, but you have scipy 1.10.1 which is incompatible.\u001b[0m\u001b[31m\n",
      "\u001b[0mSuccessfully installed bnlp_toolkit-4.0.3 emoji-1.7.0 ftfy-6.2.0 gensim-4.3.2 numpy-1.26.4 python-crfsuite-0.9.11 scipy-1.10.1 sklearn-crfsuite-0.3.6 tqdm-4.66.3\n"
     ]
    }
   ],
   "source": [
    "# !pip install bnlp_toolkit\n",
    "!pip install bnltk\n",
    "!pip install -U bnlp_toolkit\n",
    "\n"
   ]
  },
  {
   "cell_type": "code",
   "execution_count": 4,
   "metadata": {
    "executionInfo": {
     "elapsed": 395,
     "status": "ok",
     "timestamp": 1740266403006,
     "user": {
      "displayName": "Faisal Hasan Emon",
      "userId": "09464622889471399138"
     },
     "user_tz": -360
    },
    "id": "8dSR3dUKT90t"
   },
   "outputs": [],
   "source": [
    "#Import libraries for data cleanning\n",
    "\n",
    "import re\n",
    "from bnltk.stemmer import BanglaStemmer\n",
    "import pandas as pd"
   ]
  },
  {
   "cell_type": "code",
   "execution_count": 5,
   "metadata": {
    "executionInfo": {
     "elapsed": 4375,
     "status": "ok",
     "timestamp": 1740266407383,
     "user": {
      "displayName": "Faisal Hasan Emon",
      "userId": "09464622889471399138"
     },
     "user_tz": -360
    },
    "id": "Q5RWIEGDaytx"
   },
   "outputs": [],
   "source": [
    "df_1 = pd.read_excel(\"/content/drive/MyDrive/Thesis_Work/CheckingOldDatasets/dataset-1.xlsx\")\n",
    "df_2 = pd.read_excel(\"/content/drive/MyDrive/Thesis_Work/CheckingOldDatasets/dataset-2.xlsx\")"
   ]
  },
  {
   "cell_type": "code",
   "execution_count": 6,
   "metadata": {
    "colab": {
     "base_uri": "https://localhost:8080/"
    },
    "executionInfo": {
     "elapsed": 20,
     "status": "ok",
     "timestamp": 1740266407417,
     "user": {
      "displayName": "Faisal Hasan Emon",
      "userId": "09464622889471399138"
     },
     "user_tz": -360
    },
    "id": "eel7Z2JXa8UV",
    "outputId": "4c0b33cb-a6bf-4ad4-8ae1-bfefe7753e22"
   },
   "outputs": [
    {
     "name": "stdout",
     "output_type": "stream",
     "text": [
      "(20436, 2)\n"
     ]
    }
   ],
   "source": [
    "# prompt: now concatenate df_1 and df_2 and then save them on a new variable df\n",
    "\n",
    "df = pd.concat([df_1, df_2], ignore_index=True)\n",
    "print(df.shape)"
   ]
  },
  {
   "cell_type": "code",
   "execution_count": 7,
   "metadata": {
    "colab": {
     "base_uri": "https://localhost:8080/"
    },
    "executionInfo": {
     "elapsed": 71,
     "status": "ok",
     "timestamp": 1740266407489,
     "user": {
      "displayName": "Faisal Hasan Emon",
      "userId": "09464622889471399138"
     },
     "user_tz": -360
    },
    "id": "Eh1iy78wbP1s",
    "outputId": "d505eb96-63dc-4a54-9780-6f279461319e"
   },
   "outputs": [
    {
     "name": "stdout",
     "output_type": "stream",
     "text": [
      "Shape of df_train: (12261, 2)\n",
      "Shape of df_test: (4087, 2)\n",
      "Shape of df_val: (4088, 2)\n"
     ]
    }
   ],
   "source": [
    "\n",
    "# Spliting 60% for training, 20% for testing and 20% for validation\n",
    "\n",
    "# Calculate the split indices\n",
    "train_split = int(0.6 * len(df))\n",
    "val_split = int(0.8 * len(df))\n",
    "\n",
    "# Split the DataFrame\n",
    "df_train = df[:train_split]\n",
    "df_test = df[train_split:val_split]\n",
    "df_val = df[val_split:]\n",
    "\n",
    "# Print the shapes of the resulting DataFrames to verify\n",
    "print(\"Shape of df_train:\", df_train.shape)\n",
    "print(\"Shape of df_test:\", df_test.shape)\n",
    "print(\"Shape of df_val:\", df_val.shape)\n"
   ]
  },
  {
   "cell_type": "markdown",
   "metadata": {
    "id": "fwF_caF1gyrd"
   },
   "source": [
    ">**Data cleaning and preprocessing**\n"
   ]
  },
  {
   "cell_type": "code",
   "execution_count": 8,
   "metadata": {
    "colab": {
     "base_uri": "https://localhost:8080/"
    },
    "executionInfo": {
     "elapsed": 2939,
     "status": "ok",
     "timestamp": 1740266410430,
     "user": {
      "displayName": "Faisal Hasan Emon",
      "userId": "09464622889471399138"
     },
     "user_tz": -360
    },
    "id": "KK7YGrN7Ayu2",
    "outputId": "7da1cf54-3479-41e8-8272-61aa1af7ca51"
   },
   "outputs": [
    {
     "name": "stdout",
     "output_type": "stream",
     "text": [
      "punkt not found. downloading...\n"
     ]
    },
    {
     "name": "stderr",
     "output_type": "stream",
     "text": [
      "[nltk_data] Downloading package punkt_tab to /root/nltk_data...\n",
      "[nltk_data]   Unzipping tokenizers/punkt_tab.zip.\n"
     ]
    }
   ],
   "source": [
    "from bnlp import CleanText"
   ]
  },
  {
   "cell_type": "code",
   "execution_count": 9,
   "metadata": {
    "executionInfo": {
     "elapsed": 18113,
     "status": "ok",
     "timestamp": 1740266428557,
     "user": {
      "displayName": "Faisal Hasan Emon",
      "userId": "09464622889471399138"
     },
     "user_tz": -360
    },
    "id": "hJkrrfwZZyQZ"
   },
   "outputs": [],
   "source": [
    "\n",
    "# from bnlp import CleanText\n",
    "#Preprocessing Part Starts\n",
    "clean_text_processor = CleanText(\n",
    "   fix_unicode=True,\n",
    "   unicode_norm=True,\n",
    "   unicode_norm_form=\"NFKC\",\n",
    "   remove_url=True,\n",
    "   remove_email=True,\n",
    "   remove_emoji=True,\n",
    "   remove_number=True,\n",
    "   remove_digits=True,\n",
    "   remove_punct=True,\n",
    "   replace_with_url=\"\",\n",
    "   replace_with_email=\"\",\n",
    "   replace_with_number=\"\",\n",
    "   replace_with_digit=\"\",\n",
    "   replace_with_punct = \"\"\n",
    ")\n",
    "\n",
    "# Testing\n",
    "# input_text = \"আমার সোনার বাংলা <html/>\"\n",
    "# clean_text = clean_text_processor(input_text)\n",
    "# print(clean_text)\n",
    "\n",
    "df_train['Text'] = df_train['Text'].apply(lambda x: clean_text_processor(x))\n",
    "df_test['Text'] = df_test['Text'].apply(lambda x: clean_text_processor(x))\n",
    "df_val['Text'] = df_val['Text'].apply(lambda x: clean_text_processor(x))"
   ]
  },
  {
   "cell_type": "code",
   "execution_count": 10,
   "metadata": {
    "executionInfo": {
     "elapsed": 5,
     "status": "ok",
     "timestamp": 1740266428577,
     "user": {
      "displayName": "Faisal Hasan Emon",
      "userId": "09464622889471399138"
     },
     "user_tz": -360
    },
    "id": "7KxoBVkrRZDB"
   },
   "outputs": [],
   "source": [
    "import re"
   ]
  },
  {
   "cell_type": "code",
   "execution_count": 11,
   "metadata": {
    "executionInfo": {
     "elapsed": 99,
     "status": "ok",
     "timestamp": 1740266428674,
     "user": {
      "displayName": "Faisal Hasan Emon",
      "userId": "09464622889471399138"
     },
     "user_tz": -360
    },
    "id": "wPpkQEN1aERX"
   },
   "outputs": [],
   "source": [
    "# Removing english words and numbers and then removing extra spcaes\n",
    "def remove_extra_spaces_and_english(text):\n",
    "  # Remove English words and numbers\n",
    "  text = re.sub(r'[a-zA-Z0-9]', '', text)\n",
    "\n",
    "  # Remove extra whitespace characters\n",
    "  text = re.sub(r'\\s+', ' ', text).strip()\n",
    "\n",
    "  return text\n",
    "\n",
    "\n",
    "# Example usage (assuming df_train, df_test, and df_val are defined):\n",
    "df_train['Text'] = df_train['Text'].apply(remove_extra_spaces_and_english)\n",
    "df_test['Text'] = df_test['Text'].apply(remove_extra_spaces_and_english)\n",
    "df_val['Text'] = df_val['Text'].apply(remove_extra_spaces_and_english)\n"
   ]
  },
  {
   "cell_type": "code",
   "execution_count": 12,
   "metadata": {
    "colab": {
     "base_uri": "https://localhost:8080/"
    },
    "executionInfo": {
     "elapsed": 71,
     "status": "ok",
     "timestamp": 1740266428759,
     "user": {
      "displayName": "Faisal Hasan Emon",
      "userId": "09464622889471399138"
     },
     "user_tz": -360
    },
    "id": "lUDd1qXh6Pio",
    "outputId": "e34b4064-bef6-4f30-9294-a316b3ee3e5c"
   },
   "outputs": [
    {
     "name": "stdout",
     "output_type": "stream",
     "text": [
      "False\n",
      "False\n"
     ]
    }
   ],
   "source": [
    "#Check if there are any empty cells\n",
    "\n",
    "def check_empty_text(df):\n",
    "  return df['Text'].isnull().any()\n",
    "\n",
    "def check_empty_label(df):\n",
    "  return df['Label'].isnull().any()\n",
    "print(check_empty_text(df_train))\n",
    "print(check_empty_label(df_train))\n"
   ]
  },
  {
   "cell_type": "code",
   "execution_count": 13,
   "metadata": {
    "colab": {
     "base_uri": "https://localhost:8080/"
    },
    "executionInfo": {
     "elapsed": 5,
     "status": "ok",
     "timestamp": 1740266428761,
     "user": {
      "displayName": "Faisal Hasan Emon",
      "userId": "09464622889471399138"
     },
     "user_tz": -360
    },
    "id": "vFpc3o22BTte",
    "outputId": "f677bee2-a6c5-4968-ff36-5b260a01c228"
   },
   "outputs": [
    {
     "name": "stdout",
     "output_type": "stream",
     "text": [
      "False\n",
      "False\n"
     ]
    }
   ],
   "source": [
    "# For Deleteing rows with empty cells\n",
    "\n",
    "def drop_empty_rows(df):\n",
    "    # Drop rows where 'Text' or 'Label' is empty\n",
    "    df.dropna(subset=['Text', 'Label'], inplace=True)\n",
    "    return df\n",
    "\n",
    "df_train = drop_empty_rows(df_train)\n",
    "df_test = drop_empty_rows(df_test)\n",
    "df_val = drop_empty_rows(df_val)\n",
    "\n",
    "print(check_empty_text(df_train))\n",
    "print(check_empty_label(df_train))\n"
   ]
  },
  {
   "cell_type": "code",
   "execution_count": 14,
   "metadata": {
    "colab": {
     "base_uri": "https://localhost:8080/"
    },
    "executionInfo": {
     "elapsed": 339,
     "status": "ok",
     "timestamp": 1740266429100,
     "user": {
      "displayName": "Faisal Hasan Emon",
      "userId": "09464622889471399138"
     },
     "user_tz": -360
    },
    "id": "oev9WFN-6lMC",
    "outputId": "efe72c23-ce60-4fb9-a24c-3293913f5f1d"
   },
   "outputs": [
    {
     "name": "stdout",
     "output_type": "stream",
     "text": [
      "True\n",
      "True\n",
      "False\n"
     ]
    }
   ],
   "source": [
    "#Checking if there are any sentences with single word in Text Field\n",
    "\n",
    "def check_single_word_cells(df):\n",
    "  for index, row in df.iterrows():\n",
    "    text = row['Text']\n",
    "    if isinstance(text, str):  # Check if the value is a string\n",
    "        words = text.split()\n",
    "        if len(words) == 1 and words[0] != '': #check for empty string after spliting\n",
    "          return True\n",
    "  return False\n",
    "\n",
    "print(check_single_word_cells(df_train))\n",
    "print(check_single_word_cells(df_test))\n",
    "print(check_single_word_cells(df_val))\n"
   ]
  },
  {
   "cell_type": "code",
   "execution_count": 15,
   "metadata": {
    "colab": {
     "base_uri": "https://localhost:8080/"
    },
    "executionInfo": {
     "elapsed": 14381,
     "status": "ok",
     "timestamp": 1740266443496,
     "user": {
      "displayName": "Faisal Hasan Emon",
      "userId": "09464622889471399138"
     },
     "user_tz": -360
    },
    "id": "JGy84oGRGv6z",
    "outputId": "80d0e55a-3d50-486d-f050-12e2afd287ec"
   },
   "outputs": [
    {
     "name": "stdout",
     "output_type": "stream",
     "text": [
      "                                                Text     Label\n",
      "0  এ নাটক হ সাল কিন্তু তখন ইউটিউব ছিলোনা ইউটিউব আ...       joy\n",
      "1  সাল যা কোথা কেউ নে দেখ আস তা রুচির প্রশংসা না ...  surprise\n",
      "2       বাংলাদেশ ইতিহাস সর্বশ্রেষ্ঠ নাটক কোথা কেউ নে       joy\n",
      "3  এ সুন্দর নাটক আগ কখনো দেখা হয় না সাল দেখলাম ব...       joy\n",
      "4  কখনো চিন্তা করিনি জন্ম বছর আগ নাটক দেখবো তা আব...  surprise\n",
      "                                                    Text     Label\n",
      "12261  আদালত অবমাননা কর সাহস এ কোথায় পায় আপনা এগিয়...  surprise\n",
      "12262                                    রাইট কথা বলছ ভা       joy\n",
      "12263                                         ধন্যবাদ ভা       joy\n",
      "12264  আমা দাশা হাজ হাজ যুবক ডিগ্রীধারী বেক এ সব চোর ...       joy\n",
      "12265  শনিব এক যাত্রীর মানিব্যাগ থাকা বিমানবন্দর সিকি...   sadness\n",
      "                                                    Text     Label\n",
      "16348  একটু দয়ামায়া কর কত কষ্ট নিয় হাসিনা নামটুকু ...   sadness\n",
      "16349  একটু পর ঘড় থাকা এক মেয় ব হল তা দেখে আম বুক ব...  surprise\n",
      "16350  একটু প্লেস কর নাজা ও অসহায় মা বাব জায়গায় নি...   sadness\n",
      "16351  একটু বৃষ্ নামুক ৷ সব ভুল আপনি বল আমি এ বৃষ্টিস...       joy\n",
      "16352  একটু ভাল কর খেয়াল কর দাখা সাদা কাফন প ঐ মেয়ে...      fear\n"
     ]
    }
   ],
   "source": [
    "# Stemmer\n",
    "from bnltk.stemmer import BanglaStemmer\n",
    "bn_stemmer = BanglaStemmer()\n",
    "def stem_bengali_text(text):\n",
    "    return [bn_stemmer.stem(word) for word in text]\n",
    "\n",
    "df_train['Text'] = df_train['Text'].apply(lambda x: ' '.join(stem_bengali_text(x.split())))\n",
    "df_test['Text'] = df_test['Text'].apply(lambda x: ' '.join(stem_bengali_text(x.split())))\n",
    "df_val['Text'] = df_val['Text'].apply(lambda x: ' '.join(stem_bengali_text(x.split())))\n",
    "\n",
    "print(df_train.head())\n",
    "print(df_test.head())\n",
    "print(df_val.head())"
   ]
  },
  {
   "cell_type": "code",
   "execution_count": 16,
   "metadata": {
    "executionInfo": {
     "elapsed": 952,
     "status": "ok",
     "timestamp": 1740266444447,
     "user": {
      "displayName": "Faisal Hasan Emon",
      "userId": "09464622889471399138"
     },
     "user_tz": -360
    },
    "id": "ZrlS2bYXJ4gM"
   },
   "outputs": [],
   "source": [
    "from bnlp import BengaliCorpus as corpus\n",
    "#Remove stop words\n",
    "def remove_stopwords(text):\n",
    "    words = text.split()\n",
    "    filtered_words = [word for word in words if word not in corpus.stopwords]\n",
    "    return \" \".join(filtered_words)\n",
    "\n",
    "df_train['Text'] = df_train['Text'].apply(remove_stopwords)\n",
    "df_test['Text'] = df_test['Text'].apply(remove_stopwords)\n",
    "df_val['Text'] = df_val['Text'].apply(remove_stopwords)\n",
    "\n",
    "\n",
    "\n"
   ]
  },
  {
   "cell_type": "code",
   "execution_count": 17,
   "metadata": {
    "colab": {
     "base_uri": "https://localhost:8080/"
    },
    "executionInfo": {
     "elapsed": 1401,
     "status": "ok",
     "timestamp": 1740266445850,
     "user": {
      "displayName": "Faisal Hasan Emon",
      "userId": "09464622889471399138"
     },
     "user_tz": -360
    },
    "id": "3Xe4LSDk78wt",
    "outputId": "cfd7c1f6-1bfe-4239-f4d4-71507aa1dc87"
   },
   "outputs": [
    {
     "name": "stdout",
     "output_type": "stream",
     "text": [
      "Similar text '' with different Emotion:\n",
      "      Text     Label\n",
      "1209         disgust\n",
      "9525         sadness\n",
      "9702        surprise\n",
      "9786             joy\n",
      "9787         sadness\n",
      "9788             joy\n",
      "9996             joy\n",
      "10630        sadness\n",
      "11451       surprise\n",
      "11529            joy\n",
      "11563            joy\n",
      "12039        sadness\n",
      "--------------------\n",
      "Similar text 'অপরাধ কারী অপরাধী প্রশ্রয় দানকারী দুজনে সমান অপরাধী এাো বল মোনাফেক কাফ জারজ নাস্তিক আস্তিক মালউন আরো বল' with different Emotion:\n",
      "                                                   Text    Label\n",
      "8260  অপরাধ কারী অপরাধী প্রশ্রয় দানকারী দুজনে সমান ...    anger\n",
      "8299  অপরাধ কারী অপরাধী প্রশ্রয় দানকারী দুজনে সমান ...  sadness\n",
      "8363  অপরাধ কারী অপরাধী প্রশ্রয় দানকারী দুজনে সমান ...  disgust\n",
      "8563  অপরাধ কারী অপরাধী প্রশ্রয় দানকারী দুজনে সমান ...  sadness\n",
      "8564  অপরাধ কারী অপরাধী প্রশ্রয় দানকারী দুজনে সমান ...  sadness\n",
      "8565  অপরাধ কারী অপরাধী প্রশ্রয় দানকারী দুজনে সমান ...  sadness\n",
      "8566  অপরাধ কারী অপরাধী প্রশ্রয় দানকারী দুজনে সমান ...  sadness\n",
      "8567  অপরাধ কারী অপরাধী প্রশ্রয় দানকারী দুজনে সমান ...  sadness\n",
      "8568  অপরাধ কারী অপরাধী প্রশ্রয় দানকারী দুজনে সমান ...  sadness\n",
      "8569  অপরাধ কারী অপরাধী প্রশ্রয় দানকারী দুজনে সমান ...  sadness\n",
      "8570  অপরাধ কারী অপরাধী প্রশ্রয় দানকারী দুজনে সমান ...  sadness\n",
      "8571  অপরাধ কারী অপরাধী প্রশ্রয় দানকারী দুজনে সমান ...  sadness\n",
      "8572  অপরাধ কারী অপরাধী প্রশ্রয় দানকারী দুজনে সমান ...  sadness\n",
      "8573  অপরাধ কারী অপরাধী প্রশ্রয় দানকারী দুজনে সমান ...  sadness\n",
      "--------------------\n",
      "Similar text 'অমানুষ' with different Emotion:\n",
      "        Text    Label\n",
      "9653  অমানুষ  disgust\n",
      "9674  অমানুষ    anger\n",
      "9726  অমানুষ  disgust\n",
      "--------------------\n",
      "Similar text 'অসাধারণ' with different Emotion:\n",
      "          Text     Label\n",
      "10401  অসাধারণ       joy\n",
      "10541  অসাধারণ       joy\n",
      "11505  অসাধারণ  surprise\n",
      "11519  অসাধারণ  surprise\n",
      "--------------------\n",
      "Similar text 'আ' with different Emotion:\n",
      "      Text    Label\n",
      "9730     আ      joy\n",
      "11382    আ  sadness\n",
      "--------------------\n",
      "Similar text 'আন্তর্জাতিক শ্রম সংস্থ আইএল প্রতিষ্ঠ শতবর্ষ পালন উপলক্ষ গিনেস রেকর্ড ভাঙ বাংলাদেশ বিশ্ব সর্ববৃহৎ শার্ট সেলাইয় পরিকল্পনা কর বিশ্ব দ্বিতীয় বৃহত্তম রফতানিকারক বাংলাদেশ পোশাক শিল্প তুল ধর বাংলাদেশ গার্মেন্ট প্রস্তুতকারক রফতানিকারক সমিতি বিজিএমইএ সুতি কাপড় শার্ট সেলাইয় দায়িত্ব দেয়া' with different Emotion:\n",
      "                                                   Text     Label\n",
      "1928  আন্তর্জাতিক শ্রম সংস্থ আইএল প্রতিষ্ঠ শতবর্ষ পা...  surprise\n",
      "1929  আন্তর্জাতিক শ্রম সংস্থ আইএল প্রতিষ্ঠ শতবর্ষ পা...       joy\n",
      "--------------------\n",
      "Similar text 'আম ছাএ আ আমা ত তাহল আম সিম ব্যবহ কর পার' with different Emotion:\n",
      "                                          Text     Label\n",
      "11593  আম ছাএ আ আমা ত তাহল আম সিম ব্যবহ কর পার  surprise\n",
      "11628  আম ছাএ আ আমা ত তাহল আম সিম ব্যবহ কর পার   sadness\n",
      "11648  আম ছাএ আ আমা ত তাহল আম সিম ব্যবহ কর পার   sadness\n",
      "--------------------\n",
      "Similar text 'আম বিচ চা' with different Emotion:\n",
      "           Text    Label\n",
      "9585  আম বিচ চা  sadness\n",
      "9647  আম বিচ চা    anger\n",
      "--------------------\n",
      "Similar text 'আম বোনকাল আপন বোন আপন মেয়েত আরেকজন পালা ভাব চল থাকল আমা বোনেরানেয়ে লেখা কর পারবেনানিরাপদেরাস্তায় চলা ফি কর পারবেনা আসুন সবা মিল প্রতিবাদ করিএর দায়িত্ব কুমিল্লাহ ছাত্র ছাত্রী ভাইবোন আম আপন সকল মন বাংলাদেশ সকল শিক্ষা প্রতিষ্ঠান ছাত্রছাত্রীশিক্ষককর্মচারীঅভিবাবকসচেতন নাগ রিক প্রতিবাদ ক' with different Emotion:\n",
      "                                                    Text  Label\n",
      "11112  আম বোনকাল আপন বোন আপন মেয়েত আরেকজন পালা ভাব চ...   fear\n",
      "11162  আম বোনকাল আপন বোন আপন মেয়েত আরেকজন পালা ভাব চ...  anger\n",
      "11167  আম বোনকাল আপন বোন আপন মেয়েত আরেকজন পালা ভাব চ...  anger\n",
      "--------------------\n",
      "Similar text 'আম স্ট্যাটাস বাকি লাইন অস্বীক করবো আগ বিচ অপহরণ চেষ্ খুন এইয ইমাম মুয়াজ্জিন লেখক প্রকাশক ধর্ষণ গুম সন্ত্রাস চাঁদাবাজি কো টাকা লুট' with different Emotion:\n",
      "                                                   Text     Label\n",
      "7333  আম স্ট্যাটাস বাকি লাইন অস্বীক করবো আগ বিচ অপহর...     anger\n",
      "7456  আম স্ট্যাটাস বাকি লাইন অস্বীক করবো আগ বিচ অপহর...  surprise\n",
      "7473  আম স্ট্যাটাস বাকি লাইন অস্বীক করবো আগ বিচ অপহর...   sadness\n",
      "--------------------\n",
      "Similar text 'আশির দশ আম জন্মে খেয়ে শুনে অনুদাবন য আবেগ ভালোবাসা আম ইতিহাস কখনো পাব' with different Emotion:\n",
      "                                                   Text    Label\n",
      "1614  আশির দশ আম জন্মে খেয়ে শুনে অনুদাবন য আবেগ ভাল...      joy\n",
      "1615  আশির দশ আম জন্মে খেয়ে শুনে অনুদাবন য আবেগ ভাল...  sadness\n",
      "--------------------\n",
      "Similar text 'ইমরান এইচ সহযোগি থাবা মগাচিপ অনন্য আজাদ চুমা চুমির ইভেন্ট জনক মুক্ত চিন্তা বিজ্ঞান মনস্ক লেখা পড় দা তুল মুর্তি পুতুল উপাসনা দরক নে ভাংা ফ এসবএসব মুক্ত চিন্তা মানুষ মুক্ত চিন্ত আলোকিত মানুষে এসব অর্থহীন পুতুল মানুষ প্রভুত্ব করব মানা নি পার হিন্দু দেব মুর্তি ভাং পিছন সরাসরি যুক্ত নতুবা লেখা চিন্ত মাধ্যম মুক্ত চিন্তক প্রভাবিত কর' with different Emotion:\n",
      "                                                   Text    Label\n",
      "8263  ইমরান এইচ সহযোগি থাবা মগাচিপ অনন্য আজাদ চুমা চ...  disgust\n",
      "8378  ইমরান এইচ সহযোগি থাবা মগাচিপ অনন্য আজাদ চুমা চ...  disgust\n",
      "8393  ইমরান এইচ সহযোগি থাবা মগাচিপ অনন্য আজাদ চুমা চ...  sadness\n",
      "8395  ইমরান এইচ সহযোগি থাবা মগাচিপ অনন্য আজাদ চুমা চ...  sadness\n",
      "8408  ইমরান এইচ সহযোগি থাবা মগাচিপ অনন্য আজাদ চুমা চ...  sadness\n",
      "--------------------\n",
      "Similar text 'ইসলাম রক্ষায় ভারতীয় ইসরাইল পন্য ইউরোপীয় পন্য আগ বর্জন করুন দেশীয় নাস্তিক ধোসর যমুনা গ্রপ সকল পন্য কেননা এইদেশ নাস্তিক সবচেয় শক্তিশালী মিড়িয়া টিভি টিভির মালিক নাস্তিক শিরমনি মোজাম্ম বাবু সিংহভাগ আয় যমুনা গ্রুপ পন্য বিক্রির মাধ্যম যমুনা গ্রপ পন্যর মধ্য উল্লেখযোগ্য ফ্রেস ব্রান্ড আ ময়দা সুজি আসুন যমুনা গ্রুপ সকল পন্য বর্জন কর ইসলাম নিজ মন আগ ফ্রেশ' with different Emotion:\n",
      "                                                    Text     Label\n",
      "11037  ইসলাম রক্ষায় ভারতীয় ইসরাইল পন্য ইউরোপীয় পন্...     anger\n",
      "11056  ইসলাম রক্ষায় ভারতীয় ইসরাইল পন্য ইউরোপীয় পন্...  surprise\n",
      "11127  ইসলাম রক্ষায় ভারতীয় ইসরাইল পন্য ইউরোপীয় পন্...   sadness\n",
      "11193  ইসলাম রক্ষায় ভারতীয় ইসরাইল পন্য ইউরোপীয় পন্...   sadness\n",
      "--------------------\n",
      "Similar text 'এক সুখ সংস ধ্বংস কর শয়তান অস্ত্র আবিস্ক কর ত মধ্য মারাত্নক অস্ত্র স্ত্রীর ঘ্যানর ঘ্যানর' with different Emotion:\n",
      "                                                   Text    Label\n",
      "3016  এক সুখ সংস ধ্বংস কর শয়তান অস্ত্র আবিস্ক কর ত ...  disgust\n",
      "3017  এক সুখ সংস ধ্বংস কর শয়তান অস্ত্র আবিস্ক কর ত ...  sadness\n",
      "--------------------\n",
      "Similar text 'একমত' with different Emotion:\n",
      "       Text    Label\n",
      "7157   একমত      joy\n",
      "7306   একমত      joy\n",
      "8099   একমত      joy\n",
      "8163   একমত      joy\n",
      "9838   একমত      joy\n",
      "10006  একমত      joy\n",
      "10021  একমত      joy\n",
      "11784  একমত  sadness\n",
      "11945  একমত      joy\n",
      "--------------------\n",
      "Similar text 'একমাত্র সরকারি আঙ্গুল চাপ দি রাজি আ শিক্ষিত ব্যক্তি আঙ্গুল চাপ নাআমি স্বাক্ষর কর জানি বায়োমেট্রিক পদ্ধতি দিয় দেশ মানুষ বিপ দি এগিয় নিয়' with different Emotion:\n",
      "                                                    Text     Label\n",
      "11606  একমাত্র সরকারি আঙ্গুল চাপ দি রাজি আ শিক্ষিত ব্...  surprise\n",
      "11651  একমাত্র সরকারি আঙ্গুল চাপ দি রাজি আ শিক্ষিত ব্...      fear\n",
      "--------------------\n",
      "Similar text 'একাজ কর তাদা মা কা একদিন রক্ত পান করব' with different Emotion:\n",
      "                                       Text    Label\n",
      "8696  একাজ কর তাদা মা কা একদিন রক্ত পান করব    anger\n",
      "8960  একাজ কর তাদা মা কা একদিন রক্ত পান করব  sadness\n",
      "--------------------\n",
      "Similar text 'কক্সবাজার কুতুবদিয়া উপজেলায় স্কুলছাত্র অচেতন কর ধর্ষণ অভিযোগ উঠ ঘটনায় আওয়ামী লীগ নেতা শেখ শহিদুল ইসলাম দোকান কর্মচারী মোহাম্মদ নওশাদ আটক কর পুলিশ' with different Emotion:\n",
      "                                                   Text    Label\n",
      "3405  কক্সবাজার কুতুবদিয়া উপজেলায় স্কুলছাত্র অচেতন...    anger\n",
      "3406  কক্সবাজার কুতুবদিয়া উপজেলায় স্কুলছাত্র অচেতন...  disgust\n",
      "--------------------\n",
      "Similar text 'কর' with different Emotion:\n",
      "     Text     Label\n",
      "8439   কর       joy\n",
      "8469   কর  surprise\n",
      "9024   কর   sadness\n",
      "9409   কর       joy\n",
      "9626   কর       joy\n",
      "9631   কর       joy\n",
      "9634   কর       joy\n",
      "9731   কর       joy\n",
      "--------------------\n",
      "Similar text 'কর পারব কারন কথায় থানা পুলিশ উঠ বস এমপি মন্ত্রি হাত ময়লা খমতায় সাধারন জনগণ জায়গা জমি টাক্কা পয়সা হাতিয় নিয় কয়েশো কু টাক মালিক লোক পথ ফকির কর দিয় দেখি বিচ কর টাকা পয়সা নিয় ছেড়' with different Emotion:\n",
      "                                                   Text    Label\n",
      "3355  কর পারব কারন কথায় থানা পুলিশ উঠ বস এমপি মন্ত্...    anger\n",
      "3356  কর পারব কারন কথায় থানা পুলিশ উঠ বস এমপি মন্ত্...     fear\n",
      "3357  কর পারব কারন কথায় থানা পুলিশ উঠ বস এমপি মন্ত্...  sadness\n",
      "--------------------\n",
      "Similar text 'কা এক অনুরুদ ক্রিকেট নির্বাচন রাজনিতি বাদ দিয় শুদু তনু হত্য বিচ দাবি এগিয় নিয় বির্তকিত সমালোচন কারন তনুর বিচার আন্দোলন নিচ পড় দামা চাপা যাব' with different Emotion:\n",
      "                                                    Text    Label\n",
      "11122  কা এক অনুরুদ ক্রিকেট নির্বাচন রাজনিতি বাদ দিয়...     fear\n",
      "11179  কা এক অনুরুদ ক্রিকেট নির্বাচন রাজনিতি বাদ দিয়...  sadness\n",
      "--------------------\n",
      "Similar text 'কোর্ট কল করল রাষ্ট্রপতি ব্যতীত প্রধানমন্ত্রী কর য ব্যাক্তি কোর্ট হাজির হ বাধ্য' with different Emotion:\n",
      "                                                    Text    Label\n",
      "12131  কোর্ট কল করল রাষ্ট্রপতি ব্যতীত প্রধানমন্ত্রী ক...     fear\n",
      "12170  কোর্ট কল করল রাষ্ট্রপতি ব্যতীত প্রধানমন্ত্রী ক...  disgust\n",
      "--------------------\n",
      "Similar text 'ক্যাম্পাস সবচেয় সুন্দর ব্যাপার ফুট উঠ রাত বাস মোহ একদম জীবন্ত লাগত ওয়াল গ্রেট জব জুনিয়রস' with different Emotion:\n",
      "                                                   Text     Label\n",
      "3790  ক্যাম্পাস সবচেয় সুন্দর ব্যাপার ফুট উঠ রাত বাস...  surprise\n",
      "3791  ক্যাম্পাস সবচেয় সুন্দর ব্যাপার ফুট উঠ রাত বাস...       joy\n",
      "--------------------\n",
      "Similar text 'ছাগল' with different Emotion:\n",
      "       Text    Label\n",
      "8061   ছাগল    anger\n",
      "9750   ছাগল  disgust\n",
      "10706  ছাগল  disgust\n",
      "--------------------\n",
      "Similar text 'ছালা গালা ছালা পাবেবৈশাখ আনন্দ গালা যাব নাএ মেলা আস পরপুরুষ সাথ মজা নি' with different Emotion:\n",
      "                                                    Text    Label\n",
      "10095  ছালা গালা ছালা পাবেবৈশাখ আনন্দ গালা যাব নাএ মে...  disgust\n",
      "10131  ছালা গালা ছালা পাবেবৈশাখ আনন্দ গালা যাব নাএ মে...  sadness\n",
      "--------------------\n",
      "Similar text 'টানা এগারোব বাংলাদেশ সর্বোচ্চ রফতানিকারক স্বর্ণ ট্রফি অর্জন কর জাব অ্যান্ড জুবায় ফেব্রিক্স রোবব প্রতিষ্ঠান উপ ব্যবস্থাপনা পরিচালক মোহাম্মদ আবদুল্লাহ জাবের হা প্রধানমন্ত্রী শেখ হাসিনা পুরস্ক তুল দ' with different Emotion:\n",
      "                                                   Text     Label\n",
      "4267  টানা এগারোব বাংলাদেশ সর্বোচ্চ রফতানিকারক স্বর্...       joy\n",
      "4268  টানা এগারোব বাংলাদেশ সর্বোচ্চ রফতানিকারক স্বর্...  surprise\n",
      "--------------------\n",
      "Similar text 'টিভি গলাবাজি তথ্য বিকৃতির বিরুদ্ধ মাওলানা সাখাওয়াত হোস টিভি গলাবাজি তথ্য বিকৃতির বিরুদ্ধ মাওলানা সাখাওয়াত হোস একা ভাল জবাব দিয় প্রসঙ্গ রাষ্ট্রধর্ম ইসলাম নিয় একাত্তর জার্নাল গলাবাজি তথ্য বিকৃতি গতকাল একাত্তর জার্নাল মুফতী সাখাওয়াত হুসাইন রাষ্ট্রধর্ম ইসলাম নিয় প্রশ্ন ক শোন বারব থামিয় ভিন্ন প্রসঙ্গ ভুল তথ্য ছুঁড় বিভ্রান্ত কর চেষ্ ক অনুষ্ঠান য তিন মৌলিক প্রশ্ন ক পৃথিবীর কয় মুসলিম দাশা সংবিধান ইসলাম আ দাশা রাষ্ট্রধর্ম ইসলাম থাকল দাশা ইসলাম থাকব এরশাদ এক মতলব নিয় কর পরবর্তী বিএনপি ভয় বাদ নি ভিডি লিংক প্রশ্ন মুফতী সাহেব মধ্যপ্রাচ্য মুসলিম দেশসহ বিশ্ব মুসলিম দাশা সংবিধান রাষ্ট্রধর্ম ইসলাম থাক কথা উপস্থাপিকা জোর দিয় বল চেষ্ কর য ইন্দোনেশিয়া মালয়েশিয়া নে আরো ব ইরাক ইরানে নে মুফতী সাহেব মরক্কো আলজেরিয় কথা সেগুলো উপস্থাপিকা অস্বীক কর আম দেখি মালয়েশিয় রাষ্ট্রধর্ম ইসলাম ফেডেরাল কন্সটিটিউশন ভাগ অাুা দেখুন মালয়েশিয় সংবিধান ইরাক রাষ্ট্রধর্ম ইসলাম সংবিধান আ ইরাক সংবিধান ইরান রাষ্ট্রধর্ম ইসলাম শীয়া মতবাদ সংবিধান আ ইরান মূল সংবিধান আনঅফিশিয়াল অনুবাদ মরক্কোর রাষ্ট্রধর্ম ইসলাম সংবিধান আ মরক্কোর সংবিধান আলজেরিয় রাষ্ট্রধর্ম ইসলাম সংবিধান আ আলজেরিয় মূল সংবিধান অনুবাদ ইন্দোনেশিয় রাষ্ট্রধর্ম ইসলাম সংবিধান এক একমাত্র গড বিশ্বাস ইসলাম ধর্ম নে ইন্দোনেশিয় সংবিধান আরো যেসব দাশা রাষ্ট্রধর্ম ইসলাম দেখুন সুন্দর গলাবাজি কর বারব মালয়েশিয়া ইন্দোনেশিয় কথা হ দ্বিতীয় প্রশ্ন জান চাওয়া রাষ্ট্রধর্ম ইসলাম থাকল দাশা ইসলাম থাকব আমা প্রশ্ন রাষ্ট্রধর্ম ইসলাম সমান তাহল থাক সমস্যা ক তৃতীয় প্রশ্ন ব রাজনীতি মতলবের মতলব কব কথা বল বাকী মতলব জনগণ উপকারী কিনা প্রশ্ন আমা পাল্ প্রশ্ন সংবিধান ক রাষ্ট্রধর্ম ইসলাম স্থান পায় নি ক সেকুলারিজম জায়গা প কা মতলব দেশ জনসংখ্য পার্সেন্ট সেকুল আম রোজা মুক্তিযুদ্ধ কর গল্প জেনে নামায দোয়া কর যুদ্ধ ব হওয় দৃষ্টান্ত তাহল ত্যাগ অমর্যাদা ক মিনিট কথায় গলাবাজি মিথ্য আশ্রয় নিল কীভাব হব ভা সত্য দিয় মোকাবিলা করুন বুদ্ধিমান সাহসী থাক মাওলানা সাহেব লেখা' with different Emotion:\n",
      "                                                    Text    Label\n",
      "11050  টিভি গলাবাজি তথ্য বিকৃতির বিরুদ্ধ মাওলানা সাখা...    anger\n",
      "11079  টিভি গলাবাজি তথ্য বিকৃতির বিরুদ্ধ মাওলানা সাখা...  sadness\n",
      "--------------------\n",
      "Similar text 'ঢাকা দক্ষিণ করপোরেশন বিএনপির প্রার্থী ইশরাক হোসেন নির্বাচনী প্রচার সময় ক্ষমতাসীন আওয়ামী লীগ বিএনপির কর্মী সমর্থক মধ্য সংঘর্ষ ঘটনা ঘট সময় আওয়ামী লীগ বিএনপির সমর্থক মধ্য সংঘর্ষ পাল্টাপাল্ ধাওয় ঘটনা ঘট' with different Emotion:\n",
      "                                                   Text    Label\n",
      "4329  ঢাকা দক্ষিণ করপোরেশন বিএনপির প্রার্থী ইশরাক হো...    anger\n",
      "4330  ঢাকা দক্ষিণ করপোরেশন বিএনপির প্রার্থী ইশরাক হো...  disgust\n",
      "--------------------\n",
      "Similar text 'তনু একমাত্র তনু তনু আ শ মার্চ তম মহান স্বাধীনতা দিবস প্রধানমন্ত্রী শেখ হাসিন ক্ষোভ উত্তাল কুমিল্লা অবিলম্ব কুমিল্লা বিভাগ গঠন করুন কুমিল্লা ভিক্টোরিয়া সরকারি কলেজ ইতিহাস বিভাগ স্নাতক সম্মান দ্বিতীয় বর্ষ ছাত্রী নাট্যকর্মী সোহাগী জাহান তনু ধর্ষণ শাষা হত্যা ক কালভার্ট পাশ জঙ্গল মাথা থেত্লানো সোহাগীর অর্ধনগ্ন মৃতদেহ উদ্ধ ক ঘটনায় জড়িত অবিলম্ব গ্রেফত বিচ দাবি ক্ষোভ উত্তাল উঠ কুমিল্লা নগরী এদি তনুর বাড়ি চল ত বাবামা স্বজন আহাজারি কুমিল্লা ভিক্টোরিয়া কলেজ সরকারি মহিলা কলেজসহ নগরীর শিক্ষা প্রতিষ্ঠান দল নাবা হাজ হাজ শিক্ষার্থীসহ সামাজিক সাংস্কৃতিক সংগঠন নেতাকর্মী মাঠ নেম শিক্ষার্থীসহ প্রতিবাদী জনতা নগরী দফায় দফায় বিক্ষোভ মিছিল শাষা দুপুর কান্দিরপাড় পূবালী চত্ত্বর মানববন্ধন সমাবেশ কর রাজধানী ঢাকাসহ দেশ স্থান নিয় গত চ বিক্ষোভ প্রতিবাদ সমাবেশ ক হ ফেসবুকে বই প্রতিবা ঝড় জেলা গঠন প্রস্তাবমত বাংলাদেশ বিভাগ বিভক্ত রাষ্ট্রঅবকাঠামো শিথীলসন্ত্রাসমুখী সন্ত্রাসবাদীঅনৈতিক চেতনা ক্রমবর্ধমান খালেদা জিয়া অর্ধশিক্ষিত কমবুঝ প্রধানমন্ত্রী বরিশাল সিলেট বিভাগ গঠন কর বাকী তিন বিভাগ গঠন কর ব ব সত্তে শিক্ষিত বুঝ প্রধানমন্ত্রী শেখ হাসিনা ইউনিয়ন ওয়ার্ড বিভক্তির সাথ সাথ বাংলাদেশ বিভাগ বিভক্ত কর ব ব বলায় পাঁচ বছর ময়মনসিংহ বিভাগ কর বিগত সাতবছর প্রধানমন্ত্রী শেখ হাসিন সরকারামল প্রবৃদ্ধির গড় হ বছর প্রবৃদ্ধির হ হব বছর প্রধানমন্ত্রী শেখ হাসিনা ব ব শুনা প্রবৃদ্ধির গড় হ জাতির ইতিহাস এইসাথ কুমিল্লা বিভাগটি প্রবৃদ্ধির গড় হ ক্রমশ হ প্রধানমন্ত্রী শেখ হাসিনা ব ব কথা শুনা পারত কুমিল্লা বিভাগ বাকী আ বাংলাদেশ বিভাগ বিভক্তির এক বিভাগ প্রভাবশীল আন্দোলন হব কুমিল্লা বিভাগ গঠন বার্ষিক ব্যয় বাড়ব চারকে টাকা বাংলাদেশ বিভাগ বিভক্ত ক রাষ্ট্রঅবকাঠামো সুষমগণতন্ত্রমুখী হবেসকলক্ষেত্র উদ নৈতিক সৃজনশীল চেতনা বিকাশ ধা দাবা প্রবৃদ্ধি গড়হ বৃদ্ধিসহ জাতির নিরাপত্তা উন্নয়ণ ধা বাড়ব জরুরী ভিত্তি বাকী কুমিল্লা বিভাগ করুন' with different Emotion:\n",
      "                                                    Text     Label\n",
      "11068  তনু একমাত্র তনু তনু আ শ মার্চ তম মহান স্বাধীনত...   sadness\n",
      "11092  তনু একমাত্র তনু তনু আ শ মার্চ তম মহান স্বাধীনত...  surprise\n",
      "--------------------\n",
      "Similar text 'তনু হত্য বিচ চা সাংবাদিক ক নীর ক ভয়' with different Emotion:\n",
      "                                       Text    Label\n",
      "11275  তনু হত্য বিচ চা সাংবাদিক ক নীর ক ভয়     fear\n",
      "11348  তনু হত্য বিচ চা সাংবাদিক ক নীর ক ভয়  sadness\n",
      "--------------------\n",
      "Similar text 'তাহল কা কুমিল্লা ভিক্টোরিয়া কলেজ ছাত্রী তনু ধর্ষণ গলা কাটা হত্যা করলো সর্ষ ক্ষেতে ভূত কুমিল্লা সেনানিবাস এলাকায় চাঞ্চল্যকর হত্যাকান্ড তনু থা সেনানিবাস এরিয়ায় এমনকি ঘটন স এলাক বাইরে যায়নি স্থান তনু ধর্ষণ ক হয়েছিলো ত আশেপাশ আছে৷ তাহল ঐসব ফুটেজ গ্যালো ক আচ্ছা বাদ দেনআমা দাশা আব থা মাগ ফুটেজ থাকেনা সেনাবাহিনীর ফুটেজ মে হ্যাক হইস কিছুক্ষণ পরপর এমপি এফআ ডিজেএফআ আরপি টহল জায়গায় ঘটনাস্থল দুইপাশ সেনা ক্যাম্প কোয়া আ তাইল ক্যামন সেনানিবাস এলাকায় ঢুক গালা আপন গুষ্ তথ্য দিয় ঢুক হবেতাহল ধর্ষক বাইর ঢু থা তব সেনাবাহিনীর কা নিশ্চ তথ্য আ সঠিক যৌক্তিক প্রমান দেখানো সেনানিবাস ঢুকা যায়না' with different Emotion:\n",
      "                                                    Text     Label\n",
      "11108  তাহল কা কুমিল্লা ভিক্টোরিয়া কলেজ ছাত্রী তনু ধ...      fear\n",
      "11164  তাহল কা কুমিল্লা ভিক্টোরিয়া কলেজ ছাত্রী তনু ধ...  surprise\n",
      "--------------------\n",
      "Similar text 'দেশ সকল ম্যাজিস্ট্রেট ভাই দৃষ্ আকর্ষণ কর আপনা একত্রিত য় পোর্ট ম্যাজিস্ট্রেট পাশ দাড়ান বেয়াদপ কঠিন বিচ কর দাশা অন্যায় বিচ করল আন্দলন নাম বিচারকারি অপমান ক ফ্যাশন গ' with different Emotion:\n",
      "                                                    Text  Label\n",
      "12103  দেশ সকল ম্যাজিস্ট্রেট ভাই দৃষ্ আকর্ষণ কর আপনা ...  anger\n",
      "12197  দেশ সকল ম্যাজিস্ট্রেট ভাই দৃষ্ আকর্ষণ কর আপনা ...    joy\n",
      "--------------------\n",
      "Similar text 'নড়াইল রবিশস্য সরিষ সঙ্গ মৌমা পালন কর মধু চাষ জনপ্রিয় উঠ একদি সরিষ ফলন বাড় অন্যদি বাড়তি আয় উৎস হ খাঁ মধু ফল সরিষ উৎপাদন বৃদ্ধির পাশাপাশি মধু বিক্রি কৃষক লাভবান হচ্ছ' with different Emotion:\n",
      "                                                   Text     Label\n",
      "4816  নড়াইল রবিশস্য সরিষ সঙ্গ মৌমা পালন কর মধু চাষ ...       joy\n",
      "4817  নড়াইল রবিশস্য সরিষ সঙ্গ মৌমা পালন কর মধু চাষ ...  surprise\n",
      "--------------------\n",
      "Similar text 'নাটক' with different Emotion:\n",
      "       Text    Label\n",
      "9452   নাটক  disgust\n",
      "10595  নাটক      joy\n",
      "--------------------\n",
      "Similar text 'পাগল' with different Emotion:\n",
      "       Text    Label\n",
      "9705   পাগল  disgust\n",
      "10414  পাগল  sadness\n",
      "--------------------\n",
      "Similar text 'পাপিয়া ভাল সৎ নারী পুরুষ কান্ন আওয়াজ শুন স প্রভাব শালী যৌন চাহিদা মিটা গিয় বয়স বাচ্চা মেয়ে জীবন একেবার নস্ট কর দিয় ত সাথ জড়িত রয় আমা দেশ প্রভাব শালী আমলা সচিব সরকারী অফিস পুলিশ শিল্প পতি বাবসায়ি মজা লুট এক উঠতি বয়স মেয় কিশরি জীবন চিরতর শেষ কর দিয় জীবন পারব আগ মত ফিরিয় দি পুরো দুনিয়া বিক্রয় স আপনা ফিরিয় দি পারবেনা আম এহ জঘন অপরাধির জড়িত সকল সকল সামন রাস্তায় খোলা ফাঁসী চা' with different Emotion:\n",
      "                                                   Text    Label\n",
      "4998  পাপিয়া ভাল সৎ নারী পুরুষ কান্ন আওয়াজ শুন স প...    anger\n",
      "4999  পাপিয়া ভাল সৎ নারী পুরুষ কান্ন আওয়াজ শুন স প...  sadness\n",
      "--------------------\n",
      "Similar text 'পৃথিবী আনন্দ দুখ সময় থাকব সমান সমান বিজ্ঞান ভাষায় আনন্ সংরক্ষণশীলতা একজন চরম আনন্দ পালা চরম দুখ পাতা হব' with different Emotion:\n",
      "                                                   Text    Label\n",
      "5047  পৃথিবী আনন্দ দুখ সময় থাকব সমান সমান বিজ্ঞান ভ...      joy\n",
      "5048  পৃথিবী আনন্দ দুখ সময় থাকব সমান সমান বিজ্ঞান ভ...  sadness\n",
      "--------------------\n",
      "Similar text 'পৃথিবী আপন মত মানুষ আ বলেপৃথিবী সুন্দরধর্ম মানুষ বড়সত্যি আপনা ধন্যবাদ দিয় ছোট কর' with different Emotion:\n",
      "                                                   Text Label\n",
      "8385  পৃথিবী আপন মত মানুষ আ বলেপৃথিবী সুন্দরধর্ম মান...   joy\n",
      "9239  পৃথিবী আপন মত মানুষ আ বলেপৃথিবী সুন্দরধর্ম মান...  fear\n",
      "--------------------\n",
      "Similar text 'পৃথিবীর সবচেয় সুখী মানুষ সৌদি' with different Emotion:\n",
      "                               Text     Label\n",
      "506  পৃথিবীর সবচেয় সুখী মানুষ সৌদি  surprise\n",
      "834  পৃথিবীর সবচেয় সুখী মানুষ সৌদি       joy\n",
      "--------------------\n",
      "Similar text 'প্রতিমা ভেঙ পুরোহিত মুয়াজ্জিন হত্যা কর ধর্ম নে মানব নাম বর্বর নরপিশাচ ধর্ম শত্রু' with different Emotion:\n",
      "                                                   Text    Label\n",
      "8394  প্রতিমা ভেঙ পুরোহিত মুয়াজ্জিন হত্যা কর ধর্ম ন...  sadness\n",
      "9086  প্রতিমা ভেঙ পুরোহিত মুয়াজ্জিন হত্যা কর ধর্ম ন...    anger\n",
      "--------------------\n",
      "Similar text 'প্রশ্ন শুন বুঝা বাংলাদেশ অধিকাংশ সাংবাদিক এক এক নিচু মান উৎকৃষ্ট দালাল' with different Emotion:\n",
      "                                                   Text    Label\n",
      "5133  প্রশ্ন শুন বুঝা বাংলাদেশ অধিকাংশ সাংবাদিক এক এ...    anger\n",
      "5134  প্রশ্ন শুন বুঝা বাংলাদেশ অধিকাংশ সাংবাদিক এক এ...  disgust\n",
      "--------------------\n",
      "Similar text 'বছর প্রতিবেদন সালমান শাহ আত্মহত্যা কর বছর সাংবাদিক সাগর রুনির প্রতিবেদন হব অপর হত্যা কর আত্মহত্যা কর' with different Emotion:\n",
      "                                                   Text    Label\n",
      "1597  বছর প্রতিবেদন সালমান শাহ আত্মহত্যা কর বছর সাংব...     fear\n",
      "1598  বছর প্রতিবেদন সালমান শাহ আত্মহত্যা কর বছর সাংব...  sadness\n",
      "--------------------\n",
      "Similar text 'বল' with different Emotion:\n",
      "      Text    Label\n",
      "8764    বল      joy\n",
      "8800    বল    anger\n",
      "9597    বল      joy\n",
      "9835    বল      joy\n",
      "10025   বল  sadness\n",
      "11948   বল      joy\n",
      "--------------------\n",
      "Similar text 'বাংলাদেশ তথ্যপ্রযুক্তি প্রযুক্তি বিনিয়োগকারী প্রতিষ্ঠান ইজেনারেশন লিমিটেড ভারত এইচসিসি গ্রুপ সহযোগী প্রতিষ্ঠান হাইব টেকনোক্রাট লিমিটেড সাথ সমঝোতা চুক্তি স্বাক্ষর প্রধানমন্ত্রী শেখ হাসিন ভার রাষ্ট্রীয় সফরকাল শুক্রব নয়াদিল্লীর আইটিসি মোর্য হাটা ভারত বাংলাদেশ বিজনেস ফোরাম আইবিবিএফ উদ্বোধন শাষা সমঝোতা চুক্তি স্বাক্ষরিত' with different Emotion:\n",
      "                                                   Text  Label\n",
      "5359  বাংলাদেশ তথ্যপ্রযুক্তি প্রযুক্তি বিনিয়োগকারী ...  anger\n",
      "5360  বাংলাদেশ তথ্যপ্রযুক্তি প্রযুক্তি বিনিয়োগকারী ...    joy\n",
      "--------------------\n",
      "Similar text 'বাংলাদেশ পুলিশ পরিচয় গোপন কর কা চাকরী কর দেখুন' with different Emotion:\n",
      "                                                 Text     Label\n",
      "8050  বাংলাদেশ পুলিশ পরিচয় গোপন কর কা চাকরী কর দেখুন  surprise\n",
      "9366  বাংলাদেশ পুলিশ পরিচয় গোপন কর কা চাকরী কর দেখুন   sadness\n",
      "--------------------\n",
      "Similar text 'বানান ভুল' with different Emotion:\n",
      "            Text    Label\n",
      "11931  বানান ভুল  sadness\n",
      "12001  বানান ভুল  disgust\n",
      "12149  বানান ভুল  disgust\n",
      "--------------------\n",
      "Similar text 'বিচ' with different Emotion:\n",
      "     Text    Label\n",
      "9519  বিচ  sadness\n",
      "9637  বিচ    anger\n",
      "--------------------\n",
      "Similar text 'বিচ ক কা চাইব আইন মানুষ বড় অসয়া' with different Emotion:\n",
      "                                    Text     Label\n",
      "11214  বিচ ক কা চাইব আইন মানুষ বড় অসয়া  surprise\n",
      "11218  বিচ ক কা চাইব আইন মানুষ বড় অসয়া   sadness\n",
      "--------------------\n",
      "Similar text 'বিচ চা' with different Emotion:\n",
      "         Text    Label\n",
      "9374   বিচ চা  sadness\n",
      "9464   বিচ চা    anger\n",
      "9588   বিচ চা  sadness\n",
      "9617   বিচ চা    anger\n",
      "9620   বিচ চা    anger\n",
      "9632   বিচ চা    anger\n",
      "9649   বিচ চা    anger\n",
      "9650   বিচ চা    anger\n",
      "9652   বিচ চা    anger\n",
      "9675   বিচ চা    anger\n",
      "9720   বিচ চা  sadness\n",
      "9791   বিচ চা    anger\n",
      "10015  বিচ চা  disgust\n",
      "--------------------\n",
      "Similar text 'বিশ্বব্যাপী ছড়িয় পড় করোনাভাইরাস চীন বাইর ফ্রান্স জাপান অস্ট্রেলিয়া মালয়েশিয়া নেপাল সিঙ্গাপুর দক্ষিণ কোরিয়া তাইওয়ান থাইল্যান্ড যুক্তরাষ্ট্র ভিয়েতনাম ভাইরাস সংক্রমিত রোগী শনাক্ত ক গ' with different Emotion:\n",
      "                                                   Text    Label\n",
      "5552  বিশ্বব্যাপী ছড়িয় পড় করোনাভাইরাস চীন বাইর ফ্...  disgust\n",
      "5553  বিশ্বব্যাপী ছড়িয় পড় করোনাভাইরাস চীন বাইর ফ্...     fear\n",
      "--------------------\n",
      "Similar text 'ভা' with different Emotion:\n",
      "      Text Label\n",
      "132     ভা   joy\n",
      "10009   ভা  fear\n",
      "--------------------\n",
      "Similar text 'ভা আজকে আপন ভিডি দেখলাম ভালো লাগ গ স্যলুট বস চালিয় সাবস্ক্রাইব করলাম' with different Emotion:\n",
      "                                                   Text     Label\n",
      "5708  ভা আজকে আপন ভিডি দেখলাম ভালো লাগ গ স্যলুট বস চ...       joy\n",
      "5709  ভা আজকে আপন ভিডি দেখলাম ভালো লাগ গ স্যলুট বস চ...  surprise\n",
      "--------------------\n",
      "Similar text 'ভিনগ্রহ আবাল ইউটিউব চালায় সুন্দর এক ভিডি ডিসলাইক এইসব ডিসলাইকার থাপড়া মন' with different Emotion:\n",
      "                                                   Text    Label\n",
      "3621  ভিনগ্রহ আবাল ইউটিউব চালায় সুন্দর এক ভিডি ডিসল...    anger\n",
      "3622  ভিনগ্রহ আবাল ইউটিউব চালায় সুন্দর এক ভিডি ডিসল...  disgust\n",
      "--------------------\n",
      "Similar text 'ভূত মুখ রাম রাম' with different Emotion:\n",
      "                 Text    Label\n",
      "8056  ভূত মুখ রাম রাম    anger\n",
      "8137  ভূত মুখ রাম রাম  sadness\n",
      "8233  ভূত মুখ রাম রাম  sadness\n",
      "--------------------\n",
      "Similar text 'মা' with different Emotion:\n",
      "      Text    Label\n",
      "10538   মা  sadness\n",
      "10593   মা      joy\n",
      "--------------------\n",
      "Similar text 'মানুষ' with different Emotion:\n",
      "       Text    Label\n",
      "9659  মানুষ  sadness\n",
      "9732  মানুষ  sadness\n",
      "9733  মানুষ  disgust\n",
      "--------------------\n",
      "Similar text 'মানুষ ধর্ম ব্যবহ চল এসব' with different Emotion:\n",
      "                          Text    Label\n",
      "11209  মানুষ ধর্ম ব্যবহ চল এসব  sadness\n",
      "11221  মানুষ ধর্ম ব্যবহ চল এসব  disgust\n",
      "--------------------\n",
      "Similar text 'মুসলিম হিন্দু' with different Emotion:\n",
      "               Text     Label\n",
      "8945  মুসলিম হিন্দু   disgust\n",
      "9138  মুসলিম হিন্দু  surprise\n",
      "--------------------\n",
      "Similar text 'যেভাব কথা বলত মন জনগন বিপুল পরিমান ভোট পেয় ক্ষমতায় নির্লজ্জ কোথাক' with different Emotion:\n",
      "                                                   Text    Label\n",
      "2695  যেভাব কথা বলত মন জনগন বিপুল পরিমান ভোট পেয় ক্...    anger\n",
      "2696  যেভাব কথা বলত মন জনগন বিপুল পরিমান ভোট পেয় ক্...  disgust\n",
      "--------------------\n",
      "Similar text 'রকিবুল কম যাননি ভারতীয় বোলার বোলিং তোপ সামল অধিনায়ক সঙ্গ দিয় গ অসাধারণ কৃতিত্ব দল জয় বন্দর পৌঁ মাঠ ছেড় দুজন' with different Emotion:\n",
      "                                                   Text     Label\n",
      "6285  রকিবুল কম যাননি ভারতীয় বোলার বোলিং তোপ সামল অ...       joy\n",
      "6286  রকিবুল কম যাননি ভারতীয় বোলার বোলিং তোপ সামল অ...  surprise\n",
      "--------------------\n",
      "Similar text 'রশি দিয় ব্যান লাগানো অনুষ্ঠান প্রচন্ড মানহানীর বিষয় অনুষ্ঠান ব্যবস্থাপনায় ছি জবাবদিহীতায় আনা' with different Emotion:\n",
      "                                                   Text    Label\n",
      "6300  রশি দিয় ব্যান লাগানো অনুষ্ঠান প্রচন্ড মানহানী...    anger\n",
      "6301  রশি দিয় ব্যান লাগানো অনুষ্ঠান প্রচন্ড মানহানী...  disgust\n",
      "--------------------\n",
      "Similar text 'রাইট' with different Emotion:\n",
      "       Text  Label\n",
      "7610   রাইট    joy\n",
      "9448   রাইট    joy\n",
      "9747   রাইট  anger\n",
      "10026  রাইট    joy\n",
      "11901  রাইট    joy\n",
      "--------------------\n",
      "Similar text 'রান খেলা জিতব ইংশাআললা' with different Emotion:\n",
      "                        Text     Label\n",
      "354   রান খেলা জিতব ইংশাআললা  surprise\n",
      "1022  রান খেলা জিতব ইংশাআললা       joy\n",
      "--------------------\n",
      "Similar text 'লেবুর শরব আয়েশ কর চুমুক দি দি পাশ দেয়াল দৃষ্ ফেরাতে চোখ আট হা আঁকা ছবির দি য ছবি শোভা পা বৃষ্টিভেজা একফা লেবুর ছ গ স্বাদ দ্বিগুণ আহা স্নিগ্ধতা সতেজভাব য মুহূর্তে ছেয় ফেল শরীর মন গ ছবির কথা অন্দরসজ্জায় লেবুর রকমারি সাজ আপন প্রিয় অঙ্গন দাবা সতেজ হাসি' with different Emotion:\n",
      "                                                   Text     Label\n",
      "6445  লেবুর শরব আয়েশ কর চুমুক দি দি পাশ দেয়াল দৃষ্...       joy\n",
      "6446  লেবুর শরব আয়েশ কর চুমুক দি দি পাশ দেয়াল দৃষ্...  surprise\n",
      "--------------------\n",
      "Similar text 'শফিক রেহমান অপরাধী অপরাধী করছ কা প্রশ্ন ক বড় অপরাধী নিশ্চয় বিরাট বড় ক্রিমিনাল তাইনা মহা আয়োজন কর গ্রেফত ক আচ্ছা দাশা একেরপর এক য মানুষ খুন হ খুনি ধ হ ক য ব্যাংক এতো টাকা লুট ক কাউ ধ তনুসহ এক এক খুনধর্ষণ চল খুনিধর্ষক ধর ক আচ্ছা শফিক রেহমান ত বড় ক্রিমিনাল তাইনা আজব ব্যাপ ফাজলামির এক সীমা আ' with different Emotion:\n",
      "                                                   Text    Label\n",
      "7162  শফিক রেহমান অপরাধী অপরাধী করছ কা প্রশ্ন ক বড় ...    anger\n",
      "7931  শফিক রেহমান অপরাধী অপরাধী করছ কা প্রশ্ন ক বড় ...  disgust\n",
      "--------------------\n",
      "Similar text 'শালা বাইনচোদ বাংলাদেশ খেলতে পার আব নাটক চোদা কা' with different Emotion:\n",
      "                                                 Text    Label\n",
      "6484  শালা বাইনচোদ বাংলাদেশ খেলতে পার আব নাটক চোদা কা    anger\n",
      "6485  শালা বাইনচোদ বাংলাদেশ খেলতে পার আব নাটক চোদা কা  disgust\n",
      "--------------------\n",
      "Similar text 'শালা স্বরাষ্ট্রপ্রতিমন্ত্রী তোর মত ছাগল য কিভাব মন্ত্রী বুঝিনা বাংলাদেশ ভালো ভালো লোক থাক আসল নির্বাচিত অবৈধভাব ক্ষমতায় আস' with different Emotion:\n",
      "                                                   Text    Label\n",
      "6488  শালা স্বরাষ্ট্রপ্রতিমন্ত্রী তোর মত ছাগল য কিভা...    anger\n",
      "6489  শালা স্বরাষ্ট্রপ্রতিমন্ত্রী তোর মত ছাগল য কিভা...  disgust\n",
      "--------------------\n",
      "Similar text 'শীত শাষা সবজির দাম কম কমেনি শীতকাল সবজির দাম কেমন ত বেঞ্চমার্ক নির্দেশক মাঝারি আকার এক ফুলকপি এখনো টাক কম ছোট এক লাউয় দাম টাকা' with different Emotion:\n",
      "                                                   Text     Label\n",
      "6511  শীত শাষা সবজির দাম কম কমেনি শীতকাল সবজির দাম ক...   sadness\n",
      "6512  শীত শাষা সবজির দাম কম কমেনি শীতকাল সবজির দাম ক...  surprise\n",
      "--------------------\n",
      "Similar text 'সবসময় নিজেক সুখী ভা কখনো কারো কা প্রত্যাশা কারো কা প্রত্যাশা সবসময় দুখ দাঁড়ায়' with different Emotion:\n",
      "                                                   Text    Label\n",
      "2451  সবসময় নিজেক সুখী ভা কখনো কারো কা প্রত্যাশা কা...      joy\n",
      "2452  সবসময় নিজেক সুখী ভা কখনো কারো কা প্রত্যাশা কা...  sadness\n",
      "--------------------\n",
      "Similar text 'সরাসরি ঘোষনা দ আপন ধর্ম ইসলাম শাহবাগ নাস্তিক ভুল তাহল আম আপন পাশ থাকি থাকি আল্লাহ আপন পাশ আছ' with different Emotion:\n",
      "                                                   Text Label\n",
      "7391  সরাসরি ঘোষনা দ আপন ধর্ম ইসলাম শাহবাগ নাস্তিক ভ...   joy\n",
      "9854  সরাসরি ঘোষনা দ আপন ধর্ম ইসলাম শাহবাগ নাস্তিক ভ...  fear\n",
      "--------------------\n",
      "Similar text 'সহমত পোষণ করছিভাল ভাল কালো কালো বিবেক সম্পন্ন মানুষ কর্তব্য বল মন করিযা সমালোচনা কর কতটুকু বিবেক প্রসুত ভাবা দেখ' with different Emotion:\n",
      "                                                   Text    Label\n",
      "7385  সহমত পোষণ করছিভাল ভাল কালো কালো বিবেক সম্পন্ন ...      joy\n",
      "7402  সহমত পোষণ করছিভাল ভাল কালো কালো বিবেক সম্পন্ন ...  sadness\n",
      "7567  সহমত পোষণ করছিভাল ভাল কালো কালো বিবেক সম্পন্ন ...     fear\n",
      "--------------------\n",
      "Similar text 'সাল মার্চ সংঘা জর্জর আ ইয়েম সময় হুতি বিদ্রোহী দেশ পশ্চিমাঞ্চল নিয়ন্ত্রণ নিয় নেয় প্রেসিডেন্ট হাদি বাদা পালিয় যাতা বাধ্য কর বিশ্লেষক ম ইা়া গৃহযুদ্ধ আড়াল সৌদি আরবসহ সুন্নি দেশ সঙ্গ ছায়াযুদ্ধ চল শিয়া মতাবলম্বী ইরান' with different Emotion:\n",
      "                                                   Text    Label\n",
      "1578  সাল মার্চ সংঘা জর্জর আ ইয়েম সময় হুতি বিদ্রোহ...     fear\n",
      "1579  সাল মার্চ সংঘা জর্জর আ ইয়েম সময় হুতি বিদ্রোহ...  sadness\n",
      "--------------------\n",
      "Similar text 'সাহিত্য সাথ টাকা পয়স নাগপাশ লেনদ আম ছিলো বল প্রকাশক টাক প্রয়োজন বল চা যাচ্ছ ভবিষ্যৎ প্রজন্ম ছাপাচ্ছ পড় দেখ প্রয়োজন বোধ করছ' with different Emotion:\n",
      "                                                   Text    Label\n",
      "6783  সাহিত্য সাথ টাকা পয়স নাগপাশ লেনদ আম ছিলো বল প...  disgust\n",
      "6784  সাহিত্য সাথ টাকা পয়স নাগপাশ লেনদ আম ছিলো বল প...  sadness\n",
      "--------------------\n",
      "Similar text 'স্য ওরাত ভদ্র ফ্যামিলীর খান্দানি চোর বিল গেইট কোম্পানি দরক চুরি টাকা কমা পারবেনা আসল স্য হকিন্নীর —————————' with different Emotion:\n",
      "                                                    Text    Label\n",
      "12092  স্য ওরাত ভদ্র ফ্যামিলীর খান্দানি চোর বিল গেইট ...  sadness\n",
      "12153  স্য ওরাত ভদ্র ফ্যামিলীর খান্দানি চোর বিল গেইট ...    anger\n",
      "--------------------\n",
      "Similar text 'হট্টগোল কর অপরাধ আরো কঠোর শাস্তি হোকদেশ কতদিন চোর হা জিম্মি থাকব' with different Emotion:\n",
      "                                                    Text    Label\n",
      "12088  হট্টগোল কর অপরাধ আরো কঠোর শাস্তি হোকদেশ কতদিন ...    anger\n",
      "12100  হট্টগোল কর অপরাধ আরো কঠোর শাস্তি হোকদেশ কতদিন ...  sadness\n",
      "--------------------\n",
      "------------------\n",
      "Similar text '' with different Emotion:\n",
      "      Text    Label\n",
      "12929          fear\n",
      "14537       disgust\n",
      "--------------------\n",
      "Similar text 'আন্তর্জাতিক শ্রম সংস্থ আইএল প্রতিষ্ঠ শতবর্ষ পালন উপলক্ষ গিনেস রেকর্ড ভাঙ বাংলাদেশ বিশ্ব সর্ববৃহৎ শার্ট সেলাইয় পরিকল্পনা কর বিশ্ব দ্বিতীয় বৃহত্তম রফতানিকারক বাংলাদেশ পোশাক শিল্প তুল ধর বাংলাদেশ গার্মেন্ট প্রস্তুতকারক রফতানিকারক সমিতি বিজিএমইএ সুতি কাপড় শার্ট সেলাইয় দায়িত্ব দেয়া' with different Emotion:\n",
      "                                                    Text     Label\n",
      "15256  আন্তর্জাতিক শ্রম সংস্থ আইএল প্রতিষ্ঠ শতবর্ষ পা...  surprise\n",
      "15257  আন্তর্জাতিক শ্রম সংস্থ আইএল প্রতিষ্ঠ শতবর্ষ পা...       joy\n",
      "--------------------\n",
      "Similar text 'আশির দশ আম জন্মে খেয়ে শুনে অনুদাবন য আবেগ ভালোবাসা আম ইতিহাস কখনো পাব' with different Emotion:\n",
      "                                                    Text    Label\n",
      "14942  আশির দশ আম জন্মে খেয়ে শুনে অনুদাবন য আবেগ ভাল...      joy\n",
      "14943  আশির দশ আম জন্মে খেয়ে শুনে অনুদাবন য আবেগ ভাল...  sadness\n",
      "--------------------\n",
      "Similar text 'এক সুখ সংস ধ্বংস কর শয়তান অস্ত্র আবিস্ক কর ত মধ্য মারাত্নক অস্ত্র স্ত্রীর ঘ্যানর ঘ্যানর' with different Emotion:\n",
      "                                                    Text    Label\n",
      "16344  এক সুখ সংস ধ্বংস কর শয়তান অস্ত্র আবিস্ক কর ত ...  disgust\n",
      "16345  এক সুখ সংস ধ্বংস কর শয়তান অস্ত্র আবিস্ক কর ত ...  sadness\n",
      "--------------------\n",
      "Similar text 'দেশ সকল ম্যাজিস্ট্রেট ভাই দৃষ্ আকর্ষণ কর আপনা একত্রিত য় পোর্ট ম্যাজিস্ট্রেট পাশ দাড়ান বেয়াদপ কঠিন বিচ কর দাশা অন্যায় বিচ করল আন্দলন নাম বিচারকারি অপমান ক ফ্যাশন গ' with different Emotion:\n",
      "                                                    Text    Label\n",
      "12319  দেশ সকল ম্যাজিস্ট্রেট ভাই দৃষ্ আকর্ষণ কর আপনা ...    anger\n",
      "12348  দেশ সকল ম্যাজিস্ট্রেট ভাই দৃষ্ আকর্ষণ কর আপনা ...  sadness\n",
      "--------------------\n",
      "Similar text 'নিরাপত্তা প্রধান সকল চুরির হোতা ওনা যথাযথ আইনি প্রক্রিয়ায় এন বিচ ক আশাকরি অন্যায় কা নতি শিক কর' with different Emotion:\n",
      "                                                    Text    Label\n",
      "12269  নিরাপত্তা প্রধান সকল চুরির হোতা ওনা যথাযথ আইনি...      joy\n",
      "12338  নিরাপত্তা প্রধান সকল চুরির হোতা ওনা যথাযথ আইনি...  sadness\n",
      "12347  নিরাপত্তা প্রধান সকল চুরির হোতা ওনা যথাযথ আইনি...     fear\n",
      "--------------------\n",
      "Similar text 'পৃথিবীর সবচেয় সুখী মানুষ সৌদি' with different Emotion:\n",
      "                                 Text     Label\n",
      "13834  পৃথিবীর সবচেয় সুখী মানুষ সৌদি  surprise\n",
      "14162  পৃথিবীর সবচেয় সুখী মানুষ সৌদি       joy\n",
      "--------------------\n",
      "Similar text 'বছর প্রতিবেদন সালমান শাহ আত্মহত্যা কর বছর সাংবাদিক সাগর রুনির প্রতিবেদন হব অপর হত্যা কর আত্মহত্যা কর' with different Emotion:\n",
      "                                                    Text    Label\n",
      "14925  বছর প্রতিবেদন সালমান শাহ আত্মহত্যা কর বছর সাংব...     fear\n",
      "14926  বছর প্রতিবেদন সালমান শাহ আত্মহত্যা কর বছর সাংব...  sadness\n",
      "--------------------\n",
      "Similar text 'বিমানবন্দর প্রধান নিরাপত্তা কর্মকর্ত বিরুদ্ধ আইনানুগ সর্বোচ্চ কঠিন শাস্তি দেওয় অনুরোধ ম্যাজিস্ট্রেট চোর ধর শাস্তি দেওয়ায় চোর ঐক্যবদ্ধ চোর কা কোনভাবে হারা যাতা পার' with different Emotion:\n",
      "                                                    Text    Label\n",
      "12355  বিমানবন্দর প্রধান নিরাপত্তা কর্মকর্ত বিরুদ্ধ আ...  sadness\n",
      "12361  বিমানবন্দর প্রধান নিরাপত্তা কর্মকর্ত বিরুদ্ধ আ...      joy\n",
      "--------------------\n",
      "Similar text 'যেভাব কথা বলত মন জনগন বিপুল পরিমান ভোট পেয় ক্ষমতায় নির্লজ্জ কোথাক' with different Emotion:\n",
      "                                                    Text    Label\n",
      "16023  যেভাব কথা বলত মন জনগন বিপুল পরিমান ভোট পেয় ক্...    anger\n",
      "16024  যেভাব কথা বলত মন জনগন বিপুল পরিমান ভোট পেয় ক্...  disgust\n",
      "--------------------\n",
      "Similar text 'রান খেলা জিতব ইংশাআললা' with different Emotion:\n",
      "                         Text     Label\n",
      "13682  রান খেলা জিতব ইংশাআললা  surprise\n",
      "14350  রান খেলা জিতব ইংশাআললা       joy\n",
      "--------------------\n",
      "Similar text 'সবসময় নিজেক সুখী ভা কখনো কারো কা প্রত্যাশা কারো কা প্রত্যাশা সবসময় দুখ দাঁড়ায়' with different Emotion:\n",
      "                                                    Text    Label\n",
      "15779  সবসময় নিজেক সুখী ভা কখনো কারো কা প্রত্যাশা কা...      joy\n",
      "15780  সবসময় নিজেক সুখী ভা কখনো কারো কা প্রত্যাশা কা...  sadness\n",
      "--------------------\n",
      "Similar text 'সাল মার্চ সংঘা জর্জর আ ইয়েম সময় হুতি বিদ্রোহী দেশ পশ্চিমাঞ্চল নিয়ন্ত্রণ নিয় নেয় প্রেসিডেন্ট হাদি বাদা পালিয় যাতা বাধ্য কর বিশ্লেষক ম ইা়া গৃহযুদ্ধ আড়াল সৌদি আরবসহ সুন্নি দেশ সঙ্গ ছায়াযুদ্ধ চল শিয়া মতাবলম্বী ইরান' with different Emotion:\n",
      "                                                    Text    Label\n",
      "14906  সাল মার্চ সংঘা জর্জর আ ইয়েম সময় হুতি বিদ্রোহ...     fear\n",
      "14907  সাল মার্চ সংঘা জর্জর আ ইয়েম সময় হুতি বিদ্রোহ...  sadness\n",
      "--------------------\n",
      "--------------------\n",
      "Similar text 'কক্সবাজার কুতুবদিয়া উপজেলায় স্কুলছাত্র অচেতন কর ধর্ষণ অভিযোগ উঠ ঘটনায় আওয়ামী লীগ নেতা শেখ শহিদুল ইসলাম দোকান কর্মচারী মোহাম্মদ নওশাদ আটক কর পুলিশ' with different Emotion:\n",
      "                                                    Text    Label\n",
      "16733  কক্সবাজার কুতুবদিয়া উপজেলায় স্কুলছাত্র অচেতন...    anger\n",
      "16734  কক্সবাজার কুতুবদিয়া উপজেলায় স্কুলছাত্র অচেতন...  disgust\n",
      "--------------------\n",
      "Similar text 'কর পারব কারন কথায় থানা পুলিশ উঠ বস এমপি মন্ত্রি হাত ময়লা খমতায় সাধারন জনগণ জায়গা জমি টাক্কা পয়সা হাতিয় নিয় কয়েশো কু টাক মালিক লোক পথ ফকির কর দিয় দেখি বিচ কর টাকা পয়সা নিয় ছেড়' with different Emotion:\n",
      "                                                    Text    Label\n",
      "16683  কর পারব কারন কথায় থানা পুলিশ উঠ বস এমপি মন্ত্...    anger\n",
      "16684  কর পারব কারন কথায় থানা পুলিশ উঠ বস এমপি মন্ত্...     fear\n",
      "16685  কর পারব কারন কথায় থানা পুলিশ উঠ বস এমপি মন্ত্...  sadness\n",
      "--------------------\n",
      "Similar text 'ক্যাম্পাস সবচেয় সুন্দর ব্যাপার ফুট উঠ রাত বাস মোহ একদম জীবন্ত লাগত ওয়াল গ্রেট জব জুনিয়রস' with different Emotion:\n",
      "                                                    Text     Label\n",
      "17118  ক্যাম্পাস সবচেয় সুন্দর ব্যাপার ফুট উঠ রাত বাস...  surprise\n",
      "17119  ক্যাম্পাস সবচেয় সুন্দর ব্যাপার ফুট উঠ রাত বাস...       joy\n",
      "--------------------\n",
      "Similar text 'টানা এগারোব বাংলাদেশ সর্বোচ্চ রফতানিকারক স্বর্ণ ট্রফি অর্জন কর জাব অ্যান্ড জুবায় ফেব্রিক্স রোবব প্রতিষ্ঠান উপ ব্যবস্থাপনা পরিচালক মোহাম্মদ আবদুল্লাহ জাবের হা প্রধানমন্ত্রী শেখ হাসিনা পুরস্ক তুল দ' with different Emotion:\n",
      "                                                    Text     Label\n",
      "17595  টানা এগারোব বাংলাদেশ সর্বোচ্চ রফতানিকারক স্বর্...       joy\n",
      "17596  টানা এগারোব বাংলাদেশ সর্বোচ্চ রফতানিকারক স্বর্...  surprise\n",
      "--------------------\n",
      "Similar text 'ঢাকা দক্ষিণ করপোরেশন বিএনপির প্রার্থী ইশরাক হোসেন নির্বাচনী প্রচার সময় ক্ষমতাসীন আওয়ামী লীগ বিএনপির কর্মী সমর্থক মধ্য সংঘর্ষ ঘটনা ঘট সময় আওয়ামী লীগ বিএনপির সমর্থক মধ্য সংঘর্ষ পাল্টাপাল্ ধাওয় ঘটনা ঘট' with different Emotion:\n",
      "                                                    Text    Label\n",
      "17657  ঢাকা দক্ষিণ করপোরেশন বিএনপির প্রার্থী ইশরাক হো...    anger\n",
      "17658  ঢাকা দক্ষিণ করপোরেশন বিএনপির প্রার্থী ইশরাক হো...  disgust\n",
      "--------------------\n",
      "Similar text 'নড়াইল রবিশস্য সরিষ সঙ্গ মৌমা পালন কর মধু চাষ জনপ্রিয় উঠ একদি সরিষ ফলন বাড় অন্যদি বাড়তি আয় উৎস হ খাঁ মধু ফল সরিষ উৎপাদন বৃদ্ধির পাশাপাশি মধু বিক্রি কৃষক লাভবান হচ্ছ' with different Emotion:\n",
      "                                                    Text     Label\n",
      "18144  নড়াইল রবিশস্য সরিষ সঙ্গ মৌমা পালন কর মধু চাষ ...       joy\n",
      "18145  নড়াইল রবিশস্য সরিষ সঙ্গ মৌমা পালন কর মধু চাষ ...  surprise\n",
      "--------------------\n",
      "Similar text 'পাপিয়া ভাল সৎ নারী পুরুষ কান্ন আওয়াজ শুন স প্রভাব শালী যৌন চাহিদা মিটা গিয় বয়স বাচ্চা মেয়ে জীবন একেবার নস্ট কর দিয় ত সাথ জড়িত রয় আমা দেশ প্রভাব শালী আমলা সচিব সরকারী অফিস পুলিশ শিল্প পতি বাবসায়ি মজা লুট এক উঠতি বয়স মেয় কিশরি জীবন চিরতর শেষ কর দিয় জীবন পারব আগ মত ফিরিয় দি পুরো দুনিয়া বিক্রয় স আপনা ফিরিয় দি পারবেনা আম এহ জঘন অপরাধির জড়িত সকল সকল সামন রাস্তায় খোলা ফাঁসী চা' with different Emotion:\n",
      "                                                    Text    Label\n",
      "18326  পাপিয়া ভাল সৎ নারী পুরুষ কান্ন আওয়াজ শুন স প...    anger\n",
      "18327  পাপিয়া ভাল সৎ নারী পুরুষ কান্ন আওয়াজ শুন স প...  sadness\n",
      "--------------------\n",
      "Similar text 'পৃথিবী আনন্দ দুখ সময় থাকব সমান সমান বিজ্ঞান ভাষায় আনন্ সংরক্ষণশীলতা একজন চরম আনন্দ পালা চরম দুখ পাতা হব' with different Emotion:\n",
      "                                                    Text    Label\n",
      "18375  পৃথিবী আনন্দ দুখ সময় থাকব সমান সমান বিজ্ঞান ভ...      joy\n",
      "18376  পৃথিবী আনন্দ দুখ সময় থাকব সমান সমান বিজ্ঞান ভ...  sadness\n",
      "--------------------\n",
      "Similar text 'প্রশ্ন শুন বুঝা বাংলাদেশ অধিকাংশ সাংবাদিক এক এক নিচু মান উৎকৃষ্ট দালাল' with different Emotion:\n",
      "                                                    Text    Label\n",
      "18461  প্রশ্ন শুন বুঝা বাংলাদেশ অধিকাংশ সাংবাদিক এক এ...    anger\n",
      "18462  প্রশ্ন শুন বুঝা বাংলাদেশ অধিকাংশ সাংবাদিক এক এ...  disgust\n",
      "--------------------\n",
      "Similar text 'বাংলাদেশ তথ্যপ্রযুক্তি প্রযুক্তি বিনিয়োগকারী প্রতিষ্ঠান ইজেনারেশন লিমিটেড ভারত এইচসিসি গ্রুপ সহযোগী প্রতিষ্ঠান হাইব টেকনোক্রাট লিমিটেড সাথ সমঝোতা চুক্তি স্বাক্ষর প্রধানমন্ত্রী শেখ হাসিন ভার রাষ্ট্রীয় সফরকাল শুক্রব নয়াদিল্লীর আইটিসি মোর্য হাটা ভারত বাংলাদেশ বিজনেস ফোরাম আইবিবিএফ উদ্বোধন শাষা সমঝোতা চুক্তি স্বাক্ষরিত' with different Emotion:\n",
      "                                                    Text  Label\n",
      "18687  বাংলাদেশ তথ্যপ্রযুক্তি প্রযুক্তি বিনিয়োগকারী ...  anger\n",
      "18688  বাংলাদেশ তথ্যপ্রযুক্তি প্রযুক্তি বিনিয়োগকারী ...    joy\n",
      "--------------------\n",
      "Similar text 'বিশ্বব্যাপী ছড়িয় পড় করোনাভাইরাস চীন বাইর ফ্রান্স জাপান অস্ট্রেলিয়া মালয়েশিয়া নেপাল সিঙ্গাপুর দক্ষিণ কোরিয়া তাইওয়ান থাইল্যান্ড যুক্তরাষ্ট্র ভিয়েতনাম ভাইরাস সংক্রমিত রোগী শনাক্ত ক গ' with different Emotion:\n",
      "                                                    Text    Label\n",
      "18880  বিশ্বব্যাপী ছড়িয় পড় করোনাভাইরাস চীন বাইর ফ্...  disgust\n",
      "18881  বিশ্বব্যাপী ছড়িয় পড় করোনাভাইরাস চীন বাইর ফ্...     fear\n",
      "--------------------\n",
      "Similar text 'ভা আজকে আপন ভিডি দেখলাম ভালো লাগ গ স্যলুট বস চালিয় সাবস্ক্রাইব করলাম' with different Emotion:\n",
      "                                                    Text     Label\n",
      "19036  ভা আজকে আপন ভিডি দেখলাম ভালো লাগ গ স্যলুট বস চ...       joy\n",
      "19037  ভা আজকে আপন ভিডি দেখলাম ভালো লাগ গ স্যলুট বস চ...  surprise\n",
      "--------------------\n",
      "Similar text 'ভিনগ্রহ আবাল ইউটিউব চালায় সুন্দর এক ভিডি ডিসলাইক এইসব ডিসলাইকার থাপড়া মন' with different Emotion:\n",
      "                                                    Text    Label\n",
      "16949  ভিনগ্রহ আবাল ইউটিউব চালায় সুন্দর এক ভিডি ডিসল...    anger\n",
      "16950  ভিনগ্রহ আবাল ইউটিউব চালায় সুন্দর এক ভিডি ডিসল...  disgust\n",
      "--------------------\n",
      "Similar text 'রকিবুল কম যাননি ভারতীয় বোলার বোলিং তোপ সামল অধিনায়ক সঙ্গ দিয় গ অসাধারণ কৃতিত্ব দল জয় বন্দর পৌঁ মাঠ ছেড় দুজন' with different Emotion:\n",
      "                                                    Text     Label\n",
      "19613  রকিবুল কম যাননি ভারতীয় বোলার বোলিং তোপ সামল অ...       joy\n",
      "19614  রকিবুল কম যাননি ভারতীয় বোলার বোলিং তোপ সামল অ...  surprise\n",
      "--------------------\n",
      "Similar text 'রশি দিয় ব্যান লাগানো অনুষ্ঠান প্রচন্ড মানহানীর বিষয় অনুষ্ঠান ব্যবস্থাপনায় ছি জবাবদিহীতায় আনা' with different Emotion:\n",
      "                                                    Text    Label\n",
      "19628  রশি দিয় ব্যান লাগানো অনুষ্ঠান প্রচন্ড মানহানী...    anger\n",
      "19629  রশি দিয় ব্যান লাগানো অনুষ্ঠান প্রচন্ড মানহানী...  disgust\n",
      "--------------------\n",
      "Similar text 'লেবুর শরব আয়েশ কর চুমুক দি দি পাশ দেয়াল দৃষ্ ফেরাতে চোখ আট হা আঁকা ছবির দি য ছবি শোভা পা বৃষ্টিভেজা একফা লেবুর ছ গ স্বাদ দ্বিগুণ আহা স্নিগ্ধতা সতেজভাব য মুহূর্তে ছেয় ফেল শরীর মন গ ছবির কথা অন্দরসজ্জায় লেবুর রকমারি সাজ আপন প্রিয় অঙ্গন দাবা সতেজ হাসি' with different Emotion:\n",
      "                                                    Text     Label\n",
      "19773  লেবুর শরব আয়েশ কর চুমুক দি দি পাশ দেয়াল দৃষ্...       joy\n",
      "19774  লেবুর শরব আয়েশ কর চুমুক দি দি পাশ দেয়াল দৃষ্...  surprise\n",
      "--------------------\n",
      "Similar text 'শালা বাইনচোদ বাংলাদেশ খেলতে পার আব নাটক চোদা কা' with different Emotion:\n",
      "                                                  Text    Label\n",
      "19812  শালা বাইনচোদ বাংলাদেশ খেলতে পার আব নাটক চোদা কা    anger\n",
      "19813  শালা বাইনচোদ বাংলাদেশ খেলতে পার আব নাটক চোদা কা  disgust\n",
      "--------------------\n",
      "Similar text 'শালা স্বরাষ্ট্রপ্রতিমন্ত্রী তোর মত ছাগল য কিভাব মন্ত্রী বুঝিনা বাংলাদেশ ভালো ভালো লোক থাক আসল নির্বাচিত অবৈধভাব ক্ষমতায় আস' with different Emotion:\n",
      "                                                    Text    Label\n",
      "19816  শালা স্বরাষ্ট্রপ্রতিমন্ত্রী তোর মত ছাগল য কিভা...    anger\n",
      "19817  শালা স্বরাষ্ট্রপ্রতিমন্ত্রী তোর মত ছাগল য কিভা...  disgust\n",
      "--------------------\n",
      "Similar text 'শীত শাষা সবজির দাম কম কমেনি শীতকাল সবজির দাম কেমন ত বেঞ্চমার্ক নির্দেশক মাঝারি আকার এক ফুলকপি এখনো টাক কম ছোট এক লাউয় দাম টাকা' with different Emotion:\n",
      "                                                    Text     Label\n",
      "19839  শীত শাষা সবজির দাম কম কমেনি শীতকাল সবজির দাম ক...   sadness\n",
      "19840  শীত শাষা সবজির দাম কম কমেনি শীতকাল সবজির দাম ক...  surprise\n",
      "--------------------\n",
      "Similar text 'সাহিত্য সাথ টাকা পয়স নাগপাশ লেনদ আম ছিলো বল প্রকাশক টাক প্রয়োজন বল চা যাচ্ছ ভবিষ্যৎ প্রজন্ম ছাপাচ্ছ পড় দেখ প্রয়োজন বোধ করছ' with different Emotion:\n",
      "                                                    Text    Label\n",
      "20111  সাহিত্য সাথ টাকা পয়স নাগপাশ লেনদ আম ছিলো বল প...  disgust\n",
      "20112  সাহিত্য সাথ টাকা পয়স নাগপাশ লেনদ আম ছিলো বল প...  sadness\n",
      "--------------------\n"
     ]
    }
   ],
   "source": [
    "#Check find those texts which are similiar but different in emotion\n",
    "def find_similar_rows_different_labels(df):\n",
    "\n",
    "\n",
    "  # Group by 'Text' and check if there are multiple labels for the same text.\n",
    "  for text, group in df.groupby('Text'):\n",
    "    if len(group['Label'].unique()) > 1:\n",
    "      print(f\"Similar text '{text}' with different Emotion:\")\n",
    "      print(group[['Text', 'Label']])\n",
    "      print(\"-\" * 20)\n",
    "\n",
    "find_similar_rows_different_labels(df_train)\n",
    "print(\"------------------\")\n",
    "find_similar_rows_different_labels(df_test)\n",
    "print(\"--------------------\")\n",
    "find_similar_rows_different_labels(df_val)\n"
   ]
  },
  {
   "cell_type": "code",
   "execution_count": 18,
   "metadata": {
    "executionInfo": {
     "elapsed": 644,
     "status": "ok",
     "timestamp": 1740266446497,
     "user": {
      "displayName": "Faisal Hasan Emon",
      "userId": "09464622889471399138"
     },
     "user_tz": -360
    },
    "id": "_qqjsSMvJJ-2"
   },
   "outputs": [],
   "source": [
    "# #Deleting those rows which are similiar in Text columns and different in Label columns\n",
    "\n",
    "def remove_conflicting_rows(df):\n",
    "    \"\"\"Removes rows with identical 'Text' but different 'Label' values.\"\"\"\n",
    "\n",
    "    # Group by 'Text' and get unique labels for each group\n",
    "    grouped = df.groupby('Text')['Label'].unique()\n",
    "\n",
    "    # Find texts with more than one unique label\n",
    "    conflicting_texts = grouped[grouped.apply(len) > 1].index\n",
    "\n",
    "    # Filter out rows with conflicting texts\n",
    "    df_filtered = df[~df['Text'].isin(conflicting_texts)]\n",
    "\n",
    "    return df_filtered\n",
    "\n",
    "df_train = remove_conflicting_rows(df_train)\n",
    "df_test = remove_conflicting_rows(df_test)\n",
    "df_val = remove_conflicting_rows(df_val)\n"
   ]
  },
  {
   "cell_type": "code",
   "execution_count": 19,
   "metadata": {
    "colab": {
     "base_uri": "https://localhost:8080/"
    },
    "executionInfo": {
     "elapsed": 1350,
     "status": "ok",
     "timestamp": 1740266447848,
     "user": {
      "displayName": "Faisal Hasan Emon",
      "userId": "09464622889471399138"
     },
     "user_tz": -360
    },
    "id": "dwAePjNhJfPY",
    "outputId": "9a64bd63-b41b-4a4a-f784-4c975189c680"
   },
   "outputs": [
    {
     "name": "stdout",
     "output_type": "stream",
     "text": [
      "------------------\n",
      "--------------------\n"
     ]
    }
   ],
   "source": [
    "#Checking\n",
    "find_similar_rows_different_labels(df_train)\n",
    "print(\"------------------\")\n",
    "find_similar_rows_different_labels(df_test)\n",
    "print(\"--------------------\")\n",
    "find_similar_rows_different_labels(df_val)"
   ]
  },
  {
   "cell_type": "code",
   "execution_count": 20,
   "metadata": {
    "colab": {
     "base_uri": "https://localhost:8080/"
    },
    "executionInfo": {
     "elapsed": 22,
     "status": "ok",
     "timestamp": 1740266447869,
     "user": {
      "displayName": "Faisal Hasan Emon",
      "userId": "09464622889471399138"
     },
     "user_tz": -360
    },
    "id": "Rv0OyQ9NOOYN",
    "outputId": "80a42d53-be49-4661-bec3-442c2b426802"
   },
   "outputs": [
    {
     "name": "stdout",
     "output_type": "stream",
     "text": [
      "(12041, 2)\n",
      "(4060, 2)\n",
      "(4047, 2)\n"
     ]
    }
   ],
   "source": [
    "print(df_train.shape)\n",
    "print(df_test.shape)\n",
    "print(df_val.shape)"
   ]
  },
  {
   "cell_type": "markdown",
   "metadata": {
    "id": "lvhioLHHhHeT"
   },
   "source": [
    "> Machine Learning Models (Logistic Regression, Decision Tree, SVM, Random Forest)\n",
    "\n"
   ]
  },
  {
   "cell_type": "code",
   "execution_count": 21,
   "metadata": {
    "executionInfo": {
     "elapsed": 2,
     "status": "ok",
     "timestamp": 1740266447871,
     "user": {
      "displayName": "Faisal Hasan Emon",
      "userId": "09464622889471399138"
     },
     "user_tz": -360
    },
    "id": "xGAcb3TP8Huf"
   },
   "outputs": [],
   "source": [
    "#Preprocess text\n",
    "X_train = df_train['Text'].values\n",
    "y_train = df_train['Label'].values\n",
    "\n",
    "X_test = df_test['Text'].values\n",
    "y_test = df_test['Label'].values\n",
    "\n",
    "X_val = df_val['Text'].values\n",
    "y_val = df_val['Label'].values\n"
   ]
  },
  {
   "cell_type": "code",
   "execution_count": 22,
   "metadata": {
    "executionInfo": {
     "elapsed": 580,
     "status": "ok",
     "timestamp": 1740266448452,
     "user": {
      "displayName": "Faisal Hasan Emon",
      "userId": "09464622889471399138"
     },
     "user_tz": -360
    },
    "id": "aA017o6x9-X-"
   },
   "outputs": [],
   "source": [
    "from sklearn.feature_extraction.text import TfidfVectorizer\n",
    "\n",
    "# Modelling\n",
    "from sklearn.model_selection import train_test_split,KFold, GridSearchCV\n",
    "from sklearn.ensemble import RandomForestClassifier\n",
    "from sklearn.linear_model import LogisticRegression\n",
    "from sklearn.tree import DecisionTreeClassifier\n",
    "from sklearn.ensemble import RandomForestClassifier\n",
    "from sklearn.metrics import accuracy_score,confusion_matrix, classification_report\n",
    "from sklearn.pipeline import Pipeline\n",
    "from sklearn.metrics import f1_score\n",
    "from sklearn.svm import SVC\n",
    "\n",
    "#For showing confusiong matrix and performance chart\n",
    "import numpy as np\n",
    "import matplotlib.pyplot as plt\n",
    "import seaborn as sns\n",
    "from sklearn.metrics import classification_report, confusion_matrix, accuracy_score, precision_recall_fscore_support\n"
   ]
  },
  {
   "cell_type": "code",
   "execution_count": 23,
   "metadata": {
    "executionInfo": {
     "elapsed": 15,
     "status": "ok",
     "timestamp": 1740266448468,
     "user": {
      "displayName": "Faisal Hasan Emon",
      "userId": "09464622889471399138"
     },
     "user_tz": -360
    },
    "id": "azio7Gnn8Yt5"
   },
   "outputs": [],
   "source": [
    "def train_model(model, data, targets):\n",
    "    \"\"\"\n",
    "    Train a model on the given data and targets.\n",
    "\n",
    "    Parameters:\n",
    "    model (sklearn model): The model to be trained.\n",
    "    data (list of str): The input data.\n",
    "    targets (list of str): The targets.\n",
    "\n",
    "    Returns:\n",
    "    Pipeline: The trained model as a Pipeline object.\n",
    "    \"\"\"\n",
    "    # Create a Pipeline object with a TfidfVectorizer and the given model\n",
    "    text_clf = Pipeline([('vect',TfidfVectorizer()),\n",
    "                         ('clf', model)])\n",
    "    # Fit the model on the data and targets\n",
    "    text_clf.fit(data, targets)\n",
    "    return text_clf"
   ]
  },
  {
   "cell_type": "code",
   "execution_count": 24,
   "metadata": {
    "executionInfo": {
     "elapsed": 2,
     "status": "ok",
     "timestamp": 1740266448471,
     "user": {
      "displayName": "Faisal Hasan Emon",
      "userId": "09464622889471399138"
     },
     "user_tz": -360
    },
    "id": "n88LeCfK8dKi"
   },
   "outputs": [],
   "source": [
    "def get_F1(trained_model,X,y):\n",
    "    \"\"\"\n",
    "    Get the F1 score for the given model on the given data and targets.\n",
    "\n",
    "    Parameters:\n",
    "    trained_model (sklearn model): The trained model.\n",
    "    X (list of str): The input data.\n",
    "    y (list of str): The targets.\n",
    "\n",
    "    Returns:\n",
    "    array: The F1 score for each class.\n",
    "    \"\"\"\n",
    "    # Make predictions on the input data using the trained model\n",
    "    predicted=trained_model.predict(X)\n",
    "    # Calculate the F1 score for the predictions\n",
    "    f1=f1_score(y,predicted, average=None)\n",
    "    # Return the F1 score\n",
    "    return f1"
   ]
  },
  {
   "cell_type": "code",
   "execution_count": 25,
   "metadata": {
    "executionInfo": {
     "elapsed": 223,
     "status": "ok",
     "timestamp": 1740266448722,
     "user": {
      "displayName": "Faisal Hasan Emon",
      "userId": "09464622889471399138"
     },
     "user_tz": -360
    },
    "id": "ei4py2R78nuJ"
   },
   "outputs": [],
   "source": [
    "#Train the model with the training data\n",
    "log_reg = train_model(LogisticRegression(solver='liblinear',random_state = 0), X_train, y_train)"
   ]
  },
  {
   "cell_type": "code",
   "execution_count": 26,
   "metadata": {
    "colab": {
     "base_uri": "https://localhost:8080/"
    },
    "executionInfo": {
     "elapsed": 10,
     "status": "ok",
     "timestamp": 1740266448746,
     "user": {
      "displayName": "Faisal Hasan Emon",
      "userId": "09464622889471399138"
     },
     "user_tz": -360
    },
    "id": "UgldcT_I8ocq",
    "outputId": "246cd90f-f3c4-4ba7-8121-5deaf58936ec"
   },
   "outputs": [
    {
     "data": {
      "text/plain": [
       "array(['anger'], dtype=object)"
      ]
     },
     "execution_count": 26,
     "metadata": {},
     "output_type": "execute_result"
    }
   ],
   "source": [
    "#Make a single prediction\n",
    "y_pred=log_reg.predict(['খারাপ'])\n",
    "y_pred"
   ]
  },
  {
   "cell_type": "markdown",
   "metadata": {
    "id": "OjIKs-qIiIIC"
   },
   "source": [
    "#1. Logistic Regression"
   ]
  },
  {
   "cell_type": "code",
   "execution_count": 27,
   "metadata": {
    "colab": {
     "base_uri": "https://localhost:8080/",
     "height": 0
    },
    "executionInfo": {
     "elapsed": 120,
     "status": "ok",
     "timestamp": 1740266448869,
     "user": {
      "displayName": "Faisal Hasan Emon",
      "userId": "09464622889471399138"
     },
     "user_tz": -360
    },
    "id": "jq8fvzyR8rjq",
    "outputId": "031a5007-2dc4-4466-8305-f65e2004b20f"
   },
   "outputs": [
    {
     "name": "stdout",
     "output_type": "stream",
     "text": [
      "Accuracy:  0.5261083743842364 \n",
      "\n"
     ]
    },
    {
     "data": {
      "application/vnd.google.colaboratory.intrinsic+json": {
       "summary": "{\n  \"name\": \"pd\",\n  \"rows\": 6,\n  \"fields\": [\n    {\n      \"column\": \"F1 score\",\n      \"properties\": {\n        \"dtype\": \"number\",\n        \"std\": 0.12088953090554251,\n        \"min\": 0.38992688870836717,\n        \"max\": 0.6659459459459459,\n        \"num_unique_values\": 6,\n        \"samples\": [\n          0.4410596026490066,\n          0.38992688870836717,\n          0.4778761061946903\n        ],\n        \"semantic_type\": \"\",\n        \"description\": \"\"\n      }\n    }\n  ]\n}",
       "type": "dataframe"
      },
      "text/html": [
       "\n",
       "  <div id=\"df-5ad23d68-78cb-4952-a93c-d14187e1d85b\" class=\"colab-df-container\">\n",
       "    <div>\n",
       "<style scoped>\n",
       "    .dataframe tbody tr th:only-of-type {\n",
       "        vertical-align: middle;\n",
       "    }\n",
       "\n",
       "    .dataframe tbody tr th {\n",
       "        vertical-align: top;\n",
       "    }\n",
       "\n",
       "    .dataframe thead th {\n",
       "        text-align: right;\n",
       "    }\n",
       "</style>\n",
       "<table border=\"1\" class=\"dataframe\">\n",
       "  <thead>\n",
       "    <tr style=\"text-align: right;\">\n",
       "      <th></th>\n",
       "      <th>F1 score</th>\n",
       "    </tr>\n",
       "  </thead>\n",
       "  <tbody>\n",
       "    <tr>\n",
       "      <th>joy</th>\n",
       "      <td>0.441060</td>\n",
       "    </tr>\n",
       "    <tr>\n",
       "      <th>surprise</th>\n",
       "      <td>0.389927</td>\n",
       "    </tr>\n",
       "    <tr>\n",
       "      <th>sadness</th>\n",
       "      <td>0.656716</td>\n",
       "    </tr>\n",
       "    <tr>\n",
       "      <th>disgust</th>\n",
       "      <td>0.665946</td>\n",
       "    </tr>\n",
       "    <tr>\n",
       "      <th>fear</th>\n",
       "      <td>0.426184</td>\n",
       "    </tr>\n",
       "    <tr>\n",
       "      <th>anger</th>\n",
       "      <td>0.477876</td>\n",
       "    </tr>\n",
       "  </tbody>\n",
       "</table>\n",
       "</div>\n",
       "    <div class=\"colab-df-buttons\">\n",
       "\n",
       "  <div class=\"colab-df-container\">\n",
       "    <button class=\"colab-df-convert\" onclick=\"convertToInteractive('df-5ad23d68-78cb-4952-a93c-d14187e1d85b')\"\n",
       "            title=\"Convert this dataframe to an interactive table.\"\n",
       "            style=\"display:none;\">\n",
       "\n",
       "  <svg xmlns=\"http://www.w3.org/2000/svg\" height=\"24px\" viewBox=\"0 -960 960 960\">\n",
       "    <path d=\"M120-120v-720h720v720H120Zm60-500h600v-160H180v160Zm220 220h160v-160H400v160Zm0 220h160v-160H400v160ZM180-400h160v-160H180v160Zm440 0h160v-160H620v160ZM180-180h160v-160H180v160Zm440 0h160v-160H620v160Z\"/>\n",
       "  </svg>\n",
       "    </button>\n",
       "\n",
       "  <style>\n",
       "    .colab-df-container {\n",
       "      display:flex;\n",
       "      gap: 12px;\n",
       "    }\n",
       "\n",
       "    .colab-df-convert {\n",
       "      background-color: #E8F0FE;\n",
       "      border: none;\n",
       "      border-radius: 50%;\n",
       "      cursor: pointer;\n",
       "      display: none;\n",
       "      fill: #1967D2;\n",
       "      height: 32px;\n",
       "      padding: 0 0 0 0;\n",
       "      width: 32px;\n",
       "    }\n",
       "\n",
       "    .colab-df-convert:hover {\n",
       "      background-color: #E2EBFA;\n",
       "      box-shadow: 0px 1px 2px rgba(60, 64, 67, 0.3), 0px 1px 3px 1px rgba(60, 64, 67, 0.15);\n",
       "      fill: #174EA6;\n",
       "    }\n",
       "\n",
       "    .colab-df-buttons div {\n",
       "      margin-bottom: 4px;\n",
       "    }\n",
       "\n",
       "    [theme=dark] .colab-df-convert {\n",
       "      background-color: #3B4455;\n",
       "      fill: #D2E3FC;\n",
       "    }\n",
       "\n",
       "    [theme=dark] .colab-df-convert:hover {\n",
       "      background-color: #434B5C;\n",
       "      box-shadow: 0px 1px 3px 1px rgba(0, 0, 0, 0.15);\n",
       "      filter: drop-shadow(0px 1px 2px rgba(0, 0, 0, 0.3));\n",
       "      fill: #FFFFFF;\n",
       "    }\n",
       "  </style>\n",
       "\n",
       "    <script>\n",
       "      const buttonEl =\n",
       "        document.querySelector('#df-5ad23d68-78cb-4952-a93c-d14187e1d85b button.colab-df-convert');\n",
       "      buttonEl.style.display =\n",
       "        google.colab.kernel.accessAllowed ? 'block' : 'none';\n",
       "\n",
       "      async function convertToInteractive(key) {\n",
       "        const element = document.querySelector('#df-5ad23d68-78cb-4952-a93c-d14187e1d85b');\n",
       "        const dataTable =\n",
       "          await google.colab.kernel.invokeFunction('convertToInteractive',\n",
       "                                                    [key], {});\n",
       "        if (!dataTable) return;\n",
       "\n",
       "        const docLinkHtml = 'Like what you see? Visit the ' +\n",
       "          '<a target=\"_blank\" href=https://colab.research.google.com/notebooks/data_table.ipynb>data table notebook</a>'\n",
       "          + ' to learn more about interactive tables.';\n",
       "        element.innerHTML = '';\n",
       "        dataTable['output_type'] = 'display_data';\n",
       "        await google.colab.output.renderOutput(dataTable, element);\n",
       "        const docLink = document.createElement('div');\n",
       "        docLink.innerHTML = docLinkHtml;\n",
       "        element.appendChild(docLink);\n",
       "      }\n",
       "    </script>\n",
       "  </div>\n",
       "\n",
       "\n",
       "<div id=\"df-93217572-5352-4591-8f83-e156bf18513e\">\n",
       "  <button class=\"colab-df-quickchart\" onclick=\"quickchart('df-93217572-5352-4591-8f83-e156bf18513e')\"\n",
       "            title=\"Suggest charts\"\n",
       "            style=\"display:none;\">\n",
       "\n",
       "<svg xmlns=\"http://www.w3.org/2000/svg\" height=\"24px\"viewBox=\"0 0 24 24\"\n",
       "     width=\"24px\">\n",
       "    <g>\n",
       "        <path d=\"M19 3H5c-1.1 0-2 .9-2 2v14c0 1.1.9 2 2 2h14c1.1 0 2-.9 2-2V5c0-1.1-.9-2-2-2zM9 17H7v-7h2v7zm4 0h-2V7h2v10zm4 0h-2v-4h2v4z\"/>\n",
       "    </g>\n",
       "</svg>\n",
       "  </button>\n",
       "\n",
       "<style>\n",
       "  .colab-df-quickchart {\n",
       "      --bg-color: #E8F0FE;\n",
       "      --fill-color: #1967D2;\n",
       "      --hover-bg-color: #E2EBFA;\n",
       "      --hover-fill-color: #174EA6;\n",
       "      --disabled-fill-color: #AAA;\n",
       "      --disabled-bg-color: #DDD;\n",
       "  }\n",
       "\n",
       "  [theme=dark] .colab-df-quickchart {\n",
       "      --bg-color: #3B4455;\n",
       "      --fill-color: #D2E3FC;\n",
       "      --hover-bg-color: #434B5C;\n",
       "      --hover-fill-color: #FFFFFF;\n",
       "      --disabled-bg-color: #3B4455;\n",
       "      --disabled-fill-color: #666;\n",
       "  }\n",
       "\n",
       "  .colab-df-quickchart {\n",
       "    background-color: var(--bg-color);\n",
       "    border: none;\n",
       "    border-radius: 50%;\n",
       "    cursor: pointer;\n",
       "    display: none;\n",
       "    fill: var(--fill-color);\n",
       "    height: 32px;\n",
       "    padding: 0;\n",
       "    width: 32px;\n",
       "  }\n",
       "\n",
       "  .colab-df-quickchart:hover {\n",
       "    background-color: var(--hover-bg-color);\n",
       "    box-shadow: 0 1px 2px rgba(60, 64, 67, 0.3), 0 1px 3px 1px rgba(60, 64, 67, 0.15);\n",
       "    fill: var(--button-hover-fill-color);\n",
       "  }\n",
       "\n",
       "  .colab-df-quickchart-complete:disabled,\n",
       "  .colab-df-quickchart-complete:disabled:hover {\n",
       "    background-color: var(--disabled-bg-color);\n",
       "    fill: var(--disabled-fill-color);\n",
       "    box-shadow: none;\n",
       "  }\n",
       "\n",
       "  .colab-df-spinner {\n",
       "    border: 2px solid var(--fill-color);\n",
       "    border-color: transparent;\n",
       "    border-bottom-color: var(--fill-color);\n",
       "    animation:\n",
       "      spin 1s steps(1) infinite;\n",
       "  }\n",
       "\n",
       "  @keyframes spin {\n",
       "    0% {\n",
       "      border-color: transparent;\n",
       "      border-bottom-color: var(--fill-color);\n",
       "      border-left-color: var(--fill-color);\n",
       "    }\n",
       "    20% {\n",
       "      border-color: transparent;\n",
       "      border-left-color: var(--fill-color);\n",
       "      border-top-color: var(--fill-color);\n",
       "    }\n",
       "    30% {\n",
       "      border-color: transparent;\n",
       "      border-left-color: var(--fill-color);\n",
       "      border-top-color: var(--fill-color);\n",
       "      border-right-color: var(--fill-color);\n",
       "    }\n",
       "    40% {\n",
       "      border-color: transparent;\n",
       "      border-right-color: var(--fill-color);\n",
       "      border-top-color: var(--fill-color);\n",
       "    }\n",
       "    60% {\n",
       "      border-color: transparent;\n",
       "      border-right-color: var(--fill-color);\n",
       "    }\n",
       "    80% {\n",
       "      border-color: transparent;\n",
       "      border-right-color: var(--fill-color);\n",
       "      border-bottom-color: var(--fill-color);\n",
       "    }\n",
       "    90% {\n",
       "      border-color: transparent;\n",
       "      border-bottom-color: var(--fill-color);\n",
       "    }\n",
       "  }\n",
       "</style>\n",
       "\n",
       "  <script>\n",
       "    async function quickchart(key) {\n",
       "      const quickchartButtonEl =\n",
       "        document.querySelector('#' + key + ' button');\n",
       "      quickchartButtonEl.disabled = true;  // To prevent multiple clicks.\n",
       "      quickchartButtonEl.classList.add('colab-df-spinner');\n",
       "      try {\n",
       "        const charts = await google.colab.kernel.invokeFunction(\n",
       "            'suggestCharts', [key], {});\n",
       "      } catch (error) {\n",
       "        console.error('Error during call to suggestCharts:', error);\n",
       "      }\n",
       "      quickchartButtonEl.classList.remove('colab-df-spinner');\n",
       "      quickchartButtonEl.classList.add('colab-df-quickchart-complete');\n",
       "    }\n",
       "    (() => {\n",
       "      let quickchartButtonEl =\n",
       "        document.querySelector('#df-93217572-5352-4591-8f83-e156bf18513e button');\n",
       "      quickchartButtonEl.style.display =\n",
       "        google.colab.kernel.accessAllowed ? 'block' : 'none';\n",
       "    })();\n",
       "  </script>\n",
       "</div>\n",
       "\n",
       "    </div>\n",
       "  </div>\n"
      ],
      "text/plain": [
       "          F1 score\n",
       "joy       0.441060\n",
       "surprise  0.389927\n",
       "sadness   0.656716\n",
       "disgust   0.665946\n",
       "fear      0.426184\n",
       "anger     0.477876"
      ]
     },
     "execution_count": 27,
     "metadata": {},
     "output_type": "execute_result"
    }
   ],
   "source": [
    "#test the model with the test data\n",
    "y_pred=log_reg.predict(X_test)\n",
    "\n",
    "#calculate the accuracy\n",
    "log_reg_accuracy = accuracy_score(y_test, y_pred)\n",
    "print('Accuracy: ', log_reg_accuracy,'\\n')\n",
    "\n",
    "#calculate the F1 score\n",
    "f1_Score = get_F1(log_reg,X_test,y_test)\n",
    "pd.DataFrame(f1_Score, index=df_train.Label.unique(), columns=['F1 score'])"
   ]
  },
  {
   "cell_type": "code",
   "execution_count": 28,
   "metadata": {
    "colab": {
     "base_uri": "https://localhost:8080/",
     "height": 0
    },
    "executionInfo": {
     "elapsed": 549,
     "status": "ok",
     "timestamp": 1740266449420,
     "user": {
      "displayName": "Faisal Hasan Emon",
      "userId": "09464622889471399138"
     },
     "user_tz": -360
    },
    "id": "3_J5-ALrlLi8",
    "outputId": "cda261a3-c4ee-4a81-e415-570672e10f1b"
   },
   "outputs": [
    {
     "name": "stdout",
     "output_type": "stream",
     "text": [
      "Accuracy:  0.5261083743842364 \n",
      "\n",
      "              precision    recall  f1-score   support\n",
      "\n",
      "       anger       0.37      0.54      0.44       620\n",
      "     disgust       0.53      0.31      0.39       775\n",
      "        fear       0.79      0.56      0.66       353\n",
      "         joy       0.66      0.67      0.67      1385\n",
      "     sadness       0.36      0.51      0.43       596\n",
      "    surprise       0.58      0.41      0.48       331\n",
      "\n",
      "    accuracy                           0.53      4060\n",
      "   macro avg       0.55      0.50      0.51      4060\n",
      "weighted avg       0.55      0.53      0.53      4060\n",
      "\n",
      "          Precision     Recall   F1 Score\n",
      "anger     37.415730  53.709677  44.105960\n",
      "disgust   52.631579  30.967742  38.992689\n",
      "fear      79.200000  56.090652  65.671642\n",
      "joy       66.474820  66.714801  66.594595\n",
      "sadness   36.428571  51.342282  42.618384\n",
      "surprise  57.692308  40.785498  47.787611\n"
     ]
    },
    {
     "data": {
      "image/png": "[encoded data removed]",
      "text/plain": [
       "<Figure size 1000x600 with 1 Axes>"
      ]
     },
     "metadata": {},
     "output_type": "display_data"
    }
   ],
   "source": [
    "# Predict using the model\n",
    "y_pred = log_reg.predict(X_test)\n",
    "\n",
    "# Calculate accuracy\n",
    "log_reg_accuracy = accuracy_score(y_test, y_pred)\n",
    "print('Accuracy: ', log_reg_accuracy, '\\n')\n",
    "\n",
    "# Classification Report\n",
    "print(classification_report(y_test, y_pred))\n",
    "\n",
    "# Compute precision, recall, f1-score\n",
    "precision, recall, f1_score, _ = precision_recall_fscore_support(y_test, y_pred, average=None)\n",
    "labels = sorted(set(y_test))  # Ensure correct label order\n",
    "\n",
    "# Convert to DataFrame\n",
    "metrics_df = pd.DataFrame({'Precision': precision * 100, 'Recall': recall * 100, 'F1 Score': f1_score * 100}, index=labels)\n",
    "\n",
    "# Check if DataFrame is populated\n",
    "print(metrics_df)\n",
    "\n",
    "# Plot Performance Table (F1 Score, Recall, Precision)\n",
    "plt.figure(figsize=(10, 6))\n",
    "metrics_df.plot(kind='bar', colormap='viridis', ax=plt.gca())  # Use `ax=plt.gca()` for correct rendering\n",
    "plt.ylim(0, 100)  # Ensure bars are visible\n",
    "plt.title(\"Model Performance Metrics\")\n",
    "plt.ylabel(\"Score (%)\")\n",
    "plt.xticks(rotation=45)\n",
    "plt.grid(axis='y', linestyle='--', alpha=0.7)\n",
    "plt.legend(loc='lower right')\n",
    "plt.show()"
   ]
  },
  {
   "cell_type": "code",
   "execution_count": 29,
   "metadata": {
    "colab": {
     "base_uri": "https://localhost:8080/",
     "height": 0
    },
    "executionInfo": {
     "elapsed": 214,
     "status": "ok",
     "timestamp": 1740266449636,
     "user": {
      "displayName": "Faisal Hasan Emon",
      "userId": "09464622889471399138"
     },
     "user_tz": -360
    },
    "id": "thIkg2X0lYZa",
    "outputId": "0de8ebf7-fafd-46de-a910-4f5d06a181ed"
   },
   "outputs": [
    {
     "data": {
      "image/png": "[encoded data removed]",
      "text/plain": [
       "<Figure size 600x500 with 2 Axes>"
      ]
     },
     "metadata": {},
     "output_type": "display_data"
    }
   ],
   "source": [
    "# Compute confusion matrix\n",
    "cm = confusion_matrix(y_test, y_pred)\n",
    "\n",
    "# Set figure size\n",
    "plt.figure(figsize=(6, 5))\n",
    "\n",
    "# Plot confusion matrix with the desired style\n",
    "sns.heatmap(cm, annot=True, fmt=\"g\", cmap=\"YlGnBu\", linewidths=0.5, linecolor='gray', vmin=0, vmax=100)\n",
    "\n",
    "# Labels and title\n",
    "plt.title(\"Confusion Matrix\", fontsize=14)\n",
    "plt.xlabel(\"Predicted label\", fontsize=12)\n",
    "plt.ylabel(\"True label\", fontsize=12)\n",
    "\n",
    "# Show plot\n",
    "plt.show()\n"
   ]
  },
  {
   "cell_type": "markdown",
   "metadata": {
    "id": "Nu1VlX4dplDU"
   },
   "source": [
    "#2. Decision Tree"
   ]
  },
  {
   "cell_type": "code",
   "execution_count": 30,
   "metadata": {
    "colab": {
     "base_uri": "https://localhost:8080/"
    },
    "executionInfo": {
     "elapsed": 1262,
     "status": "ok",
     "timestamp": 1740266450899,
     "user": {
      "displayName": "Faisal Hasan Emon",
      "userId": "09464622889471399138"
     },
     "user_tz": -360
    },
    "id": "kav5_-4s-9Kh",
    "outputId": "9e3aff89-8d0d-4c49-d700-1ae6839b05a0"
   },
   "outputs": [
    {
     "name": "stdout",
     "output_type": "stream",
     "text": [
      "Accuracy:  0.7891625615763547 \n",
      "\n"
     ]
    }
   ],
   "source": [
    "#Train the model with the training data\n",
    "DT = train_model(DecisionTreeClassifier(random_state = 0), X_train, y_train)\n",
    "\n",
    "#test the model with the test data\n",
    "y_pred=DT.predict(X_test)\n",
    "\n",
    "#calculate the accuracy\n",
    "DT_accuracy = accuracy_score(y_test, y_pred)\n",
    "print('Accuracy: ', DT_accuracy,'\\n')\n",
    "\n",
    "# #calculate the F1 score\n",
    "# f1_Score = get_F1(DT,X_test,y_test)\n",
    "# pd.DataFrame(f1_Score, index=df_train.Label.unique(), columns=['F1 score'])"
   ]
  },
  {
   "cell_type": "code",
   "execution_count": 31,
   "metadata": {
    "colab": {
     "base_uri": "https://localhost:8080/",
     "height": 927
    },
    "executionInfo": {
     "elapsed": 316,
     "status": "ok",
     "timestamp": 1740266451202,
     "user": {
      "displayName": "Faisal Hasan Emon",
      "userId": "09464622889471399138"
     },
     "user_tz": -360
    },
    "id": "2I2pVjrOrA5C",
    "outputId": "f098f316-6aa5-454a-acb0-bfcded61f61d"
   },
   "outputs": [
    {
     "name": "stdout",
     "output_type": "stream",
     "text": [
      "              precision    recall  f1-score   support\n",
      "\n",
      "       anger       0.65      0.87      0.74       620\n",
      "     disgust       0.82      0.80      0.81       775\n",
      "        fear       0.85      0.88      0.87       353\n",
      "         joy       0.88      0.73      0.80      1385\n",
      "     sadness       0.74      0.78      0.76       596\n",
      "    surprise       0.77      0.80      0.79       331\n",
      "\n",
      "    accuracy                           0.79      4060\n",
      "   macro avg       0.79      0.81      0.79      4060\n",
      "weighted avg       0.80      0.79      0.79      4060\n",
      "\n",
      "          Precision     Recall   F1 Score\n",
      "anger     64.620939  86.612903  74.017919\n",
      "disgust   82.047872  79.612903  80.812050\n",
      "fear      85.013624  88.385269  86.666667\n",
      "joy       88.421053  72.779783  79.841584\n",
      "sadness   74.044586  78.020134  75.980392\n",
      "surprise  77.485380  80.060423  78.751857\n"
     ]
    },
    {
     "data": {
      "image/png": "[encoded data removed]",
      "text/plain": [
       "<Figure size 1000x600 with 1 Axes>"
      ]
     },
     "metadata": {},
     "output_type": "display_data"
    }
   ],
   "source": [
    "# Classification Report\n",
    "print(classification_report(y_test, y_pred))\n",
    "\n",
    "# Compute precision, recall, f1-score\n",
    "precision, recall, f1_score, _ = precision_recall_fscore_support(y_test, y_pred, average=None)\n",
    "labels = sorted(set(y_test))  # Ensure correct label order\n",
    "\n",
    "# Convert to DataFrame\n",
    "metrics_df = pd.DataFrame({'Precision': precision * 100, 'Recall': recall * 100, 'F1 Score': f1_score * 100}, index=labels)\n",
    "\n",
    "# Check if DataFrame is populated\n",
    "print(metrics_df)\n",
    "\n",
    "# Plot Performance Table (F1 Score, Recall, Precision)\n",
    "plt.figure(figsize=(10, 6))\n",
    "metrics_df.plot(kind='bar', colormap='viridis', ax=plt.gca())  # Use `ax=plt.gca()` for correct rendering\n",
    "plt.ylim(0, 100)  # Ensure bars are visible\n",
    "plt.title(\"Model Performance Metrics\")\n",
    "plt.ylabel(\"Score (%)\")\n",
    "plt.xticks(rotation=45)\n",
    "plt.grid(axis='y', linestyle='--', alpha=0.7)\n",
    "plt.legend(loc='lower right')\n",
    "plt.show()"
   ]
  },
  {
   "cell_type": "code",
   "execution_count": 32,
   "metadata": {
    "colab": {
     "base_uri": "https://localhost:8080/",
     "height": 492
    },
    "executionInfo": {
     "elapsed": 214,
     "status": "ok",
     "timestamp": 1740266451417,
     "user": {
      "displayName": "Faisal Hasan Emon",
      "userId": "09464622889471399138"
     },
     "user_tz": -360
    },
    "id": "yA23eRzH_PQa",
    "outputId": "f27f642f-e28e-4672-ffd7-b73e5d120343"
   },
   "outputs": [
    {
     "data": {
      "image/png": "[encoded data removed]",
      "text/plain": [
       "<Figure size 600x500 with 2 Axes>"
      ]
     },
     "metadata": {},
     "output_type": "display_data"
    }
   ],
   "source": [
    "# Compute confusion matrix\n",
    "cm = confusion_matrix(y_test, y_pred)\n",
    "\n",
    "# Set figure size\n",
    "plt.figure(figsize=(6, 5))\n",
    "\n",
    "# Plot confusion matrix with the desired style\n",
    "sns.heatmap(cm, annot=True, fmt=\"g\", cmap=\"YlGnBu\", linewidths=0.5, linecolor='gray', vmin=0, vmax=100)\n",
    "\n",
    "# Labels and title\n",
    "plt.title(\"Confusion Matrix\", fontsize=14)\n",
    "plt.xlabel(\"Predicted label\", fontsize=12)\n",
    "plt.ylabel(\"True label\", fontsize=12)\n",
    "\n",
    "# Show plot\n",
    "plt.show()"
   ]
  },
  {
   "cell_type": "markdown",
   "metadata": {
    "id": "nBRwWcAksTpm"
   },
   "source": [
    "# 3. SVM"
   ]
  },
  {
   "cell_type": "code",
   "execution_count": 33,
   "metadata": {
    "colab": {
     "base_uri": "https://localhost:8080/"
    },
    "executionInfo": {
     "elapsed": 24412,
     "status": "ok",
     "timestamp": 1740266475831,
     "user": {
      "displayName": "Faisal Hasan Emon",
      "userId": "09464622889471399138"
     },
     "user_tz": -360
    },
    "id": "MkFYp3Ii_WNm",
    "outputId": "bdb638d5-5386-427d-9fc7-20e7d0609b7c"
   },
   "outputs": [
    {
     "name": "stdout",
     "output_type": "stream",
     "text": [
      "Accuracy:  0.7086206896551724 \n",
      "\n"
     ]
    }
   ],
   "source": [
    "#Train the model with the training data\n",
    "SVM = train_model(SVC(random_state = 0), X_train, y_train)\n",
    "\n",
    "#test the model with the test data\n",
    "y_pred=SVM.predict(X_test)\n",
    "\n",
    "#calculate the accuracy\n",
    "SVM_accuracy = accuracy_score(y_test, y_pred)\n",
    "print('Accuracy: ', SVM_accuracy,'\\n')\n",
    "\n",
    "#calculate the F1 score\n",
    "# f1_Score = get_F1(SVM,X_test,y_test)\n",
    "# pd.DataFrame(f1_Score, index=df_train.Label.unique(), columns=['F1 score'])"
   ]
  },
  {
   "cell_type": "code",
   "execution_count": 34,
   "metadata": {
    "colab": {
     "base_uri": "https://localhost:8080/",
     "height": 927
    },
    "executionInfo": {
     "elapsed": 567,
     "status": "ok",
     "timestamp": 1740266476397,
     "user": {
      "displayName": "Faisal Hasan Emon",
      "userId": "09464622889471399138"
     },
     "user_tz": -360
    },
    "id": "ESPvRWVTsqUx",
    "outputId": "02eb906f-b38d-4661-8d96-c2cd2e2d67ab"
   },
   "outputs": [
    {
     "name": "stdout",
     "output_type": "stream",
     "text": [
      "              precision    recall  f1-score   support\n",
      "\n",
      "       anger       0.55      0.76      0.64       620\n",
      "     disgust       0.76      0.62      0.68       775\n",
      "        fear       0.91      0.74      0.82       353\n",
      "         joy       0.82      0.74      0.78      1385\n",
      "     sadness       0.56      0.74      0.64       596\n",
      "    surprise       0.84      0.59      0.69       331\n",
      "\n",
      "    accuracy                           0.71      4060\n",
      "   macro avg       0.74      0.70      0.71      4060\n",
      "weighted avg       0.74      0.71      0.71      4060\n",
      "\n",
      "          Precision     Recall   F1 Score\n",
      "anger     54.756381  76.129032  63.697706\n",
      "disgust   76.031746  61.806452  68.185053\n",
      "fear      91.228070  73.654391  81.504702\n",
      "joy       81.796502  74.296029  77.866061\n",
      "sadness   55.752212  73.993289  63.590483\n",
      "surprise  83.760684  59.214502  69.380531\n"
     ]
    },
    {
     "data": {
      "image/png": "[encoded data removed]",
      "text/plain": [
       "<Figure size 1000x600 with 1 Axes>"
      ]
     },
     "metadata": {},
     "output_type": "display_data"
    }
   ],
   "source": [
    "# Classification Report\n",
    "print(classification_report(y_test, y_pred))\n",
    "\n",
    "# Compute precision, recall, f1-score\n",
    "precision, recall, f1_score, _ = precision_recall_fscore_support(y_test, y_pred, average=None)\n",
    "labels = sorted(set(y_test))  # Ensure correct label order\n",
    "\n",
    "# Convert to DataFrame\n",
    "metrics_df = pd.DataFrame({'Precision': precision * 100, 'Recall': recall * 100, 'F1 Score': f1_score * 100}, index=labels)\n",
    "\n",
    "# Check if DataFrame is populated\n",
    "print(metrics_df)\n",
    "\n",
    "# Plot Performance Table (F1 Score, Recall, Precision)\n",
    "plt.figure(figsize=(10, 6))\n",
    "metrics_df.plot(kind='bar', colormap='viridis', ax=plt.gca())  # Use `ax=plt.gca()` for correct rendering\n",
    "plt.ylim(0, 100)  # Ensure bars are visible\n",
    "plt.title(\"Model Performance Metrics\")\n",
    "plt.ylabel(\"Score (%)\")\n",
    "plt.xticks(rotation=45)\n",
    "plt.grid(axis='y', linestyle='--', alpha=0.7)\n",
    "plt.legend(loc='lower right')\n",
    "plt.show()"
   ]
  },
  {
   "cell_type": "code",
   "execution_count": 35,
   "metadata": {
    "colab": {
     "base_uri": "https://localhost:8080/",
     "height": 492
    },
    "executionInfo": {
     "elapsed": 68,
     "status": "ok",
     "timestamp": 1740266476464,
     "user": {
      "displayName": "Faisal Hasan Emon",
      "userId": "09464622889471399138"
     },
     "user_tz": -360
    },
    "id": "daL7ijCH_lXG",
    "outputId": "248c1aff-a042-4d8a-f702-7be8abe40aba"
   },
   "outputs": [
    {
     "data": {
      "image/png": "[encoded data removed]",
      "text/plain": [
       "<Figure size 600x500 with 2 Axes>"
      ]
     },
     "metadata": {},
     "output_type": "display_data"
    }
   ],
   "source": [
    "# Compute confusion matrix\n",
    "cm = confusion_matrix(y_test, y_pred)\n",
    "\n",
    "# Set figure size\n",
    "plt.figure(figsize=(6, 5))\n",
    "\n",
    "# Plot confusion matrix with the desired style\n",
    "sns.heatmap(cm, annot=True, fmt=\"g\", cmap=\"YlGnBu\", linewidths=0.5, linecolor='gray', vmin=0, vmax=100)\n",
    "\n",
    "# Labels and title\n",
    "plt.title(\"Confusion Matrix\", fontsize=14)\n",
    "plt.xlabel(\"Predicted label\", fontsize=12)\n",
    "plt.ylabel(\"True label\", fontsize=12)\n",
    "\n",
    "# Show plot\n",
    "plt.show()"
   ]
  },
  {
   "cell_type": "markdown",
   "metadata": {
    "id": "dlSXK7wqtg1N"
   },
   "source": [
    "# Random Forest"
   ]
  },
  {
   "cell_type": "code",
   "execution_count": 36,
   "metadata": {
    "colab": {
     "base_uri": "https://localhost:8080/"
    },
    "executionInfo": {
     "elapsed": 12127,
     "status": "ok",
     "timestamp": 1740266488591,
     "user": {
      "displayName": "Faisal Hasan Emon",
      "userId": "09464622889471399138"
     },
     "user_tz": -360
    },
    "id": "AG_swigK_uAb",
    "outputId": "ecad27be-8c2b-4061-ba12-69d5c0886a4e"
   },
   "outputs": [
    {
     "name": "stdout",
     "output_type": "stream",
     "text": [
      "Accuracy:  0.8044334975369458 \n",
      "\n"
     ]
    }
   ],
   "source": [
    "#Train the model with the training data\n",
    "RF = train_model(RandomForestClassifier(random_state = 0), X_train, y_train)\n",
    "\n",
    "#test the model with the test data\n",
    "y_pred=RF.predict(X_test)\n",
    "\n",
    "#calculate the accuracy\n",
    "RF_accuracy = accuracy_score(y_test, y_pred)\n",
    "print('Accuracy: ', RF_accuracy,'\\n')\n",
    "\n",
    "#calculate the F1 score\n",
    "# f1_Score = get_F1(RF, X_test, y_test)\n",
    "# pd.DataFrame(f1_Score, index=df_train.Label.unique(), columns=['F1 score'])"
   ]
  },
  {
   "cell_type": "code",
   "execution_count": 37,
   "metadata": {
    "colab": {
     "base_uri": "https://localhost:8080/",
     "height": 927
    },
    "executionInfo": {
     "elapsed": 549,
     "status": "ok",
     "timestamp": 1740266489128,
     "user": {
      "displayName": "Faisal Hasan Emon",
      "userId": "09464622889471399138"
     },
     "user_tz": -360
    },
    "id": "CYQtMJ7KttOm",
    "outputId": "5938870e-85dc-4da1-99a2-b33cb6427772"
   },
   "outputs": [
    {
     "name": "stdout",
     "output_type": "stream",
     "text": [
      "              precision    recall  f1-score   support\n",
      "\n",
      "       anger       0.66      0.86      0.74       620\n",
      "     disgust       0.86      0.78      0.82       775\n",
      "        fear       0.95      0.89      0.92       353\n",
      "         joy       0.88      0.78      0.82      1385\n",
      "     sadness       0.69      0.79      0.74       596\n",
      "    surprise       0.87      0.79      0.83       331\n",
      "\n",
      "    accuracy                           0.80      4060\n",
      "   macro avg       0.82      0.82      0.81      4060\n",
      "weighted avg       0.82      0.80      0.81      4060\n",
      "\n",
      "          Precision     Recall   F1 Score\n",
      "anger     65.717822  85.645161  74.369748\n",
      "disgust   86.099291  78.322581  82.027027\n",
      "fear      94.578313  88.951841  91.678832\n",
      "joy       87.520259  77.978339  82.474227\n",
      "sadness   69.264706  79.026846  73.824451\n",
      "surprise  87.375415  79.456193  83.227848\n"
     ]
    },
    {
     "data": {
      "image/png": "[encoded data removed]",
      "text/plain": [
       "<Figure size 1000x600 with 1 Axes>"
      ]
     },
     "metadata": {},
     "output_type": "display_data"
    }
   ],
   "source": [
    "# Classification Report\n",
    "print(classification_report(y_test, y_pred))\n",
    "\n",
    "# Compute precision, recall, f1-score\n",
    "precision, recall, f1_score, _ = precision_recall_fscore_support(y_test, y_pred, average=None)\n",
    "labels = sorted(set(y_test))  # Ensure correct label order\n",
    "\n",
    "# Convert to DataFrame\n",
    "metrics_df = pd.DataFrame({'Precision': precision * 100, 'Recall': recall * 100, 'F1 Score': f1_score * 100}, index=labels)\n",
    "\n",
    "# Check if DataFrame is populated\n",
    "print(metrics_df)\n",
    "\n",
    "# Plot Performance Table (F1 Score, Recall, Precision)\n",
    "plt.figure(figsize=(10, 6))\n",
    "metrics_df.plot(kind='bar', colormap='viridis', ax=plt.gca())  # Use `ax=plt.gca()` for correct rendering\n",
    "plt.ylim(0, 100)  # Ensure bars are visible\n",
    "plt.title(\"Model Performance Metrics\")\n",
    "plt.ylabel(\"Score (%)\")\n",
    "plt.xticks(rotation=45)\n",
    "plt.grid(axis='y', linestyle='--', alpha=0.7)\n",
    "plt.legend(loc='lower right')\n",
    "plt.show()"
   ]
  },
  {
   "cell_type": "code",
   "execution_count": 38,
   "metadata": {
    "colab": {
     "base_uri": "https://localhost:8080/",
     "height": 492
    },
    "executionInfo": {
     "elapsed": 214,
     "status": "ok",
     "timestamp": 1740266489343,
     "user": {
      "displayName": "Faisal Hasan Emon",
      "userId": "09464622889471399138"
     },
     "user_tz": -360
    },
    "id": "yEUkik3b_yQd",
    "outputId": "2c81fa21-9754-4291-9bb9-dff8fda11b99"
   },
   "outputs": [
    {
     "data": {
      "image/png": "[encoded data removed]",
      "text/plain": [
       "<Figure size 600x500 with 2 Axes>"
      ]
     },
     "metadata": {},
     "output_type": "display_data"
    }
   ],
   "source": [
    "# Compute confusion matrix\n",
    "cm = confusion_matrix(y_test, y_pred)\n",
    "\n",
    "# Set figure size\n",
    "plt.figure(figsize=(6, 5))\n",
    "\n",
    "# Plot confusion matrix with the desired style\n",
    "sns.heatmap(cm, annot=True, fmt=\"g\", cmap=\"YlGnBu\", linewidths=0.5, linecolor='gray', vmin=0, vmax=100)\n",
    "\n",
    "# Labels and title\n",
    "plt.title(\"Confusion Matrix\", fontsize=14)\n",
    "plt.xlabel(\"Predicted label\", fontsize=12)\n",
    "plt.ylabel(\"True label\", fontsize=12)\n",
    "\n",
    "# Show plot\n",
    "plt.show()"
   ]
  },
  {
   "cell_type": "markdown",
   "metadata": {
    "id": "15SL71CQuEE9"
   },
   "source": [
    "# All ML Performance Table"
   ]
  },
  {
   "cell_type": "code",
   "execution_count": 39,
   "metadata": {
    "colab": {
     "base_uri": "https://localhost:8080/",
     "height": 175
    },
    "executionInfo": {
     "elapsed": 42,
     "status": "ok",
     "timestamp": 1740266489387,
     "user": {
      "displayName": "Faisal Hasan Emon",
      "userId": "09464622889471399138"
     },
     "user_tz": -360
    },
    "id": "AcNlQMRwAA7O",
    "outputId": "1ffa054d-e836-4f74-dfa8-387f1015c150"
   },
   "outputs": [
    {
     "data": {
      "application/vnd.google.colaboratory.intrinsic+json": {
       "summary": "{\n  \"name\": \"models\",\n  \"rows\": 4,\n  \"fields\": [\n    {\n      \"column\": \"Model\",\n      \"properties\": {\n        \"dtype\": \"string\",\n        \"num_unique_values\": 4,\n        \"samples\": [\n          \"Decision Tree\",\n          \"Logistic Regression\",\n          \"Random Forest\"\n        ],\n        \"semantic_type\": \"\",\n        \"description\": \"\"\n      }\n    },\n    {\n      \"column\": \"Accuracy\",\n      \"properties\": {\n        \"dtype\": \"number\",\n        \"std\": 0.12776065303746187,\n        \"min\": 0.5261083743842364,\n        \"max\": 0.8044334975369458,\n        \"num_unique_values\": 4,\n        \"samples\": [\n          0.7891625615763547,\n          0.5261083743842364,\n          0.8044334975369458\n        ],\n        \"semantic_type\": \"\",\n        \"description\": \"\"\n      }\n    }\n  ]\n}",
       "type": "dataframe"
      },
      "text/html": [
       "\n",
       "  <div id=\"df-430b37ad-fed7-4cde-ab67-aa6947e530c5\" class=\"colab-df-container\">\n",
       "    <div>\n",
       "<style scoped>\n",
       "    .dataframe tbody tr th:only-of-type {\n",
       "        vertical-align: middle;\n",
       "    }\n",
       "\n",
       "    .dataframe tbody tr th {\n",
       "        vertical-align: top;\n",
       "    }\n",
       "\n",
       "    .dataframe thead th {\n",
       "        text-align: right;\n",
       "    }\n",
       "</style>\n",
       "<table border=\"1\" class=\"dataframe\">\n",
       "  <thead>\n",
       "    <tr style=\"text-align: right;\">\n",
       "      <th></th>\n",
       "      <th>Model</th>\n",
       "      <th>Accuracy</th>\n",
       "    </tr>\n",
       "  </thead>\n",
       "  <tbody>\n",
       "    <tr>\n",
       "      <th>0</th>\n",
       "      <td>Random Forest</td>\n",
       "      <td>0.804433</td>\n",
       "    </tr>\n",
       "    <tr>\n",
       "      <th>1</th>\n",
       "      <td>Decision Tree</td>\n",
       "      <td>0.789163</td>\n",
       "    </tr>\n",
       "    <tr>\n",
       "      <th>2</th>\n",
       "      <td>Support Vector Machine</td>\n",
       "      <td>0.708621</td>\n",
       "    </tr>\n",
       "    <tr>\n",
       "      <th>3</th>\n",
       "      <td>Logistic Regression</td>\n",
       "      <td>0.526108</td>\n",
       "    </tr>\n",
       "  </tbody>\n",
       "</table>\n",
       "</div>\n",
       "    <div class=\"colab-df-buttons\">\n",
       "\n",
       "  <div class=\"colab-df-container\">\n",
       "    <button class=\"colab-df-convert\" onclick=\"convertToInteractive('df-430b37ad-fed7-4cde-ab67-aa6947e530c5')\"\n",
       "            title=\"Convert this dataframe to an interactive table.\"\n",
       "            style=\"display:none;\">\n",
       "\n",
       "  <svg xmlns=\"http://www.w3.org/2000/svg\" height=\"24px\" viewBox=\"0 -960 960 960\">\n",
       "    <path d=\"M120-120v-720h720v720H120Zm60-500h600v-160H180v160Zm220 220h160v-160H400v160Zm0 220h160v-160H400v160ZM180-400h160v-160H180v160Zm440 0h160v-160H620v160ZM180-180h160v-160H180v160Zm440 0h160v-160H620v160Z\"/>\n",
       "  </svg>\n",
       "    </button>\n",
       "\n",
       "  <style>\n",
       "    .colab-df-container {\n",
       "      display:flex;\n",
       "      gap: 12px;\n",
       "    }\n",
       "\n",
       "    .colab-df-convert {\n",
       "      background-color: #E8F0FE;\n",
       "      border: none;\n",
       "      border-radius: 50%;\n",
       "      cursor: pointer;\n",
       "      display: none;\n",
       "      fill: #1967D2;\n",
       "      height: 32px;\n",
       "      padding: 0 0 0 0;\n",
       "      width: 32px;\n",
       "    }\n",
       "\n",
       "    .colab-df-convert:hover {\n",
       "      background-color: #E2EBFA;\n",
       "      box-shadow: 0px 1px 2px rgba(60, 64, 67, 0.3), 0px 1px 3px 1px rgba(60, 64, 67, 0.15);\n",
       "      fill: #174EA6;\n",
       "    }\n",
       "\n",
       "    .colab-df-buttons div {\n",
       "      margin-bottom: 4px;\n",
       "    }\n",
       "\n",
       "    [theme=dark] .colab-df-convert {\n",
       "      background-color: #3B4455;\n",
       "      fill: #D2E3FC;\n",
       "    }\n",
       "\n",
       "    [theme=dark] .colab-df-convert:hover {\n",
       "      background-color: #434B5C;\n",
       "      box-shadow: 0px 1px 3px 1px rgba(0, 0, 0, 0.15);\n",
       "      filter: drop-shadow(0px 1px 2px rgba(0, 0, 0, 0.3));\n",
       "      fill: #FFFFFF;\n",
       "    }\n",
       "  </style>\n",
       "\n",
       "    <script>\n",
       "      const buttonEl =\n",
       "        document.querySelector('#df-430b37ad-fed7-4cde-ab67-aa6947e530c5 button.colab-df-convert');\n",
       "      buttonEl.style.display =\n",
       "        google.colab.kernel.accessAllowed ? 'block' : 'none';\n",
       "\n",
       "      async function convertToInteractive(key) {\n",
       "        const element = document.querySelector('#df-430b37ad-fed7-4cde-ab67-aa6947e530c5');\n",
       "        const dataTable =\n",
       "          await google.colab.kernel.invokeFunction('convertToInteractive',\n",
       "                                                    [key], {});\n",
       "        if (!dataTable) return;\n",
       "\n",
       "        const docLinkHtml = 'Like what you see? Visit the ' +\n",
       "          '<a target=\"_blank\" href=https://colab.research.google.com/notebooks/data_table.ipynb>data table notebook</a>'\n",
       "          + ' to learn more about interactive tables.';\n",
       "        element.innerHTML = '';\n",
       "        dataTable['output_type'] = 'display_data';\n",
       "        await google.colab.output.renderOutput(dataTable, element);\n",
       "        const docLink = document.createElement('div');\n",
       "        docLink.innerHTML = docLinkHtml;\n",
       "        element.appendChild(docLink);\n",
       "      }\n",
       "    </script>\n",
       "  </div>\n",
       "\n",
       "\n",
       "<div id=\"df-51b77d27-d078-456e-a318-ef5dedcec2bc\">\n",
       "  <button class=\"colab-df-quickchart\" onclick=\"quickchart('df-51b77d27-d078-456e-a318-ef5dedcec2bc')\"\n",
       "            title=\"Suggest charts\"\n",
       "            style=\"display:none;\">\n",
       "\n",
       "<svg xmlns=\"http://www.w3.org/2000/svg\" height=\"24px\"viewBox=\"0 0 24 24\"\n",
       "     width=\"24px\">\n",
       "    <g>\n",
       "        <path d=\"M19 3H5c-1.1 0-2 .9-2 2v14c0 1.1.9 2 2 2h14c1.1 0 2-.9 2-2V5c0-1.1-.9-2-2-2zM9 17H7v-7h2v7zm4 0h-2V7h2v10zm4 0h-2v-4h2v4z\"/>\n",
       "    </g>\n",
       "</svg>\n",
       "  </button>\n",
       "\n",
       "<style>\n",
       "  .colab-df-quickchart {\n",
       "      --bg-color: #E8F0FE;\n",
       "      --fill-color: #1967D2;\n",
       "      --hover-bg-color: #E2EBFA;\n",
       "      --hover-fill-color: #174EA6;\n",
       "      --disabled-fill-color: #AAA;\n",
       "      --disabled-bg-color: #DDD;\n",
       "  }\n",
       "\n",
       "  [theme=dark] .colab-df-quickchart {\n",
       "      --bg-color: #3B4455;\n",
       "      --fill-color: #D2E3FC;\n",
       "      --hover-bg-color: #434B5C;\n",
       "      --hover-fill-color: #FFFFFF;\n",
       "      --disabled-bg-color: #3B4455;\n",
       "      --disabled-fill-color: #666;\n",
       "  }\n",
       "\n",
       "  .colab-df-quickchart {\n",
       "    background-color: var(--bg-color);\n",
       "    border: none;\n",
       "    border-radius: 50%;\n",
       "    cursor: pointer;\n",
       "    display: none;\n",
       "    fill: var(--fill-color);\n",
       "    height: 32px;\n",
       "    padding: 0;\n",
       "    width: 32px;\n",
       "  }\n",
       "\n",
       "  .colab-df-quickchart:hover {\n",
       "    background-color: var(--hover-bg-color);\n",
       "    box-shadow: 0 1px 2px rgba(60, 64, 67, 0.3), 0 1px 3px 1px rgba(60, 64, 67, 0.15);\n",
       "    fill: var(--button-hover-fill-color);\n",
       "  }\n",
       "\n",
       "  .colab-df-quickchart-complete:disabled,\n",
       "  .colab-df-quickchart-complete:disabled:hover {\n",
       "    background-color: var(--disabled-bg-color);\n",
       "    fill: var(--disabled-fill-color);\n",
       "    box-shadow: none;\n",
       "  }\n",
       "\n",
       "  .colab-df-spinner {\n",
       "    border: 2px solid var(--fill-color);\n",
       "    border-color: transparent;\n",
       "    border-bottom-color: var(--fill-color);\n",
       "    animation:\n",
       "      spin 1s steps(1) infinite;\n",
       "  }\n",
       "\n",
       "  @keyframes spin {\n",
       "    0% {\n",
       "      border-color: transparent;\n",
       "      border-bottom-color: var(--fill-color);\n",
       "      border-left-color: var(--fill-color);\n",
       "    }\n",
       "    20% {\n",
       "      border-color: transparent;\n",
       "      border-left-color: var(--fill-color);\n",
       "      border-top-color: var(--fill-color);\n",
       "    }\n",
       "    30% {\n",
       "      border-color: transparent;\n",
       "      border-left-color: var(--fill-color);\n",
       "      border-top-color: var(--fill-color);\n",
       "      border-right-color: var(--fill-color);\n",
       "    }\n",
       "    40% {\n",
       "      border-color: transparent;\n",
       "      border-right-color: var(--fill-color);\n",
       "      border-top-color: var(--fill-color);\n",
       "    }\n",
       "    60% {\n",
       "      border-color: transparent;\n",
       "      border-right-color: var(--fill-color);\n",
       "    }\n",
       "    80% {\n",
       "      border-color: transparent;\n",
       "      border-right-color: var(--fill-color);\n",
       "      border-bottom-color: var(--fill-color);\n",
       "    }\n",
       "    90% {\n",
       "      border-color: transparent;\n",
       "      border-bottom-color: var(--fill-color);\n",
       "    }\n",
       "  }\n",
       "</style>\n",
       "\n",
       "  <script>\n",
       "    async function quickchart(key) {\n",
       "      const quickchartButtonEl =\n",
       "        document.querySelector('#' + key + ' button');\n",
       "      quickchartButtonEl.disabled = true;  // To prevent multiple clicks.\n",
       "      quickchartButtonEl.classList.add('colab-df-spinner');\n",
       "      try {\n",
       "        const charts = await google.colab.kernel.invokeFunction(\n",
       "            'suggestCharts', [key], {});\n",
       "      } catch (error) {\n",
       "        console.error('Error during call to suggestCharts:', error);\n",
       "      }\n",
       "      quickchartButtonEl.classList.remove('colab-df-spinner');\n",
       "      quickchartButtonEl.classList.add('colab-df-quickchart-complete');\n",
       "    }\n",
       "    (() => {\n",
       "      let quickchartButtonEl =\n",
       "        document.querySelector('#df-51b77d27-d078-456e-a318-ef5dedcec2bc button');\n",
       "      quickchartButtonEl.style.display =\n",
       "        google.colab.kernel.accessAllowed ? 'block' : 'none';\n",
       "    })();\n",
       "  </script>\n",
       "</div>\n",
       "\n",
       "    </div>\n",
       "  </div>\n"
      ],
      "text/plain": [
       "                    Model  Accuracy\n",
       "0           Random Forest  0.804433\n",
       "1           Decision Tree  0.789163\n",
       "2  Support Vector Machine  0.708621\n",
       "3     Logistic Regression  0.526108"
      ]
     },
     "execution_count": 39,
     "metadata": {},
     "output_type": "execute_result"
    }
   ],
   "source": [
    "models = pd.DataFrame({\n",
    "    'Model': ['Logistic Regression', 'Decision Tree','Support Vector Machine','Random Forest'],\n",
    "    'Accuracy': [log_reg_accuracy, DT_accuracy, SVM_accuracy, RF_accuracy]})\n",
    "\n",
    "models.sort_values(by='Accuracy', ascending=False).reset_index().drop(['index'], axis=1)"
   ]
  },
  {
   "cell_type": "markdown",
   "metadata": {
    "id": "7tJDgy5tvmGb"
   },
   "source": [
    "# Deep Learning Models\n"
   ]
  },
  {
   "cell_type": "markdown",
   "metadata": {
    "id": "LVtQtmWh1iEL"
   },
   "source": [
    "# CNN Code Without banglaglove"
   ]
  },
  {
   "cell_type": "code",
   "execution_count": 40,
   "metadata": {
    "colab": {
     "base_uri": "https://localhost:8080/"
    },
    "executionInfo": {
     "elapsed": 494137,
     "status": "ok",
     "timestamp": 1740266983521,
     "user": {
      "displayName": "Faisal Hasan Emon",
      "userId": "09464622889471399138"
     },
     "user_tz": -360
    },
    "id": "glw3SIkBNmch",
    "outputId": "ef6a9e71-1163-47b1-c6c4-cd257639ed2e"
   },
   "outputs": [
    {
     "name": "stdout",
     "output_type": "stream",
     "text": [
      "Epoch 1/15\n",
      "\u001b[1m377/377\u001b[0m \u001b[32m━━━━━━━━━━━━━━━━━━━━\u001b[0m\u001b[37m\u001b[0m \u001b[1m24s\u001b[0m 60ms/step - accuracy: 0.2484 - loss: 1.7261 - val_accuracy: 0.4603 - val_loss: 1.3587\n",
      "Epoch 2/15\n",
      "\u001b[1m377/377\u001b[0m \u001b[32m━━━━━━━━━━━━━━━━━━━━\u001b[0m\u001b[37m\u001b[0m \u001b[1m22s\u001b[0m 57ms/step - accuracy: 0.4940 - loss: 1.3337 - val_accuracy: 0.7247 - val_loss: 0.8600\n",
      "Epoch 3/15\n",
      "\u001b[1m377/377\u001b[0m \u001b[32m━━━━━━━━━━━━━━━━━━━━\u001b[0m\u001b[37m\u001b[0m \u001b[1m22s\u001b[0m 58ms/step - accuracy: 0.6480 - loss: 0.9827 - val_accuracy: 0.8807 - val_loss: 0.5164\n",
      "Epoch 4/15\n",
      "\u001b[1m377/377\u001b[0m \u001b[32m━━━━━━━━━━━━━━━━━━━━\u001b[0m\u001b[37m\u001b[0m \u001b[1m40s\u001b[0m 57ms/step - accuracy: 0.7614 - loss: 0.7190 - val_accuracy: 0.9474 - val_loss: 0.2711\n",
      "Epoch 5/15\n",
      "\u001b[1m377/377\u001b[0m \u001b[32m━━━━━━━━━━━━━━━━━━━━\u001b[0m\u001b[37m\u001b[0m \u001b[1m22s\u001b[0m 58ms/step - accuracy: 0.8583 - loss: 0.4650 - val_accuracy: 0.9817 - val_loss: 0.1237\n",
      "Epoch 6/15\n",
      "\u001b[1m377/377\u001b[0m \u001b[32m━━━━━━━━━━━━━━━━━━━━\u001b[0m\u001b[37m\u001b[0m \u001b[1m22s\u001b[0m 58ms/step - accuracy: 0.9169 - loss: 0.2954 - val_accuracy: 0.9941 - val_loss: 0.0563\n",
      "Epoch 7/15\n",
      "\u001b[1m377/377\u001b[0m \u001b[32m━━━━━━━━━━━━━━━━━━━━\u001b[0m\u001b[37m\u001b[0m \u001b[1m40s\u001b[0m 57ms/step - accuracy: 0.9475 - loss: 0.1984 - val_accuracy: 0.9975 - val_loss: 0.0308\n",
      "Epoch 8/15\n",
      "\u001b[1m377/377\u001b[0m \u001b[32m━━━━━━━━━━━━━━━━━━━━\u001b[0m\u001b[37m\u001b[0m \u001b[1m43s\u001b[0m 61ms/step - accuracy: 0.9635 - loss: 0.1338 - val_accuracy: 0.9978 - val_loss: 0.0172\n",
      "Epoch 9/15\n",
      "\u001b[1m377/377\u001b[0m \u001b[32m━━━━━━━━━━━━━━━━━━━━\u001b[0m\u001b[37m\u001b[0m \u001b[1m39s\u001b[0m 57ms/step - accuracy: 0.9750 - loss: 0.0933 - val_accuracy: 0.9985 - val_loss: 0.0101\n",
      "Epoch 10/15\n",
      "\u001b[1m377/377\u001b[0m \u001b[32m━━━━━━━━━━━━━━━━━━━━\u001b[0m\u001b[37m\u001b[0m \u001b[1m42s\u001b[0m 59ms/step - accuracy: 0.9829 - loss: 0.0632 - val_accuracy: 0.9993 - val_loss: 0.0070\n",
      "Epoch 11/15\n",
      "\u001b[1m377/377\u001b[0m \u001b[32m━━━━━━━━━━━━━━━━━━━━\u001b[0m\u001b[37m\u001b[0m \u001b[1m22s\u001b[0m 59ms/step - accuracy: 0.9874 - loss: 0.0499 - val_accuracy: 0.9998 - val_loss: 0.0043\n",
      "Epoch 12/15\n",
      "\u001b[1m377/377\u001b[0m \u001b[32m━━━━━━━━━━━━━━━━━━━━\u001b[0m\u001b[37m\u001b[0m \u001b[1m22s\u001b[0m 57ms/step - accuracy: 0.9870 - loss: 0.0463 - val_accuracy: 0.9998 - val_loss: 0.0031\n",
      "Epoch 13/15\n",
      "\u001b[1m377/377\u001b[0m \u001b[32m━━━━━━━━━━━━━━━━━━━━\u001b[0m\u001b[37m\u001b[0m \u001b[1m41s\u001b[0m 58ms/step - accuracy: 0.9910 - loss: 0.0386 - val_accuracy: 0.9998 - val_loss: 0.0019\n",
      "Epoch 14/15\n",
      "\u001b[1m377/377\u001b[0m \u001b[32m━━━━━━━━━━━━━━━━━━━━\u001b[0m\u001b[37m\u001b[0m \u001b[1m40s\u001b[0m 57ms/step - accuracy: 0.9906 - loss: 0.0336 - val_accuracy: 0.9998 - val_loss: 0.0022\n",
      "Epoch 15/15\n",
      "\u001b[1m377/377\u001b[0m \u001b[32m━━━━━━━━━━━━━━━━━━━━\u001b[0m\u001b[37m\u001b[0m \u001b[1m44s\u001b[0m 65ms/step - accuracy: 0.9911 - loss: 0.0300 - val_accuracy: 0.9998 - val_loss: 0.0012\n",
      "\u001b[1m127/127\u001b[0m \u001b[32m━━━━━━━━━━━━━━━━━━━━\u001b[0m\u001b[37m\u001b[0m \u001b[1m2s\u001b[0m 14ms/step\n"
     ]
    }
   ],
   "source": [
    "# Code\n",
    "import pandas as pd\n",
    "import numpy as np\n",
    "import tensorflow as tf\n",
    "from tensorflow.keras.preprocessing.text import Tokenizer\n",
    "from tensorflow.keras.preprocessing.sequence import pad_sequences\n",
    "from tensorflow.keras.models import Sequential\n",
    "from tensorflow.keras.layers import Embedding, Conv1D, GlobalMaxPooling1D, Dense, Dropout\n",
    "from sklearn.preprocessing import LabelEncoder\n",
    "from tensorflow.keras.utils import to_categorical\n",
    "from sklearn.metrics import classification_report\n",
    "\n",
    "# Tokenization\n",
    "vocab_size = 5000  # Increased for better representation\n",
    "tokenizer = Tokenizer(num_words=vocab_size, oov_token=\"<OOV>\")\n",
    "tokenizer.fit_on_texts(df_train['Text'])\n",
    "\n",
    "# Convert texts to sequences\n",
    "df_train['text_sequences'] = tokenizer.texts_to_sequences(df_train['Text'])\n",
    "df_test['text_sequences'] = tokenizer.texts_to_sequences(df_test['Text'])\n",
    "df_val['text_sequences'] = tokenizer.texts_to_sequences(df_val['Text'])\n",
    "\n",
    "# Padding\n",
    "max_length = 100\n",
    "df_train['padded_sequences'] = list(pad_sequences(df_train['text_sequences'], maxlen=max_length, padding='post'))\n",
    "df_test['padded_sequences'] = list(pad_sequences(df_test['text_sequences'], maxlen=max_length, padding='post'))\n",
    "df_val['padded_sequences'] = list(pad_sequences(df_val['text_sequences'], maxlen=max_length, padding='post'))\n",
    "\n",
    "# Label Encoding\n",
    "label_encoder = LabelEncoder()\n",
    "df_train['label_encoded'] = label_encoder.fit_transform(df_train['Label'])\n",
    "df_test['label_encoded'] = label_encoder.transform(df_test['Label'])\n",
    "df_val['label_encoded'] = label_encoder.transform(df_val['Label'])\n",
    "\n",
    "num_classes = len(label_encoder.classes_)\n",
    "\n",
    "y_train = to_categorical(df_train['label_encoded'], num_classes=num_classes)\n",
    "y_test = to_categorical(df_test['label_encoded'], num_classes=num_classes)\n",
    "y_val = to_categorical(df_val['label_encoded'], num_classes=num_classes)\n",
    "\n",
    "# Convert to NumPy arrays\n",
    "X_train = np.array(df_train['padded_sequences'].tolist())\n",
    "X_test = np.array(df_test['padded_sequences'].tolist())\n",
    "X_val = np.array(df_val['padded_sequences'].tolist())\n",
    "\n",
    "# CNN Model with Fine-tuning\n",
    "model = Sequential([\n",
    "    Embedding(input_dim=vocab_size, output_dim=128, input_length=max_length),\n",
    "    Conv1D(filters=256, kernel_size=5, activation='relu'),  # Increased filters\n",
    "    GlobalMaxPooling1D(),\n",
    "    Dense(128, activation='relu'),\n",
    "    Dropout(0.5),\n",
    "    Dense(num_classes, activation='softmax')\n",
    "])\n",
    "\n",
    "# Compile with learning rate tuning\n",
    "model.compile(\n",
    "    optimizer=tf.keras.optimizers.Adam(learning_rate=0.0005),  # Fine-tuned learning rate\n",
    "    loss='categorical_crossentropy',\n",
    "    metrics=['accuracy']\n",
    ")\n",
    "#Earliy Stopping Function\n",
    "early_stopping = tf.keras.callbacks.EarlyStopping(\n",
    "    monitor='val_loss',\n",
    "    patience=3,  # Stop training if val_loss doesn't improve for 3 epochs\n",
    "    restore_best_weights=True\n",
    ")\n",
    "\n",
    "# Train the model\n",
    "history = model.fit(\n",
    "    X_train, y_train,\n",
    "    validation_data=(X_val, y_val),\n",
    "    epochs=15,  # Increased epochs for better training\n",
    "    batch_size=32,\n",
    "    verbose=1,\n",
    "    callbacks=[early_stopping]  # Added early stopping\n",
    ")\n",
    "\n",
    "# Evaluate on test set\n",
    "y_pred = model.predict(X_test)\n",
    "y_pred_classes = np.argmax(y_pred, axis=1)\n",
    "y_true_classes = np.argmax(y_test, axis=1)\n",
    "\n",
    "# Generate F1-score table\n",
    "report = classification_report(y_true_classes, y_pred_classes, target_names=label_encoder.classes_, output_dict=True)\n",
    "# f1_df = pd.DataFrame(report).transpose()\n",
    "# print(f1_df)\n",
    "\n"
   ]
  },
  {
   "cell_type": "code",
   "execution_count": 41,
   "metadata": {
    "colab": {
     "base_uri": "https://localhost:8080/",
     "height": 927
    },
    "executionInfo": {
     "elapsed": 253,
     "status": "ok",
     "timestamp": 1740266983777,
     "user": {
      "displayName": "Faisal Hasan Emon",
      "userId": "09464622889471399138"
     },
     "user_tz": -360
    },
    "id": "PGY4Vb5SylO1",
    "outputId": "2068ee4d-71d7-4bc1-d376-ca72c6a041a1"
   },
   "outputs": [
    {
     "name": "stdout",
     "output_type": "stream",
     "text": [
      "              precision    recall  f1-score   support\n",
      "\n",
      "       anger       0.78      0.90      0.83       620\n",
      "     disgust       0.84      0.85      0.85       775\n",
      "        fear       0.84      0.89      0.86       353\n",
      "         joy       0.94      0.79      0.85      1385\n",
      "     sadness       0.74      0.83      0.78       596\n",
      "    surprise       0.76      0.83      0.79       331\n",
      "\n",
      "    accuracy                           0.83      4060\n",
      "   macro avg       0.82      0.85      0.83      4060\n",
      "weighted avg       0.84      0.83      0.83      4060\n",
      "\n",
      "          Precision     Recall   F1 Score\n",
      "anger     78.059072  89.516129  83.395943\n",
      "disgust   84.271100  85.032258  84.649968\n",
      "fear      83.554377  89.235127  86.301370\n",
      "joy       93.712317  78.555957  85.467400\n",
      "sadness   73.952096  82.885906  78.164557\n",
      "surprise  75.900277  82.779456  79.190751\n"
     ]
    },
    {
     "data": {
      "image/png": "[encoded data removed]",
      "text/plain": [
       "<Figure size 1000x600 with 1 Axes>"
      ]
     },
     "metadata": {},
     "output_type": "display_data"
    }
   ],
   "source": [
    "\n",
    "# Generate classification report\n",
    "print(classification_report(y_true_classes, y_pred_classes, target_names=label_encoder.classes_))\n",
    "\n",
    "# Compute precision, recall, f1-score\n",
    "precision, recall, f1_score, _ = precision_recall_fscore_support(y_true_classes, y_pred_classes, average=None)\n",
    "labels = label_encoder.classes_  # Ensure correct label order\n",
    "\n",
    "# Convert to DataFrame\n",
    "metrics_df = pd.DataFrame({'Precision': precision * 100, 'Recall': recall * 100, 'F1 Score': f1_score * 100}, index=labels)\n",
    "\n",
    "# Check if DataFrame is populated\n",
    "print(metrics_df)\n",
    "\n",
    "# Plot Performance Table (F1 Score, Recall, Precision)\n",
    "plt.figure(figsize=(10, 6))\n",
    "metrics_df.plot(kind='bar', colormap='viridis', ax=plt.gca())  # Use `ax=plt.gca()` for correct rendering\n",
    "plt.ylim(0, 100)  # Ensure bars are visible\n",
    "plt.title(\"Model Performance Metrics\")\n",
    "plt.ylabel(\"Score (%)\")\n",
    "plt.xticks(rotation=45)\n",
    "plt.grid(axis='y', linestyle='--', alpha=0.7)\n",
    "plt.legend(loc='lower right')\n",
    "plt.show()\n"
   ]
  },
  {
   "cell_type": "code",
   "execution_count": 42,
   "metadata": {
    "colab": {
     "base_uri": "https://localhost:8080/",
     "height": 492
    },
    "executionInfo": {
     "elapsed": 256,
     "status": "ok",
     "timestamp": 1740266984036,
     "user": {
      "displayName": "Faisal Hasan Emon",
      "userId": "09464622889471399138"
     },
     "user_tz": -360
    },
    "id": "58kv94kOvvDr",
    "outputId": "abdcc601-04ec-4374-de23-24365a2616f2"
   },
   "outputs": [
    {
     "data": {
      "image/png": "[encoded data removed]",
      "text/plain": [
       "<Figure size 600x500 with 2 Axes>"
      ]
     },
     "metadata": {},
     "output_type": "display_data"
    }
   ],
   "source": [
    "# Compute confusion matrix\n",
    "cm = confusion_matrix(y_true_classes, y_pred_classes)\n",
    "\n",
    "# Convert numerical labels to emotion labels\n",
    "emotion_labels = label_encoder.classes_\n",
    "\n",
    "# Set figure size\n",
    "plt.figure(figsize=(6, 5))\n",
    "\n",
    "# Plot confusion matrix with emotion labels\n",
    "sns.heatmap(cm, annot=True, fmt=\"d\", cmap=\"YlGnBu\", linewidths=0.5,\n",
    "            linecolor='gray', xticklabels=emotion_labels, yticklabels=emotion_labels)\n",
    "\n",
    "# Labels and title\n",
    "plt.title(\"Confusion Matrix\", fontsize=14)\n",
    "plt.xlabel(\"Predicted Label\", fontsize=12)\n",
    "plt.ylabel(\"True Label\", fontsize=12)\n",
    "\n",
    "# Show plot\n",
    "plt.show()"
   ]
  },
  {
   "cell_type": "markdown",
   "metadata": {
    "id": "p3bguaVf1UCv"
   },
   "source": [
    "# Fine Tune CNN Code without BanglaGlove"
   ]
  },
  {
   "cell_type": "code",
   "execution_count": 43,
   "metadata": {
    "colab": {
     "base_uri": "https://localhost:8080/"
    },
    "executionInfo": {
     "elapsed": 1116322,
     "status": "ok",
     "timestamp": 1740268100356,
     "user": {
      "displayName": "Faisal Hasan Emon",
      "userId": "09464622889471399138"
     },
     "user_tz": -360
    },
    "id": "wVbXqkUNliHb",
    "outputId": "1ce926f1-f472-4a23-cb6b-c6fd90b667e1"
   },
   "outputs": [
    {
     "name": "stdout",
     "output_type": "stream",
     "text": [
      "Epoch 1/30\n",
      "\u001b[1m377/377\u001b[0m \u001b[32m━━━━━━━━━━━━━━━━━━━━\u001b[0m\u001b[37m\u001b[0m \u001b[1m28s\u001b[0m 68ms/step - accuracy: 0.2602 - loss: 3.0369 - val_accuracy: 0.5471 - val_loss: 2.2025\n",
      "Epoch 2/30\n",
      "\u001b[1m377/377\u001b[0m \u001b[32m━━━━━━━━━━━━━━━━━━━━\u001b[0m\u001b[37m\u001b[0m \u001b[1m40s\u001b[0m 67ms/step - accuracy: 0.5188 - loss: 1.7356 - val_accuracy: 0.8317 - val_loss: 1.0459\n",
      "Epoch 3/30\n",
      "\u001b[1m377/377\u001b[0m \u001b[32m━━━━━━━━━━━━━━━━━━━━\u001b[0m\u001b[37m\u001b[0m \u001b[1m41s\u001b[0m 66ms/step - accuracy: 0.7292 - loss: 1.0484 - val_accuracy: 0.9711 - val_loss: 0.4521\n",
      "Epoch 4/30\n",
      "\u001b[1m377/377\u001b[0m \u001b[32m━━━━━━━━━━━━━━━━━━━━\u001b[0m\u001b[37m\u001b[0m \u001b[1m41s\u001b[0m 68ms/step - accuracy: 0.8908 - loss: 0.5747 - val_accuracy: 0.9941 - val_loss: 0.2377\n",
      "Epoch 5/30\n",
      "\u001b[1m377/377\u001b[0m \u001b[32m━━━━━━━━━━━━━━━━━━━━\u001b[0m\u001b[37m\u001b[0m \u001b[1m41s\u001b[0m 68ms/step - accuracy: 0.9506 - loss: 0.3498 - val_accuracy: 0.9983 - val_loss: 0.1661\n",
      "Epoch 6/30\n",
      "\u001b[1m377/377\u001b[0m \u001b[32m━━━━━━━━━━━━━━━━━━━━\u001b[0m\u001b[37m\u001b[0m \u001b[1m43s\u001b[0m 73ms/step - accuracy: 0.9752 - loss: 0.2432 - val_accuracy: 0.9993 - val_loss: 0.1263\n",
      "Epoch 7/30\n",
      "\u001b[1m377/377\u001b[0m \u001b[32m━━━━━━━━━━━━━━━━━━━━\u001b[0m\u001b[37m\u001b[0m \u001b[1m25s\u001b[0m 67ms/step - accuracy: 0.9877 - loss: 0.1746 - val_accuracy: 0.9993 - val_loss: 0.0974\n",
      "Epoch 8/30\n",
      "\u001b[1m377/377\u001b[0m \u001b[32m━━━━━━━━━━━━━━━━━━━━\u001b[0m\u001b[37m\u001b[0m \u001b[1m41s\u001b[0m 67ms/step - accuracy: 0.9862 - loss: 0.1478 - val_accuracy: 0.9998 - val_loss: 0.0792\n",
      "Epoch 9/30\n",
      "\u001b[1m377/377\u001b[0m \u001b[32m━━━━━━━━━━━━━━━━━━━━\u001b[0m\u001b[37m\u001b[0m \u001b[1m26s\u001b[0m 68ms/step - accuracy: 0.9923 - loss: 0.1117 - val_accuracy: 0.9998 - val_loss: 0.0643\n",
      "Epoch 10/30\n",
      "\u001b[1m377/377\u001b[0m \u001b[32m━━━━━━━━━━━━━━━━━━━━\u001b[0m\u001b[37m\u001b[0m \u001b[1m40s\u001b[0m 67ms/step - accuracy: 0.9908 - loss: 0.0999 - val_accuracy: 0.9998 - val_loss: 0.0579\n",
      "Epoch 11/30\n",
      "\u001b[1m377/377\u001b[0m \u001b[32m━━━━━━━━━━━━━━━━━━━━\u001b[0m\u001b[37m\u001b[0m \u001b[1m41s\u001b[0m 68ms/step - accuracy: 0.9915 - loss: 0.0945 - val_accuracy: 0.9998 - val_loss: 0.0486\n",
      "Epoch 12/30\n",
      "\u001b[1m377/377\u001b[0m \u001b[32m━━━━━━━━━━━━━━━━━━━━\u001b[0m\u001b[37m\u001b[0m \u001b[1m41s\u001b[0m 67ms/step - accuracy: 0.9938 - loss: 0.0763 - val_accuracy: 0.9998 - val_loss: 0.0480\n",
      "Epoch 13/30\n",
      "\u001b[1m377/377\u001b[0m \u001b[32m━━━━━━━━━━━━━━━━━━━━\u001b[0m\u001b[37m\u001b[0m \u001b[1m41s\u001b[0m 68ms/step - accuracy: 0.9922 - loss: 0.0771 - val_accuracy: 0.9998 - val_loss: 0.0422\n",
      "Epoch 14/30\n",
      "\u001b[1m377/377\u001b[0m \u001b[32m━━━━━━━━━━━━━━━━━━━━\u001b[0m\u001b[37m\u001b[0m \u001b[1m41s\u001b[0m 67ms/step - accuracy: 0.9950 - loss: 0.0614 - val_accuracy: 0.9995 - val_loss: 0.0377\n",
      "Epoch 15/30\n",
      "\u001b[1m377/377\u001b[0m \u001b[32m━━━━━━━━━━━━━━━━━━━━\u001b[0m\u001b[37m\u001b[0m \u001b[1m41s\u001b[0m 67ms/step - accuracy: 0.9948 - loss: 0.0656 - val_accuracy: 0.9995 - val_loss: 0.0341\n",
      "Epoch 16/30\n",
      "\u001b[1m377/377\u001b[0m \u001b[32m━━━━━━━━━━━━━━━━━━━━\u001b[0m\u001b[37m\u001b[0m \u001b[1m41s\u001b[0m 66ms/step - accuracy: 0.9943 - loss: 0.0545 - val_accuracy: 0.9998 - val_loss: 0.0320\n",
      "Epoch 17/30\n",
      "\u001b[1m377/377\u001b[0m \u001b[32m━━━━━━━━━━━━━━━━━━━━\u001b[0m\u001b[37m\u001b[0m \u001b[1m25s\u001b[0m 67ms/step - accuracy: 0.9934 - loss: 0.0559 - val_accuracy: 0.9998 - val_loss: 0.0338\n",
      "Epoch 18/30\n",
      "\u001b[1m377/377\u001b[0m \u001b[32m━━━━━━━━━━━━━━━━━━━━\u001b[0m\u001b[37m\u001b[0m \u001b[1m41s\u001b[0m 67ms/step - accuracy: 0.9937 - loss: 0.0518 - val_accuracy: 0.9998 - val_loss: 0.0280\n",
      "Epoch 19/30\n",
      "\u001b[1m377/377\u001b[0m \u001b[32m━━━━━━━━━━━━━━━━━━━━\u001b[0m\u001b[37m\u001b[0m \u001b[1m41s\u001b[0m 67ms/step - accuracy: 0.9943 - loss: 0.0519 - val_accuracy: 0.9995 - val_loss: 0.0251\n",
      "Epoch 20/30\n",
      "\u001b[1m377/377\u001b[0m \u001b[32m━━━━━━━━━━━━━━━━━━━━\u001b[0m\u001b[37m\u001b[0m \u001b[1m41s\u001b[0m 67ms/step - accuracy: 0.9942 - loss: 0.0458 - val_accuracy: 0.9998 - val_loss: 0.0250\n",
      "Epoch 21/30\n",
      "\u001b[1m377/377\u001b[0m \u001b[32m━━━━━━━━━━━━━━━━━━━━\u001b[0m\u001b[37m\u001b[0m \u001b[1m41s\u001b[0m 67ms/step - accuracy: 0.9949 - loss: 0.0420 - val_accuracy: 0.9998 - val_loss: 0.0246\n",
      "Epoch 22/30\n",
      "\u001b[1m377/377\u001b[0m \u001b[32m━━━━━━━━━━━━━━━━━━━━\u001b[0m\u001b[37m\u001b[0m \u001b[1m25s\u001b[0m 67ms/step - accuracy: 0.9936 - loss: 0.0462 - val_accuracy: 0.9998 - val_loss: 0.0234\n",
      "Epoch 23/30\n",
      "\u001b[1m377/377\u001b[0m \u001b[32m━━━━━━━━━━━━━━━━━━━━\u001b[0m\u001b[37m\u001b[0m \u001b[1m41s\u001b[0m 67ms/step - accuracy: 0.9943 - loss: 0.0410 - val_accuracy: 0.9998 - val_loss: 0.0207\n",
      "Epoch 24/30\n",
      "\u001b[1m377/377\u001b[0m \u001b[32m━━━━━━━━━━━━━━━━━━━━\u001b[0m\u001b[37m\u001b[0m \u001b[1m41s\u001b[0m 68ms/step - accuracy: 0.9951 - loss: 0.0379 - val_accuracy: 0.9998 - val_loss: 0.0180\n",
      "Epoch 25/30\n",
      "\u001b[1m377/377\u001b[0m \u001b[32m━━━━━━━━━━━━━━━━━━━━\u001b[0m\u001b[37m\u001b[0m \u001b[1m26s\u001b[0m 68ms/step - accuracy: 0.9947 - loss: 0.0379 - val_accuracy: 0.9998 - val_loss: 0.0189\n",
      "Epoch 26/30\n",
      "\u001b[1m377/377\u001b[0m \u001b[32m━━━━━━━━━━━━━━━━━━━━\u001b[0m\u001b[37m\u001b[0m \u001b[1m26s\u001b[0m 68ms/step - accuracy: 0.9940 - loss: 0.0350 - val_accuracy: 0.9995 - val_loss: 0.0188\n",
      "Epoch 27/30\n",
      "\u001b[1m377/377\u001b[0m \u001b[32m━━━━━━━━━━━━━━━━━━━━\u001b[0m\u001b[37m\u001b[0m \u001b[1m41s\u001b[0m 69ms/step - accuracy: 0.9946 - loss: 0.0358 - val_accuracy: 0.9998 - val_loss: 0.0170\n",
      "Epoch 28/30\n",
      "\u001b[1m377/377\u001b[0m \u001b[32m━━━━━━━━━━━━━━━━━━━━\u001b[0m\u001b[37m\u001b[0m \u001b[1m40s\u001b[0m 67ms/step - accuracy: 0.9957 - loss: 0.0300 - val_accuracy: 0.9998 - val_loss: 0.0154\n",
      "Epoch 29/30\n",
      "\u001b[1m377/377\u001b[0m \u001b[32m━━━━━━━━━━━━━━━━━━━━\u001b[0m\u001b[37m\u001b[0m \u001b[1m41s\u001b[0m 67ms/step - accuracy: 0.9954 - loss: 0.0316 - val_accuracy: 0.9998 - val_loss: 0.0143\n",
      "Epoch 30/30\n",
      "\u001b[1m377/377\u001b[0m \u001b[32m━━━━━━━━━━━━━━━━━━━━\u001b[0m\u001b[37m\u001b[0m \u001b[1m26s\u001b[0m 70ms/step - accuracy: 0.9953 - loss: 0.0278 - val_accuracy: 0.9998 - val_loss: 0.0139\n",
      "\u001b[1m127/127\u001b[0m \u001b[32m━━━━━━━━━━━━━━━━━━━━\u001b[0m\u001b[37m\u001b[0m \u001b[1m3s\u001b[0m 20ms/step\n",
      "              precision    recall  f1-score      support\n",
      "anger          0.788352  0.895161  0.838369   620.000000\n",
      "disgust        0.868074  0.849032  0.858447   775.000000\n",
      "fear           0.905172  0.892351  0.898716   353.000000\n",
      "joy            0.915132  0.825271  0.867882  1385.000000\n",
      "sadness        0.750769  0.818792  0.783307   596.000000\n",
      "surprise       0.769231  0.815710  0.791789   331.000000\n",
      "accuracy       0.844581  0.844581  0.844581     0.844581\n",
      "macro avg      0.832788  0.849386  0.839752  4060.000000\n",
      "weighted avg   0.849900  0.844581  0.845636  4060.000000\n",
      "\u001b[1m127/127\u001b[0m \u001b[32m━━━━━━━━━━━━━━━━━━━━\u001b[0m\u001b[37m\u001b[0m \u001b[1m2s\u001b[0m 15ms/step - accuracy: 0.6481 - loss: 1.8278\n",
      "Test Accuracy: 0.8446\n"
     ]
    }
   ],
   "source": [
    "# Code\n",
    "import pandas as pd\n",
    "import numpy as np\n",
    "import tensorflow as tf\n",
    "from tensorflow.keras.preprocessing.text import Tokenizer\n",
    "from tensorflow.keras.preprocessing.sequence import pad_sequences\n",
    "from tensorflow.keras.models import Sequential\n",
    "from tensorflow.keras.layers import Embedding, Conv1D, GlobalMaxPooling1D, Dense, Dropout, BatchNormalization\n",
    "from sklearn.preprocessing import LabelEncoder\n",
    "from tensorflow.keras.utils import to_categorical\n",
    "from sklearn.metrics import classification_report\n",
    "from sklearn.model_selection import train_test_split\n",
    "\n",
    "# Tokenization\n",
    "vocab_size = 5000  # Keeping it optimal\n",
    "max_length = 100\n",
    "tokenizer = Tokenizer(num_words=vocab_size, oov_token=\"<OOV>\")\n",
    "\n",
    "df_train['Text'] = df_train['Text'].str.lower()  # Normalize case\n",
    "df_test['Text'] = df_test['Text'].str.lower()\n",
    "df_val['Text'] = df_val['Text'].str.lower()\n",
    "\n",
    "tokenizer.fit_on_texts(df_train['Text'])\n",
    "\n",
    "# Convert texts to sequences\n",
    "train_sequences = tokenizer.texts_to_sequences(df_train['Text'])\n",
    "test_sequences = tokenizer.texts_to_sequences(df_test['Text'])\n",
    "val_sequences = tokenizer.texts_to_sequences(df_val['Text'])\n",
    "\n",
    "# Padding sequences\n",
    "X_train = pad_sequences(train_sequences, maxlen=max_length, padding='post')\n",
    "X_test = pad_sequences(test_sequences, maxlen=max_length, padding='post')\n",
    "X_val = pad_sequences(val_sequences, maxlen=max_length, padding='post')\n",
    "\n",
    "# Label Encoding\n",
    "label_encoder = LabelEncoder()\n",
    "y_train = label_encoder.fit_transform(df_train['Label'])\n",
    "y_test = label_encoder.transform(df_test['Label'])\n",
    "y_val = label_encoder.transform(df_val['Label'])\n",
    "\n",
    "num_classes = len(label_encoder.classes_)\n",
    "y_train = to_categorical(y_train, num_classes=num_classes)\n",
    "y_test = to_categorical(y_test, num_classes=num_classes)\n",
    "y_val = to_categorical(y_val, num_classes=num_classes)\n",
    "\n",
    "# CNN Model with Additional Regularization\n",
    "model = Sequential([\n",
    "    Embedding(input_dim=vocab_size, output_dim=128, input_length=max_length),\n",
    "    Conv1D(filters=256, kernel_size=5, activation='relu', padding='same'),\n",
    "    BatchNormalization(),  # Helps with training stability\n",
    "    GlobalMaxPooling1D(),\n",
    "    Dense(128, activation='relu', kernel_regularizer=tf.keras.regularizers.L2(0.01)),  # L2 Regularization\n",
    "    Dropout(0.5),  # Prevent overfitting\n",
    "    Dense(num_classes, activation='softmax')\n",
    "])\n",
    "\n",
    "# Compile with Learning Rate Scheduling\n",
    "initial_learning_rate = 0.0005\n",
    "lr_schedule = tf.keras.optimizers.schedules.ExponentialDecay(\n",
    "    initial_learning_rate, decay_steps=1000, decay_rate=0.9, staircase=True\n",
    ")\n",
    "optimizer = tf.keras.optimizers.Adam(learning_rate=lr_schedule)\n",
    "\n",
    "model.compile(\n",
    "    optimizer=optimizer,\n",
    "    loss='categorical_crossentropy',\n",
    "    metrics=['accuracy']\n",
    ")\n",
    "\n",
    "# Early Stopping to prevent overfitting\n",
    "early_stopping = tf.keras.callbacks.EarlyStopping(\n",
    "    monitor='val_loss',\n",
    "    patience=3,  # Stop training if val_loss doesn't improve for 3 epochs\n",
    "    restore_best_weights=True\n",
    ")\n",
    "\n",
    "# Train the model\n",
    "history = model.fit(\n",
    "    X_train, y_train,\n",
    "    validation_data=(X_val, y_val),\n",
    "    epochs=30,\n",
    "    batch_size=32,\n",
    "    verbose=1,\n",
    "    callbacks=[early_stopping]  # Added early stopping\n",
    ")\n",
    "\n",
    "# Evaluate on test set\n",
    "y_pred = model.predict(X_test)\n",
    "y_pred_classes = np.argmax(y_pred, axis=1)\n",
    "y_true_classes = np.argmax(y_test, axis=1)\n",
    "\n",
    "# Generate F1-score table\n",
    "report = classification_report(y_true_classes, y_pred_classes, target_names=label_encoder.classes_, output_dict=True)\n",
    "f1_df = pd.DataFrame(report).transpose()\n",
    "print(f1_df)\n",
    "\n",
    "\n",
    "test_loss, test_acc = model.evaluate(X_test, y_test)\n",
    "print(f\"Test Accuracy: {test_acc:.4f}\")"
   ]
  },
  {
   "cell_type": "code",
   "execution_count": 44,
   "metadata": {
    "colab": {
     "base_uri": "https://localhost:8080/",
     "height": 927
    },
    "executionInfo": {
     "elapsed": 259,
     "status": "ok",
     "timestamp": 1740268100617,
     "user": {
      "displayName": "Faisal Hasan Emon",
      "userId": "09464622889471399138"
     },
     "user_tz": -360
    },
    "id": "Dw9fTALS0I6N",
    "outputId": "b80a0dd3-b055-43e8-bf30-44425a5e44f2"
   },
   "outputs": [
    {
     "name": "stdout",
     "output_type": "stream",
     "text": [
      "              precision    recall  f1-score   support\n",
      "\n",
      "       anger       0.79      0.90      0.84       620\n",
      "     disgust       0.87      0.85      0.86       775\n",
      "        fear       0.91      0.89      0.90       353\n",
      "         joy       0.92      0.83      0.87      1385\n",
      "     sadness       0.75      0.82      0.78       596\n",
      "    surprise       0.77      0.82      0.79       331\n",
      "\n",
      "    accuracy                           0.84      4060\n",
      "   macro avg       0.83      0.85      0.84      4060\n",
      "weighted avg       0.85      0.84      0.85      4060\n",
      "\n",
      "          Precision     Recall   F1 Score\n",
      "anger     78.835227  89.516129  83.836858\n",
      "disgust   86.807388  84.903226  85.844749\n",
      "fear      90.517241  89.235127  89.871612\n",
      "joy       91.513211  82.527076  86.788155\n",
      "sadness   75.076923  81.879195  78.330658\n",
      "surprise  76.923077  81.570997  79.178886\n"
     ]
    },
    {
     "data": {
      "image/png": "[encoded data removed]",
      "text/plain": [
       "<Figure size 1000x600 with 1 Axes>"
      ]
     },
     "metadata": {},
     "output_type": "display_data"
    }
   ],
   "source": [
    "\n",
    "# Generate classification report\n",
    "print(classification_report(y_true_classes, y_pred_classes, target_names=label_encoder.classes_))\n",
    "\n",
    "# Compute precision, recall, f1-score\n",
    "precision, recall, f1_score, _ = precision_recall_fscore_support(y_true_classes, y_pred_classes, average=None)\n",
    "labels = label_encoder.classes_  # Ensure correct label order\n",
    "\n",
    "# Convert to DataFrame\n",
    "metrics_df = pd.DataFrame({'Precision': precision * 100, 'Recall': recall * 100, 'F1 Score': f1_score * 100}, index=labels)\n",
    "\n",
    "# Check if DataFrame is populated\n",
    "print(metrics_df)\n",
    "\n",
    "# Plot Performance Table (F1 Score, Recall, Precision)\n",
    "plt.figure(figsize=(10, 6))\n",
    "metrics_df.plot(kind='bar', colormap='viridis', ax=plt.gca())  # Use `ax=plt.gca()` for correct rendering\n",
    "plt.ylim(0, 100)  # Ensure bars are visible\n",
    "plt.title(\"Model Performance Metrics\")\n",
    "plt.ylabel(\"Score (%)\")\n",
    "plt.xticks(rotation=45)\n",
    "plt.grid(axis='y', linestyle='--', alpha=0.7)\n",
    "plt.legend(loc='lower right')\n",
    "plt.show()\n"
   ]
  },
  {
   "cell_type": "code",
   "execution_count": 45,
   "metadata": {
    "colab": {
     "base_uri": "https://localhost:8080/",
     "height": 492
    },
    "executionInfo": {
     "elapsed": 229,
     "status": "ok",
     "timestamp": 1740268100844,
     "user": {
      "displayName": "Faisal Hasan Emon",
      "userId": "09464622889471399138"
     },
     "user_tz": -360
    },
    "id": "PLy_S4wk0n4X",
    "outputId": "a982f31f-6885-437c-ed22-3086c6cc8370"
   },
   "outputs": [
    {
     "data": {
      "image/png": "[encoded data removed]",
      "text/plain": [
       "<Figure size 600x500 with 2 Axes>"
      ]
     },
     "metadata": {},
     "output_type": "display_data"
    }
   ],
   "source": [
    "# Compute confusion matrix\n",
    "cm = confusion_matrix(y_true_classes, y_pred_classes)\n",
    "\n",
    "# Convert numerical labels to emotion labels\n",
    "emotion_labels = label_encoder.classes_\n",
    "\n",
    "# Set figure size\n",
    "plt.figure(figsize=(6, 5))\n",
    "\n",
    "# Plot confusion matrix with emotion labels\n",
    "sns.heatmap(cm, annot=True, fmt=\"d\", cmap=\"YlGnBu\", linewidths=0.5,\n",
    "            linecolor='gray', xticklabels=emotion_labels, yticklabels=emotion_labels)\n",
    "\n",
    "# Labels and title\n",
    "plt.title(\"Confusion Matrix\", fontsize=14)\n",
    "plt.xlabel(\"Predicted Label\", fontsize=12)\n",
    "plt.ylabel(\"True Label\", fontsize=12)\n",
    "\n",
    "# Show plot\n",
    "plt.show()"
   ]
  },
  {
   "cell_type": "code",
   "execution_count": null,
   "metadata": {
    "colab": {
     "base_uri": "https://localhost:8080/"
    },
    "id": "XoIybWY1pcMi",
    "outputId": "46ff0832-f6e0-4fc1-fd80-210e1d5a1494"
   },
   "outputs": [
    {
     "name": "stdout",
     "output_type": "stream",
     "text": [
      "Epoch 1/10\n",
      "\u001b[1m377/377\u001b[0m \u001b[32m━━━━━━━━━━━━━━━━━━━━\u001b[0m\u001b[37m\u001b[0m \u001b[1m555s\u001b[0m 1s/step - accuracy: 0.2771 - loss: 1.6831 - val_accuracy: 0.5231 - val_loss: 1.2869\n",
      "Epoch 2/10\n",
      "\u001b[1m377/377\u001b[0m \u001b[32m━━━━━━━━━━━━━━━━━━━━\u001b[0m\u001b[37m\u001b[0m \u001b[1m578s\u001b[0m 1s/step - accuracy: 0.4986 - loss: 1.2789 - val_accuracy: 0.7623 - val_loss: 0.7529\n",
      "Epoch 3/10\n",
      "\u001b[1m310/377\u001b[0m \u001b[32m━━━━━━━━━━━━━━━━\u001b[0m\u001b[37m━━━━\u001b[0m \u001b[1m1:31\u001b[0m 1s/step - accuracy: 0.7054 - loss: 0.8179"
     ]
    }
   ],
   "source": [
    "#LSTM\n",
    "import numpy as np\n",
    "import re\n",
    "import tensorflow as tf\n",
    "from tensorflow.keras.preprocessing.text import Tokenizer\n",
    "from tensorflow.keras.preprocessing.sequence import pad_sequences\n",
    "from sklearn.preprocessing import LabelEncoder\n",
    "from tensorflow.keras.models import Sequential\n",
    "from tensorflow.keras.layers import Embedding, LSTM, Dense, Bidirectional, Dropout\n",
    "\n",
    "# Tokenization\n",
    "tokenizer = Tokenizer()\n",
    "# tokenizer.fit_on_texts(train_data[\"Text\"])\n",
    "tokenizer.fit_on_texts(df_train[\"Text\"])\n",
    "\n",
    "# Convert text to sequences\n",
    "# X_train = tokenizer.texts_to_sequences(train_data[\"Text\"])\n",
    "X_train = tokenizer.texts_to_sequences(df_train[\"Text\"])\n",
    "X_test = tokenizer.texts_to_sequences(df_test[\"Text\"])\n",
    "X_val = tokenizer.texts_to_sequences(df_val[\"Text\"])\n",
    "\n",
    "# Padding\n",
    "max_len = max(len(seq) for seq in X_train)\n",
    "X_train = pad_sequences(X_train, maxlen=max_len, padding='post')\n",
    "X_test = pad_sequences(X_test, maxlen=max_len, padding='post')\n",
    "X_val = pad_sequences(X_val, maxlen=max_len, padding='post')\n",
    "\n",
    "# Label Encoding\n",
    "label_encoder = LabelEncoder()\n",
    "# y_train = label_encoder.fit_transform(train_data[\"Label\"])\n",
    "y_train = label_encoder.fit_transform(df_train[\"Label\"])\n",
    "y_test = label_encoder.transform(df_test[\"Label\"])\n",
    "y_val = label_encoder.transform(df_val[\"Label\"])\n",
    "\n",
    "# Define Bi-LSTM Model\n",
    "vocab_size = len(tokenizer.word_index) + 1\n",
    "embedding_dim = 128\n",
    "\n",
    "model = Sequential([\n",
    "    Embedding(input_dim=vocab_size, output_dim=embedding_dim, input_length=max_len),\n",
    "    Bidirectional(LSTM(128, return_sequences=True)),\n",
    "    Dropout(0.5),\n",
    "    Bidirectional(LSTM(64)),\n",
    "    Dense(64, activation='relu'),\n",
    "    Dropout(0.5),\n",
    "    Dense(len(label_encoder.classes_), activation='softmax')\n",
    "])\n",
    "\n",
    "# Compile model\n",
    "model.compile(loss='sparse_categorical_crossentropy', optimizer='adam', metrics=['accuracy'])\n",
    "\n",
    "# Early Stopping Function\n",
    "early_stopping = tf.keras.callbacks.EarlyStopping(\n",
    "    monitor='val_loss',\n",
    "    patience=3,  # Stop training if val_loss doesn't improve for 3 epochs\n",
    "    restore_best_weights=True\n",
    ")\n",
    "\n",
    "\n",
    "# Train model\n",
    "model.fit(X_train, y_train, validation_data=(X_val, y_val), epochs=10, batch_size=32,callbacks=[early_stopping] )\n",
    "\n",
    "# Evaluate model\n",
    "test_loss, test_acc = model.evaluate(X_test, y_test)\n",
    "print(f\"Test Accuracy: {test_acc:.4f}\")\n",
    "\n"
   ]
  },
  {
   "cell_type": "code",
   "execution_count": null,
   "metadata": {
    "id": "BinfVxdB6woT"
   },
   "outputs": [],
   "source": [
    "\n",
    "# Predict on test set\n",
    "y_pred = model.predict(X_test)\n",
    "y_pred_classes = np.argmax(y_pred, axis=1)\n",
    "\n",
    "# Generate classification report\n",
    "report = classification_report(y_test, y_pred_classes, target_names=label_encoder.classes_, output_dict=True)\n",
    "\n",
    "# Convert report to DataFrame\n",
    "performance_df = pd.DataFrame(report).transpose()\n",
    "print(performance_df)\n",
    "\n",
    "# Extract relevant metrics for plotting\n",
    "categories = label_encoder.classes_\n",
    "precision = [report[label]['precision'] * 100 for label in categories]\n",
    "recall = [report[label]['recall'] * 100 for label in categories]\n",
    "f1_score = [report[label]['f1-score'] * 100 for label in categories]\n",
    "\n",
    "# Create performance table similar to your screenshot\n",
    "performance_table = pd.DataFrame({\n",
    "    'Category': categories,\n",
    "    'Precision': precision,\n",
    "    'Recall': recall,\n",
    "    'F1 Score': f1_score\n",
    "})\n",
    "print(performance_table)\n",
    "\n",
    "# Plot bar chart\n",
    "bar_width = 0.25\n",
    "x_indexes = np.arange(len(categories))\n",
    "\n",
    "plt.figure(figsize=(10, 6))\n",
    "plt.bar(x_indexes, precision, width=bar_width, label='Precision', color='purple')\n",
    "plt.bar(x_indexes + bar_width, recall, width=bar_width, label='Recall', color='teal')\n",
    "plt.bar(x_indexes + 2 * bar_width, f1_score, width=bar_width, label='F1 Score', color='yellow')\n",
    "\n",
    "# Formatting the plot\n",
    "plt.xlabel('Emotion Categories')\n",
    "plt.ylabel('Score (%)')\n",
    "plt.title('Model Performance Metrics')\n",
    "plt.xticks(ticks=x_indexes + bar_width, labels=categories, rotation=20)\n",
    "plt.legend()\n",
    "plt.show()\n"
   ]
  },
  {
   "cell_type": "code",
   "execution_count": null,
   "metadata": {
    "id": "DQ8zHjy682cu"
   },
   "outputs": [],
   "source": [
    "# Generate the confusion matrix\n",
    "cm = confusion_matrix(y_test, y_pred_classes)\n",
    "\n",
    "# Plot the confusion matrix\n",
    "plt.figure(figsize=(8, 6))\n",
    "sns.heatmap(cm, annot=True, fmt=\"d\", cmap=\"YlGnBu\", xticklabels=label_encoder.classes_, yticklabels=label_encoder.classes_)\n",
    "plt.xlabel(\"Predicted Label\")\n",
    "plt.ylabel(\"True Label\")\n",
    "plt.title(\"Confusion Matrix\")\n",
    "plt.show()"
   ]
  },
  {
   "cell_type": "code",
   "execution_count": null,
   "metadata": {
    "id": "4dEYBXWS4jia"
   },
   "outputs": [],
   "source": [
    "# # Compute confusion matrix\n",
    "# cm = confusion_matrix(y_true_classes, y_pred_classes)\n",
    "\n",
    "# # Convert numerical labels to emotion labels\n",
    "# emotion_labels = label_encoder.classes_\n",
    "\n",
    "# # Set figure size\n",
    "# plt.figure(figsize=(6, 5))\n",
    "\n",
    "# # Plot confusion matrix with emotion labels\n",
    "# sns.heatmap(cm, annot=True, fmt=\"d\", cmap=\"YlGnBu\", linewidths=0.5,\n",
    "#             linecolor='gray', xticklabels=emotion_labels, yticklabels=emotion_labels)\n",
    "\n",
    "# # Labels and title\n",
    "# plt.title(\"Confusion Matrix\", fontsize=14)\n",
    "# plt.xlabel(\"Predicted Label\", fontsize=12)\n",
    "# plt.ylabel(\"True Label\", fontsize=12)\n",
    "\n",
    "# # Show plot\n",
    "# plt.show()"
   ]
  },
  {
   "cell_type": "code",
   "execution_count": null,
   "metadata": {
    "id": "VOpIBgpasVf6"
   },
   "outputs": [],
   "source": [
    "# import numpy as np\n",
    "# import re\n",
    "# import tensorflow as tf\n",
    "# from tensorflow.keras.preprocessing.text import Tokenizer\n",
    "# from tensorflow.keras.preprocessing.sequence import pad_sequences\n",
    "# from sklearn.preprocessing import LabelEncoder\n",
    "# from tensorflow.keras.models import Sequential\n",
    "# from tensorflow.keras.layers import Embedding, LSTM, Dense, Bidirectional, Dropout\n",
    "# # Tokenization\n",
    "# tokenizer = Tokenizer()\n",
    "# # tokenizer.fit_on_texts(train_data[\"Text\"])\n",
    "# tokenizer.fit_on_texts(df_train[\"Text\"])\n",
    "# # Convert text to sequences\n",
    "# # X_train = tokenizer.texts_to_sequences(train_data[\"Text\"])\n",
    "# X_train = tokenizer.texts_to_sequences(df_train[\"Text\"])\n",
    "# X_test = tokenizer.texts_to_sequences(df_test[\"Text\"])\n",
    "# X_val = tokenizer.texts_to_sequences(df_val[\"Text\"])\n",
    "# # Padding\n",
    "# max_len = max(len(seq) for seq in X_train)\n",
    "# X_train = pad_sequences(X_train, maxlen=max_len, padding='post')\n",
    "# X_test = pad_sequences(X_test, maxlen=max_len, padding='post')\n",
    "# X_val = pad_sequences(X_val, maxlen=max_len, padding='post')\n",
    "# # Label Encoding\n",
    "# label_encoder = LabelEncoder()\n",
    "# # y_train = label_encoder.fit_transform(train_data[\"Label\"])\n",
    "# y_train = label_encoder.fit_transform(df_train[\"Label\"])\n",
    "# y_test = label_encoder.transform(df_test[\"Label\"])\n",
    "# y_val = label_encoder.transform(df_val[\"Label\"])\n",
    "# # Define LSTM Model\n",
    "# vocab_size = len(tokenizer.word_index) + 1\n",
    "# embedding_dim = 128\n",
    "# model = Sequential([\n",
    "#     Embedding(input_dim=vocab_size, output_dim=embedding_dim, input_length=max_len),\n",
    "#     Bidirectional(LSTM(128, return_sequences=True)),\n",
    "#     Dropout(0.5),\n",
    "#     Bidirectional(LSTM(64)),\n",
    "#     Dense(64, activation='relu'),\n",
    "#     Dropout(0.5),\n",
    "#     Dense(len(label_encoder.classes_), activation='softmax')\n",
    "# ])\n",
    "# # Compile model\n",
    "# model.compile(loss='sparse_categorical_crossentropy', optimizer='adam', metrics=['accuracy'])\n",
    "# # Train model\n",
    "# model.fit(X_train, y_train, validation_data=(X_val, y_val), epochs=10, batch_size=32)\n",
    "# # Evaluate model\n",
    "# test_loss, test_acc = model.evaluate(X_test, y_test)\n",
    "# print(f\"Test Accuracy: {test_acc:.4f}\")\n",
    "# implement gru\n",
    "\n",
    "# from tensorflow.keras.layers import GRU\n",
    "\n",
    "# # Define GRU Model\n",
    "# vocab_size = len(tokenizer.word_index) + 1\n",
    "# embedding_dim = 128\n",
    "\n",
    "# model = Sequential([\n",
    "#     Embedding(input_dim=vocab_size, output_dim=embedding_dim, input_length=max_len),\n",
    "#     Bidirectional(GRU(128, return_sequences=True)),  # Using GRU layer\n",
    "#     Dropout(0.5),\n",
    "#     Bidirectional(GRU(64)),  # Using GRU layer\n",
    "#     Dense(64, activation='relu'),\n",
    "#     Dropout(0.5),\n",
    "#     Dense(len(label_encoder.classes_), activation='softmax')\n",
    "# ])\n",
    "\n",
    "# # Compile model\n",
    "# model.compile(loss='sparse_categorical_crossentropy', optimizer='adam', metrics=['accuracy'])\n",
    "\n",
    "# # Train model\n",
    "# model.fit(X_train, y_train, validation_data=(X_val, y_val), epochs=10, batch_size=32)\n",
    "\n",
    "# # Evaluate model\n",
    "# test_loss, test_acc = model.evaluate(X_test, y_test)\n",
    "# print(f\"Test Accuracy: {test_acc:.4f}\")\n"
   ]
  },
  {
   "cell_type": "code",
   "execution_count": null,
   "metadata": {
    "id": "kGSeGxDJJkhl"
   },
   "outputs": [],
   "source": [
    "# import pandas as pd\n",
    "# import numpy as np\n",
    "# import tensorflow as tf\n",
    "# from tensorflow.keras.preprocessing.text import Tokenizer\n",
    "# from tensorflow.keras.preprocessing.sequence import pad_sequences\n",
    "# from tensorflow.keras.models import Sequential\n",
    "# from tensorflow.keras.layers import Embedding, Conv1D, LSTM, Bidirectional, GlobalMaxPooling1D, Dense, Dropout\n",
    "# from sklearn.preprocessing import LabelEncoder\n",
    "# from tensorflow.keras.utils import to_categorical\n",
    "# from sklearn.metrics import classification_report\n",
    "\n",
    "# # Tokenization\n",
    "# vocab_size = 5000  # Increased for better representation\n",
    "# tokenizer = Tokenizer(num_words=vocab_size, oov_token=\"<OOV>\")\n",
    "# tokenizer.fit_on_texts(df_train['Text'])\n",
    "\n",
    "# # Convert texts to sequences\n",
    "# df_train['text_sequences'] = tokenizer.texts_to_sequences(df_train['Text'])\n",
    "# df_test['text_sequences'] = tokenizer.texts_to_sequences(df_test['Text'])\n",
    "# df_val['text_sequences'] = tokenizer.texts_to_sequences(df_val['Text'])\n",
    "\n",
    "# # Padding\n",
    "# max_length = 100\n",
    "# df_train['padded_sequences'] = list(pad_sequences(df_train['text_sequences'], maxlen=max_length, padding='post'))\n",
    "# df_test['padded_sequences'] = list(pad_sequences(df_test['text_sequences'], maxlen=max_length, padding='post'))\n",
    "# df_val['padded_sequences'] = list(pad_sequences(df_val['text_sequences'], maxlen=max_length, padding='post'))\n",
    "\n",
    "# # Label Encoding\n",
    "# label_encoder = LabelEncoder()\n",
    "# df_train['label_encoded'] = label_encoder.fit_transform(df_train['Emotion'])\n",
    "# df_test['label_encoded'] = label_encoder.transform(df_test['Emotion'])\n",
    "# df_val['label_encoded'] = label_encoder.transform(df_val['Emotion'])\n",
    "\n",
    "# num_classes = len(label_encoder.classes_)\n",
    "\n",
    "# y_train = to_categorical(df_train['label_encoded'], num_classes=num_classes)\n",
    "# y_test = to_categorical(df_test['label_encoded'], num_classes=num_classes)\n",
    "# y_val = to_categorical(df_val['label_encoded'], num_classes=num_classes)\n",
    "\n",
    "# # Convert to NumPy arrays\n",
    "# X_train = np.array(df_train['padded_sequences'].tolist())\n",
    "# X_test = np.array(df_test['padded_sequences'].tolist())\n",
    "# X_val = np.array(df_val['padded_sequences'].tolist())\n",
    "\n",
    "# # Define CNN + BiLSTM Model\n",
    "# model = Sequential([\n",
    "#     Embedding(input_dim=10000, output_dim=128, input_length=100),\n",
    "#     Conv1D(filters=128, kernel_size=5, activation='relu'),\n",
    "#     # GlobalMaxPooling1D(),\n",
    "#     Bidirectional(LSTM(128, return_sequences=True)),\n",
    "#     GlobalMaxPooling1D(),\n",
    "#     Dense(128, activation='relu'),\n",
    "#     Dropout(0.5),\n",
    "#     Dense(6, activation='softmax')\n",
    "# ])\n",
    "\n",
    "# # Compile Model\n",
    "# model.compile(\n",
    "#     optimizer=tf.keras.optimizers.Adam(learning_rate=0.0005),\n",
    "#     loss='categorical_crossentropy',\n",
    "#     metrics=['accuracy']\n",
    "# )\n",
    "\n",
    "# # Train the Model\n",
    "# history = model.fit(\n",
    "#     X_train, y_train,\n",
    "#     validation_data=(X_val, y_val),\n",
    "#     epochs=10,\n",
    "#     batch_size=32,\n",
    "#     verbose=1\n",
    "# )\n",
    "\n",
    "# # Evaluate on test set\n",
    "# y_pred = model.predict(X_test)\n",
    "# y_pred_classes = np.argmax(y_pred, axis=1)\n",
    "# y_true_classes = np.argmax(y_test, axis=1)\n",
    "\n",
    "# # Generate F1-score report\n",
    "# report = classification_report(y_true_classes, y_pred_classes, target_names=label_encoder.classes_, output_dict=True)\n",
    "# f1_df = pd.DataFrame(report).transpose()\n",
    "# print(f1_df)"
   ]
  },
  {
   "cell_type": "code",
   "execution_count": null,
   "metadata": {
    "id": "RQab8TaeNGI3"
   },
   "outputs": [],
   "source": [
    "# import pandas as pd\n",
    "# import numpy as np\n",
    "# import tensorflow as tf\n",
    "# from tensorflow.keras.preprocessing.text import Tokenizer\n",
    "# from tensorflow.keras.preprocessing.sequence import pad_sequences\n",
    "# from tensorflow.keras.models import Sequential\n",
    "# from tensorflow.keras.layers import Embedding, Conv1D, GlobalMaxPooling1D, Dense, Dropout, BatchNormalization\n",
    "# from sklearn.preprocessing import LabelEncoder\n",
    "# from tensorflow.keras.utils import to_categorical\n",
    "# from sklearn.metrics import classification_report\n",
    "# from sklearn.model_selection import train_test_split\n",
    "\n",
    "# # Tokenization\n",
    "# vocab_size = 5000  # Keeping it optimal\n",
    "# max_length = 100\n",
    "# tokenizer = Tokenizer(num_words=vocab_size, oov_token=\"<OOV>\")\n",
    "\n",
    "# df_train['Text'] = df_train['Text'].str.lower()  # Normalize case\n",
    "# df_test['Text'] = df_test['Text'].str.lower()\n",
    "# df_val['Text'] = df_val['Text'].str.lower()\n",
    "\n",
    "# tokenizer.fit_on_texts(df_train['Text'])\n",
    "\n",
    "# # Convert texts to sequences\n",
    "# train_sequences = tokenizer.texts_to_sequences(df_train['Text'])\n",
    "# test_sequences = tokenizer.texts_to_sequences(df_test['Text'])\n",
    "# val_sequences = tokenizer.texts_to_sequences(df_val['Text'])\n",
    "\n",
    "# # Padding sequences\n",
    "# X_train = pad_sequences(train_sequences, maxlen=max_length, padding='post')\n",
    "# X_test = pad_sequences(test_sequences, maxlen=max_length, padding='post')\n",
    "# X_val = pad_sequences(val_sequences, maxlen=max_length, padding='post')\n",
    "\n",
    "# # Label Encoding\n",
    "# label_encoder = LabelEncoder()\n",
    "# y_train = label_encoder.fit_transform(df_train['Label'])\n",
    "# y_test = label_encoder.transform(df_test['Label'])\n",
    "# y_val = label_encoder.transform(df_val['Label'])\n",
    "\n",
    "# num_classes = len(label_encoder.classes_)\n",
    "# y_train = to_categorical(y_train, num_classes=num_classes)\n",
    "# y_test = to_categorical(y_test, num_classes=num_classes)\n",
    "# y_val = to_categorical(y_val, num_classes=num_classes)\n",
    "\n",
    "# # CNN Model with Additional Regularization\n",
    "# model = Sequential([\n",
    "#     Embedding(input_dim=vocab_size, output_dim=128, input_length=max_length),\n",
    "#     Conv1D(filters=256, kernel_size=5, activation='relu', padding='same'),\n",
    "#     BatchNormalization(),  # Helps with training stability\n",
    "#     GlobalMaxPooling1D(),\n",
    "#     Dense(128, activation='relu', kernel_regularizer=tf.keras.regularizers.L2(0.01)),  # L2 Regularization\n",
    "#     Dropout(0.5),  # Prevent overfitting\n",
    "#     Dense(num_classes, activation='softmax')\n",
    "# ])\n",
    "\n",
    "# # Compile with Learning Rate Scheduling\n",
    "# initial_learning_rate = 0.0005\n",
    "# lr_schedule = tf.keras.optimizers.schedules.ExponentialDecay(\n",
    "#     initial_learning_rate, decay_steps=1000, decay_rate=0.9, staircase=True\n",
    "# )\n",
    "# optimizer = tf.keras.optimizers.Adam(learning_rate=lr_schedule)\n",
    "\n",
    "# model.compile(\n",
    "#     optimizer=optimizer,\n",
    "#     loss='categorical_crossentropy',\n",
    "#     metrics=['accuracy']\n",
    "# )\n",
    "\n",
    "# # Early Stopping to prevent overfitting\n",
    "# early_stopping = tf.keras.callbacks.EarlyStopping(\n",
    "#     monitor='val_loss',\n",
    "#     patience=3,  # Stop training if val_loss doesn't improve for 3 epochs\n",
    "#     restore_best_weights=True\n",
    "# )\n",
    "\n",
    "# # Train the model\n",
    "# history = model.fit(\n",
    "#     X_train, y_train,\n",
    "#     validation_data=(X_val, y_val),\n",
    "#     epochs=15,\n",
    "#     batch_size=32,\n",
    "#     verbose=1,\n",
    "#     callbacks=[early_stopping]  # Added early stopping\n",
    "# )\n",
    "\n",
    "# # Evaluate on test set\n",
    "# y_pred = model.predict(X_test)\n",
    "# y_pred_classes = np.argmax(y_pred, axis=1)\n",
    "# y_true_classes = np.argmax(y_test, axis=1)\n",
    "\n",
    "# # Generate F1-score table\n",
    "# report = classification_report(y_true_classes, y_pred_classes, target_names=label_encoder.classes_, output_dict=True)\n",
    "# f1_df = pd.DataFrame(report).transpose()\n",
    "# print(f1_df)\n"
   ]
  }
 ],
 "metadata": {
  "accelerator": "GPU",
  "colab": {
   "gpuType": "T4",
   "provenance": []
  },
  "kernelspec": {
   "display_name": "Python 3 (ipykernel)",
   "language": "python",
   "name": "python3"
  },
  "language_info": {
   "codemirror_mode": {
    "name": "ipython",
    "version": 3
   },
   "file_extension": ".py",
   "mimetype": "text/x-python",
   "name": "python",
   "nbconvert_exporter": "python",
   "pygments_lexer": "ipython3",
   "version": "3.13.5"
  }
 },
 "nbformat": 4,
 "nbformat_minor": 4
}
